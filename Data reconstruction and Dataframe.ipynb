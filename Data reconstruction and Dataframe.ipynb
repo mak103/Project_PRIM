{
 "cells": [
  {
   "cell_type": "code",
   "execution_count": 1,
   "metadata": {
    "collapsed": true
   },
   "outputs": [],
   "source": [
    "import bson \n",
    "import json\n",
    "import numpy as np\n",
    "import pandas as pd\n",
    "import time\n",
    "import sys\n",
    "import scipy.sparse\n",
    "import pickle\n",
    "import sys\n",
    "import re"
   ]
  },
  {
   "cell_type": "code",
   "execution_count": 2,
   "metadata": {
    "collapsed": true
   },
   "outputs": [],
   "source": [
    "from tqdm import tqdm_notebook as tqdm\n",
    "import time\n",
    "from mtranslate import translate\n",
    "from langdetect import detect\n",
    "from langdetect import detect_langs\n",
    "from numba import njit\n",
    "from functools import wraps\n",
    "import cProfile"
   ]
  },
  {
   "cell_type": "code",
   "execution_count": 3,
   "metadata": {
    "collapsed": true
   },
   "outputs": [],
   "source": [
    "with open(\"linkedin_db/profile.bson\",'rb') as f: \n",
    "    data_profile = bson.decode_all(f.read()) \n",
    "    f.close()"
   ]
  },
  {
   "cell_type": "code",
   "execution_count": 4,
   "metadata": {
    "collapsed": true
   },
   "outputs": [],
   "source": [
    "with open(\"linkedin_db/skill.bson\",'rb') as f: \n",
    "    data_skill = bson.decode_all(f.read()) \n",
    "    f.close()"
   ]
  },
  {
   "cell_type": "code",
   "execution_count": 4,
   "metadata": {},
   "outputs": [
    {
     "name": "stderr",
     "output_type": "stream",
     "text": [
      "D:\\anaconda2\\lib\\site-packages\\gensim\\utils.py:1212: UserWarning: detected Windows; aliasing chunkize to chunkize_serial\n",
      "  warnings.warn(\"detected Windows; aliasing chunkize to chunkize_serial\")\n"
     ]
    }
   ],
   "source": [
    "f2 = open(\"all_top_skills_final_fre.txt\",\"rb\")\n",
    "fre_save = pickle.load(f2)\n",
    "f2.close()\n",
    "f2 = open(\"after_delete_keysave.txt\",\"rb\")\n",
    "key_save = pickle.load(f2)\n",
    "f2.close()\n",
    "f= file('word2vec_model_allskills', 'rb')\n",
    "word2vec=pickle.load(f)"
   ]
  },
  {
   "cell_type": "code",
   "execution_count": 4,
   "metadata": {},
   "outputs": [
    {
     "name": "stderr",
     "output_type": "stream",
     "text": [
      "D:\\anaconda2\\lib\\site-packages\\gensim\\utils.py:1212: UserWarning: detected Windows; aliasing chunkize to chunkize_serial\n",
      "  warnings.warn(\"detected Windows; aliasing chunkize to chunkize_serial\")\n"
     ]
    }
   ],
   "source": [
    "f2 = open(\"all_top_skills_final_key_backup.txt\",\"rb\")\n",
    "fre_save = pickle.load(f2)\n",
    "f2.close()\n",
    "f2 = open(\"all_top_skills_final_fre_backup.txt\",\"rb\")\n",
    "key_save = pickle.load(f2)\n",
    "f2.close()\n",
    "f= file('word2vec_model_allskills', 'rb')\n",
    "word2vec=pickle.load(f)"
   ]
  },
  {
   "cell_type": "code",
   "execution_count": 37,
   "metadata": {
    "collapsed": true
   },
   "outputs": [],
   "source": [
    "f2 = open(\"similiarty.txt\",\"rb\")\n",
    "uni1 = pickle.load(f2)\n",
    "f2.close()\n",
    "f2 = open(\"less_similiarty.txt\",\"rb\")\n",
    "uni2 = pickle.load(f2)\n",
    "f2.close()\n",
    "f2 = open(\"simi_order.txt\",\"rb\")\n",
    "simi_ana = pickle.load(f2)\n",
    "f2.close()"
   ]
  },
  {
   "cell_type": "code",
   "execution_count": 8,
   "metadata": {},
   "outputs": [
    {
     "name": "stdout",
     "output_type": "stream",
     "text": [
      "6855\n",
      "6806\n"
     ]
    }
   ],
   "source": [
    "print len(fre_save)\n",
    "print len(key_save)"
   ]
  },
  {
   "cell_type": "code",
   "execution_count": 71,
   "metadata": {},
   "outputs": [
    {
     "data": {
      "application/vnd.jupyter.widget-view+json": {
       "model_id": "0f12364902ee4091942ca7b1487b70ac",
       "version_major": 2,
       "version_minor": 0
      },
      "text/plain": [
       "A Jupyter Widget"
      ]
     },
     "metadata": {},
     "output_type": "display_data"
    },
    {
     "name": "stdout",
     "output_type": "stream",
     "text": [
      "\n"
     ]
    }
   ],
   "source": [
    "def all_lower(L1):\n",
    "    return [s.lower() for s in L1]\n",
    "\n",
    "def all_upper(L1):\n",
    "    return [s.upper() for s in L1]\n"
   ]
  },
  {
   "cell_type": "code",
   "execution_count": 73,
   "metadata": {},
   "outputs": [
    {
     "data": {
      "application/vnd.jupyter.widget-view+json": {
       "model_id": "20d8d61e42b94f9494c539379b3497d2",
       "version_major": 2,
       "version_minor": 0
      },
      "text/plain": [
       "A Jupyter Widget"
      ]
     },
     "metadata": {},
     "output_type": "display_data"
    },
    {
     "name": "stdout",
     "output_type": "stream",
     "text": [
      "\n",
      "269.745390933\n"
     ]
    }
   ],
   "source": [
    "########################################################################\n",
    "# data reconstruction(top skills):merge,translate,delete and so on\n",
    "##########################################################################\n",
    "\n",
    "Key_save,Fre_save = {},{}\n",
    "start = time.clock()\n",
    "#for i in tqdm(range(len(data_profile))):\n",
    "for i in tqdm(range(0,100)):\n",
    "    if 'skills' in (data_profile[i].keys()):\n",
    "        for skills_divided in (data_profile[i]['skills']):                        \n",
    "            #for title in skill_titlt:\n",
    "                  #if skills_divided['title'] in skill_titlt:\n",
    "            for j in (range(len(skills_divided['skills']))):\n",
    "                #print skills_divided['skills'][j]['title']\n",
    "                #print '\\n'\n",
    "                ty_lang = detect(skills_divided['skills'][j]['title']).encode('unicode-escape').decode('string_escape')\n",
    "                ################################ so so so inaccurate for detect\n",
    "                if ty_lang != 'en':\n",
    "                    to_translate = skills_divided['skills'][j]['title'].encode('utf-8')\n",
    "                    #result = translate(to_translate,'en',ty_lang).lower().replace(' ','_')\n",
    "                    result = translate(to_translate).lower().replace(' ','_')\n",
    "                    ###################### no change for wrong spelling\n",
    "                    if '\\\\' in repr(result):\n",
    "                        result = translate(to_translate,'en',ty_lang).lower().replace(' ','_')\n",
    "\n",
    "                else:\n",
    "                    result = skills_divided['skills'][j]['title'].lower().replace(' ','_')    \n",
    "                if result in (Key_save.keys()):\n",
    "                    if skills_divided['skills'][j]['title'] not in Key_save[result]:\n",
    "                        Key_save[result].append(skills_divided['skills'][j]['title']) \n",
    "                    Fre_save[result] += 1\n",
    "                    '''\n",
    "                    if title == u'Top Skills':\n",
    "                        Fre_save[result] += 1 \n",
    "                    else:\n",
    "                        Fre_save[result] += 0.5\n",
    "                    '''\n",
    "                else:\n",
    "                    Key_save[result] = [skills_divided['skills'][j]['title']]\n",
    "                    Fre_save[result] =1  \n",
    "\n",
    "''' \n",
    "if skills_divided['title'] ==  u'Connaissances du secteur' :\n",
    "    for j in (range(len(skills_divided['skills']))):\n",
    "        #print skills_divided['skills'][j]['title']\n",
    "        #print '\\n'\n",
    "        ty_lang = detect(skills_divided['skills'][j]['title']).encode('unicode-escape').decode('string_escape')\n",
    "        ################################ so so so inaccurate for detect\n",
    "        if ty_lang != 'en':\n",
    "            to_translate = skills_divided['skills'][j]['title'].encode('utf-8')\n",
    "            #result = translate(to_translate,'en',ty_lang).lower().replace(' ','_')\n",
    "            result = translate(to_translate).lower().replace(' ','_')\n",
    "            ###################### no change for wrong spelling\n",
    "            if '\\\\' in result:\n",
    "                result = translate(to_translate,'en',ty_lang).lower().replace(' ','_')\n",
    "\n",
    "        else:\n",
    "            result = skills_divided['skills'][j]['title'].lower().replace(' ','_')    \n",
    "        if result in (key_save.keys()):\n",
    "            if skills_divided['skills'][j]['title'] not in key_save[result]:\n",
    "                key_save[result].append(skills_divided['skills'][j]['title'])\n",
    "            fre_save[result] +=1                   \n",
    "        else:\n",
    "            key_save[result] = [skills_divided['skills'][j]['title']]\n",
    "            fre_save[result] =1 \n",
    "'''  \n",
    "\n",
    "print(time.clock()-start)"
   ]
  },
  {
   "cell_type": "code",
   "execution_count": 7,
   "metadata": {
    "collapsed": true
   },
   "outputs": [],
   "source": [
    "def levenshtein1(source, target):\n",
    "    if len(source) < len(target):\n",
    "        return levenshtein1(target, source)\n",
    " \n",
    "    # So now we have len(source) >= len(target).\n",
    "    if len(target) == 0:\n",
    "        return len(source)\n",
    "    source = numpy.array(tuple(source))\n",
    "    target = numpy.array(tuple(target))\n",
    " \n",
    "    # We use a dynamic programming algorithm, but with the\n",
    "    # added optimization that we only need the last two rows\n",
    "    # of the matrix.\n",
    "    previous_row = numpy.arange(target.size + 1)\n",
    "    for s in source:\n",
    "        # Insertion (target grows longer than source):\n",
    "        current_row = previous_row + 1\n",
    " \n",
    "        # Substitution or matching:\n",
    "        # Target and source items are aligned, and either\n",
    "        # are different (cost of 1), or are the same (cost of 0).\n",
    "        current_row[1:] = numpy.minimum(\n",
    "                current_row[1:],\n",
    "                numpy.add(previous_row[:-1], target != s))\n",
    " \n",
    "        # Deletion (target grows shorter than source):\n",
    "        current_row[1:] = numpy.minimum(\n",
    "                current_row[1:],\n",
    "                current_row[0:-1] + 1)\n",
    "        previous_row = current_row\n",
    "    return previous_row[-1]\n",
    " \n",
    "def levenshtein2(s1, s2):\n",
    "    if len(s1) < len(s2):\n",
    "        return levenshtein2(s2, s1)\n",
    " \n",
    "    # len(s1) >= len(s2)\n",
    "    if len(s2) == 0:\n",
    "        return len(s1)\n",
    " \n",
    "    previous_row = range(len(s2) + 1)\n",
    "    for i, c1 in enumerate(s1):\n",
    "        current_row = [i + 1]\n",
    "        for j, c2 in enumerate(s2):\n",
    "            insertions = previous_row[j + 1] + 1 # j+1 instead of j since previous_row and current_row are one character longer\n",
    "            deletions = current_row[j] + 1       # than s2\n",
    "            substitutions = previous_row[j] + (c1 != c2)\n",
    "            current_row.append(min(insertions, deletions, substitutions))\n",
    "        previous_row = current_row\n",
    " \n",
    "    return previous_row[-1]\n",
    " \n",
    "def levenshtein3(s, t):\n",
    "        if s == t: return 0\n",
    "        elif len(s) == 0: return len(t)\n",
    "        elif len(t) == 0: return len(s)\n",
    "        v0 = [None] * (len(t) + 1)\n",
    "        v1 = [None] * (len(t) + 1)\n",
    "        for i in range(len(v0)):\n",
    "            v0[i] = i\n",
    "        for i in range(len(s)):\n",
    "            v1[0] = i + 1\n",
    "            for j in range(len(t)):\n",
    "                cost = 0 if s[i] == t[j] else 1\n",
    "                v1[j + 1] = min(v1[j] + 1, v0[j + 1] + 1, v0[j] + cost)\n",
    "            for j in range(len(v0)):\n",
    "                v0[j] = v1[j]\n",
    " \n",
    "        return v1[len(t)]\n",
    " \n",
    "\n"
   ]
  },
  {
   "cell_type": "code",
   "execution_count": 85,
   "metadata": {},
   "outputs": [
    {
     "data": {
      "application/vnd.jupyter.widget-view+json": {
       "model_id": "c1a79495baa94f8197ad14ebb57142fa",
       "version_major": 2,
       "version_minor": 0
      },
      "text/plain": [
       "A Jupyter Widget"
      ]
     },
     "metadata": {},
     "output_type": "display_data"
    },
    {
     "name": "stdout",
     "output_type": "stream",
     "text": [
      "\n"
     ]
    }
   ],
   "source": [
    "############################################\n",
    "# to judge the edit distance between 2 words\n",
    "############################################\n",
    "uni1,uni2,uni3 = [],[],[]\n",
    "simi_ana = []\n",
    "order = 0\n",
    "#m,n,save,order= 0,0,0,0\n",
    "#save_value = np.zeros(len(test)*len(test)).reshape(len(test),len(test))\n",
    "for key1,value1 in tqdm(key_sort[:3000]):\n",
    "    for key2,value2 in key_sort[order+1:3000]:\n",
    "        '''\n",
    "        group_1 = key1.split()\n",
    "        group_2 = key2.split()\n",
    "        len1 = len(group_1)\n",
    "        len2 = len(group_2)\n",
    "        for i in range(len1):\n",
    "            ratio = 200\n",
    "            for j in range(len2):\n",
    "                save = ratio\n",
    "                ratio = levenshtein3(group_1[i],group_2[j])   ##/(np.mean([len(group_1[i]),len(group_2[j])]))\n",
    "                minim = min(save,ratio)\n",
    "            mini.append(minim) \n",
    "        result = sum(mini)/(np.mean([len(key1),len(key2)]))\n",
    "        mini=[]\n",
    "        '''\n",
    "        result = levenshtein3(key1,key2)/(np.mean([len(key1),len(key2)]))\n",
    "        #m += 1\n",
    "    #n += 1 \n",
    "    #save_value[n][m] = result\n",
    "        if result <0.1:\n",
    "            #sum_value = test[key1] + test[key2]\n",
    "            #select[unit] = sum_value\n",
    "            uni1.append( ' '.join([key1,key2]))\n",
    "        if 0.1 <= result <0.2:\n",
    "            #sum_value = test[key1] + test[key2]\n",
    "            #select[unit] = sum_value\n",
    "            uni2.append( ' '.join([key1,key2]))\n",
    "        if 0.2 <=result <0.3:\n",
    "            #sum_value = test[key1] + test[key2]\n",
    "            #select[unit] = sum_value\n",
    "            uni3.append( ' '.join([key1,key2]))\n",
    "        \n",
    "        if key1 in key2 or key2 in key1:\n",
    "            if np.mean([len(key1),len(key2)])>=9.5:\n",
    "                '''\n",
    "                aa=[a[i] for i in range(len(key1))]\n",
    "                bb=[b[i] for i in range(len(key2))]\n",
    "                diff = max(len(aa),len(bb)) -  min(len(aa),len(bb))\n",
    "                (longer, shorter) = (aa,bb) if len(aa) >= len(bb) else (bb,aa)\n",
    "                if len(longer-shorter) == diff:\n",
    "                    simi_ana.append(' '.join([key1,key2]))\n",
    "                '''\n",
    "                if np.abs(len(key1) - len(key2))<= 3:\n",
    "                    simi_ana.append(' '.join([key1,key2]))\n",
    "                \n",
    "    order+=1\n",
    "\n",
    "'''      \n",
    "ratio = levenshtein_distance(key1,key2)/(np.mean([len(key1),len(key2)]))\n",
    "a = wn.synset('Defense.n.01')\n",
    "b = wn.synset('security.n.01')\n",
    "score = a.path_similarity(b)\n",
    "'''        "
   ]
  },
  {
   "cell_type": "code",
   "execution_count": null,
   "metadata": {
    "collapsed": true
   },
   "outputs": [],
   "source": [
    "###################################################################################\n",
    "# choose out the skills which are almost same ant merge them by distance functioin\n",
    "#################################################################################\n",
    "\n",
    "for x in tqdm(skill_choosen):\n",
    "    [key1,key2] = x.split()\n",
    "    if key1 in key_save.keys() and key2 in key_save.keys():\n",
    "    # in case we have alreday deleted the key eralier\n",
    "        if fre_save[key1] >= fre_save[key2]:\n",
    "            key_save[key1] += key_save[key2]\n",
    "            fre_save[key1] += fre_save[key2]\n",
    "            del key_save[key2]\n",
    "            del fre_save[key2]\n",
    "        else:\n",
    "            key_save[key2] += key_save[key1]\n",
    "            fre_save[key2] += fre_save[key1]\n",
    "            del key_save[key1]\n",
    "            del fre_save[key1]\n",
    "    else:\n",
    "        print (key1,key2)\n",
    "    "
   ]
  },
  {
   "cell_type": "code",
   "execution_count": 46,
   "metadata": {
    "collapsed": true
   },
   "outputs": [],
   "source": [
    "skill_choosen=[u'recruitment recruitments',\n",
    " u'business_development business_developement',\n",
    " u'machine_learning machine-learning',\n",
    " u'financial_analysis financial_analyses',\n",
    " u'negotiation negociation',\n",
    " #u'pack_office back_office',\n",
    " u'software_development software_developpment',\n",
    " u'data_mining datamining',\n",
    " u'architecture architectures',\n",
    " u'systems_engineering system_engineering',\n",
    " u'embedded_systems embedded_system',\n",
    " u'financial_modeling financial_modelling',\n",
    " u'operations_management operational_management',\n",
    " u'mathematics mathematica',\n",
    " u'internal_controls internal_control',\n",
    " u'internal_communications internal_communication',\n",
    " u'asset_management asset_managment',\n",
    " u'visual_basic_pour_applications_(vba) visual_basic_for_applications_(vba)',\n",
    " u'financial_audits financial_audit',\n",
    " u'capital_markets capital_market',\n",
    " u'crisis_communication crisis_communications',\n",
    " u'international_sales international_sale',\n",
    " u'business_objects business_object',\n",
    " u'business_objects businessobjects',\n",
    " u'virtualisation virtualization',\n",
    " u'materials_science material_science',\n",
    " u'political_sciences political_science',\n",
    " u'restaurant restaurants',\n",
    " u'optimization optimisation',\n",
    " u'information_system information_systems',\n",
    " u'web_marketing webmarketing',\n",
    " u'semiconductors semiconductor',\n",
    " u'cyber-security cybersecurity',\n",
    " u'life_sciences lifesciences',\n",
    " u'data_visualization data_visualisation',\n",
    " u'human_resources_development human_resource_development',\n",
    " u'anti_money_laundering anti-money_laundering',\n",
    " u'medical_device medical_devices',\n",
    " u'system_administrator system_administration',\n",
    " u'problem_solving problems_solving',\n",
    " u'aerodynamics aerodynamic',\n",
    " u'railway_signalling railway_signaling',\n",
    " u'electricity_markets electricity_market',\n",
    " u'commercial commercials',\n",
    " u'fundraising fund_raising',\n",
    " u'system_architecture systems_architecture',\n",
    " u'head_hunter head-hunter',\n",
    " u'user-centered_design user_centered_design',\n",
    " u'press_releases press_release',\n",
    " u'payment_systems payment_system',\n",
    " u'security_audits security_audit',\n",
    " u'thermodynamics thermodynamic',\n",
    " #u'btob_marketing btoc_marketing', @@@@@@@@@@@@@@@@@@@@@@@@@@@@@@@@@@@@@@@@@@@@@@@@@@@@@@@@@@@@@@@@@@@@@@@@\n",
    " u'human_resource_management human_resources_management',\n",
    " u'ohsas_18001 ohsas18001',\n",
    " u'functional_programming functional-programming',\n",
    " u'informatica informatics',\n",
    " u'scikit-learn scikit_learn',\n",
    " u'design_pattern design_patterns',\n",
    " u'call_centers call_center',\n",
    " u'neuroscience neurosciences',\n",
    " u'import-export import_export',\n",
    " u'checkpoint check_point',\n",
    " u'government governments',\n",
    " u'photovoltaic photovoltaics',\n",
    " #u'r_programming c_programming',\n",
    " u'linguistic linguistics',\n",
    " #u'external_communication internal_communication',\n",
    " u'railway_operations railway_operation',\n",
    "              \n",
    "              \n",
    "              \n",
    "              \n",
    "              \n",
    "              \n",
    " #u'project_management process_management',\n",
    " #u'project_management hr_project_management',####################################  merge？？？？？？？？？？？？？？？？？？\n",
    " #u'project_management property_management',\n",
    " #u'team_management lean_management',\n",
    " #u'team_management test_management',\n",
    " #u'python cython',\n",
    " u'finance finances',\n",
    " u'social_networks social_networking',\n",
    " u'teamwork team_work',\n",
    " u'marketing_communications marketing_et_communication',\n",
    " u'data_analysis data_analyst',\n",
    " #u'event_management talent_management',\n",
    " #u'event_management revenue_management',\n",
    " #u'event_management test_management',\n",
    " #u'event_management fleet_management',\n",
    " u'statistics statistical',\n",
    " #u'corporate_law corporate_tax',\n",
    " #u'talent_management sales_management',\n",
    " #u'talent_management test_management',\n",
    " #u'talent_management fleet_management',\n",
    " u'entrepreneurship intrapreneurship',\n",
    " u'achats achat',\n",
    " #u'it_strategy hr_strategy',\n",
    " u'renewable_energy renewable_energies',\n",
    " #u'contract_management content_management',\n",
    " #u'contract_management conflict_management',\n",
    " u'procurement e-procurement',\n",
    " #u'transportation transformation',\n",
    " #u'mechanical_engineering chemical_engineering',\n",
    " #u'international_relations international_taxation',\n",
    " #u'sales_management water_management',\n",
    " #u'sales_management skills_management',\n",
    " #u'sales_management stress_management',\n",
    " u'business_analysis business_analytics',\n",
    " u'business_analysis business_analyst',\n",
    " u'it_service_management service_management',\n",
    " u'it_service_management guest_service_management',\n",
    " u'start-ups startups',\n",
    " #u'project_engineering process_engineering',\n",
    " u'budgets budget',\n",
    " u'node.js nodejs',\n",
    " u'operations_management it_operations_management',\n",
    " u'litigation mitigation',       ########################## wrong spelling\n",
    " u'intellectual_property intellectual_property_law',\n",
    " #u'programming r_programming',\n",
    " #u'programming c_programming',\n",
    " u'web_design webdesign',\n",
    " #u'internal_audit external_audit',######################################################################\n",
    " #u'it_management hr_management',\n",
    " #u'it_management bid_management',\n",
    " u'sport sports',\n",
    " #u'cash_management waste_management',\n",
    " #u'programmation_web programmation_sas',\n",
    " #u'internal_communications external_communication',  ##############################################################\n",
    " #u'asset_management waste_management',\n",
    " #u'asset_management test_management',\n",
    " #u'asset_management fleet_management',\n",
    " #u'wealth_management waste_management',\n",
    " u'railway railways',\n",
    " #u'commercial_litigation commercial_animation',\n",
    " #u'innovation_management information_management',\n",
    " #u'international_business international_business_law', ################################################################\n",
    " #u'policy police',\n",
    " #u'lean_management brand_management',\n",
    " #u'lean_management fleet_management',\n",
    " #u'lean_management demand_management',\n",
    " u'photographie photography',\n",
    " u'defense defence',\n",
    " u'analysis analyses',\n",
    " #u'web_project_management hr_project_management',\n",
    " #u'web_project_management event_project_management',\n",
    " u'symfony symfony2',\n",
    " #u'international_law international_tax',\n",
    " #u'international_law international_sale',\n",
    " #'international_law international_m&a',\n",
    " #u'international_project_management operational_project_management',\n",
    " u'robotics cobotics',        ############################################# wrong spelling\n",
    " #u'prospection protection',\n",
    " #u'video_production radio_production',#######################################################\n",
    " u'business_process business_processes',\n",
    " #u'energy_management general_management',\n",
    " u'illustrator illustration',\n",
    " u'cross-functional_team_leadership multifunctional_team_leadership',\n",
    " #u'staff_management store_management',\n",
    " #u'staff_management turf_management',\n",
    " u'finance_management financial_management',\n",
    " #u'hotel_management water_management',\n",
    " #u'hotel_management soil_management',\n",
    " u'hotel hotels',\n",
    " u'real_estate_development real_estate_developer',\n",
    " u'supply_management supplies_management',\n",
    " u'j2ee_application_development web_application_development',  #@@@@@@@@@@@@@@@@@@@@@@@@@@@@@@@@@@@@@@@@@@@@@@@@@@@@@@@@@\n",
    " u'j2ee_application_development agile_application_development',  #######################################################\n",
    " #u'business_law business_plan',\n",
    " u'business_process_improvement business_process_management',\n",
    " u'angular angular2',\n",
    " u'angular angular4',              \n",
    " u'artistic_direction artistic_director',\n",
    " #u'international_marketing operational_marketing', ##################################\n",
    " #u'commissioning decommissioning',\n",
    " u'customer_relations customer_relationship',\n",
    " u'design desig',              #################################################wrtong spelling\n",
    " u'analytics analytic',\n",
    " u'technical_recruiting technical_recruitment',\n",
    " u'product_manager project_manager',\n",
    " #u'procurement_management document_management',\n",
    " u'project_finance project_financing',\n",
    " u'cosmetics cosmetic',\n",
    " #u'ux_design ui_design', #######################################################\n",
    " #u'organic_chemistry inorganic_chemistry',\n",
    " u'maintenance_and_repair maintenance_&_repair',\n",
    " u'signaling signalling',\n",
    " u'medical_devices biomedical_devices',\n",
    " #u'sap_bw sap_bi',##################################\n",
    " u'operations_research operational_research',\n",
    " u'creativity creativit\\xe9',\n",
    " u'iso_9001 iso_9000', ######################\n",
    " u'iso_27001 iso_27005',############################################\n",
    " #u'hr_transformation it_transformation',\n",
    " #u'hr_transformation transformation',\n",
    " #u'visual_communication digital_communication',\n",
    " u'java_se java_ee',       #################################################\n",
    " u'java_se javase',\n",
    " #u'c_language c++_language', ##########################\n",
    " u'health_services it_health_services',  ######################################\n",
    " u'commercial_banking commercial_bank',\n",
    " u'employer_brand employer_branding',\n",
    " #u'system_administration server_administration',\n",
    " #u'time_management store_management',\n",
    " #u'time_management sme_management',\n",
    " #u'international_trade international_tax',\n",
    " u'international_trade international_sale',\n",
    " u'purchase_management purchasing_management',\n",
    " u'facilities_management facility_management',\n",
    " u'hp_quality_center quality_center',    ########################################interesting          \n",
    " u'java_ee java_jee',  ###################################################\n",
    " #u'career_management water_management',\n",
    " #u'career_management order_management',\n",
    " u'textile textiles',\n",
    " #u'brand_management demand_management',\n",
    " u'windows_7 windows_8',\n",
    " u'fine_arts fine_art',\n",
    " #u'it_transformation transformation',\n",
    " #u'data_management water_management',\n",
    " #u'data_management waste_management',\n",
    " #u'water_management waste_management',\n",
    " #u'water_management order_management',\n",
    " #u'sports_management store_management',\n",
    " #u'financial_management it_financial_management',\n",
    " u'catia_v5 catia_v6',\n",
    " #u'transformation transformation_rh',\n",
    " u'human_relations human_relationship',\n",
    " u'angular_4 angular_2',\n",
    " u'angular_4 angular_5',\n",
    " #u'international_tax international_sale',##########################################\n",
    " #u'international_tax international_m&a',\n",
    " #u'waste_management test_management',\n",
    " u'symfony2 symfony_2',\n",
    " u'safety_management_systems security_management_systems',\n",
    " #u'drilling_engineering building_engineering',\n",
    " u'java_j2ee java_jee',\n",
    " #u'architectures architecture_si',\n",
    " #u'web_application_development agile_application_development',###############################################\n",
    " u'composite composites',\n",
    " u'key_performance_indicators performance_indicators',\n",
    " #u'skills_management soil_management',\n",
    " #u'store_management stress_management',\n",
    " #u'store_management turf_management',\n",
    " #u'store_management soil_management',\n",
    " u'pipeline pipelines',\n",
    " #u'requirements_management equipment_management',\n",
    " u'application_security web_application_security',\n",
    " u'application_security applicative_security',\n",
    " u'acoustics acoustic',\n",
    " u'programmation programmatic',\n",
    " #u'bid_management r&d_management',\n",
    " #u'sas_programming java_programming', ################################\n",
    " u'angular_2 angular_5',\n",
    " u'angular_2 angular2',\n",
    " #u'test_management stress_management',\n",
    " #u'test_management fleet_management',\n",
    " u'struts struts2',\n",
    " #u'business_creation business_relations',\n",
    " #u'training_management learning_management',\n",
    " u'handicap handicaps',\n",
    " #u'ios_development site_development',\n",
    " u'rail_operations railway_operations',\n",
    " u'predictive_analytics predictive_analysis',\n",
    " #u'architecture_si architecture_arm',\n",
    " #u'rail_transport air_transport', @@@@@@@@@@@@@@@@@@@@@@@@@@@@@@@@@@@@@@@@@@@@@@@@@@@@@@@@@@@@@@@@@@@@@@@@@@@@@@@@\n",
    " u'java/jee java_jee',\n",
    " #u'executive_management delegative_management',\n",
    " #u'sap_fi sap_bi', ##########################################\n",
    " #u'commercial_aviation commercial_animation',\n",
    " u'business_object businessobjects',\n",
    " u'english_bilingual english_(bilingual)',\n",
    " #u'applications_web applications_php',\n",
    " #u'game_development site_development',\n",
    " #u'game_development api_development',\n",
    " #u'radioprotection radio_production',\n",
    " #u'facility_management mobility_management', @@@@@@@@@@@@@@@@@@@@@@@@@@@@@@@@@@@@@@@@@@@@@@@@@@@\n",
    " u'wireless_networking wireless_network',\n",
    " u'building_information_modeling_(bim) building_information_modeling',\n",
    " u'digital_signal_processing digital_signal_processors',\n",
    " u'genetic genetics',\n",
    " u'site_development website_development',\n",
    " #u'hr_software erp_software', ###################################企业管理人事管理软件\n",
    " u'buyer buyers',\n",
    " u'pharmaceutical pharmaceutics',\n",
    " u'musical_education music_education',\n",
    " #u'social_management soil_management',\n",
    " u'wireframe wireframes',\n",
    " u'engineer engineers',\n",
    " #u'p&l_management r&d_management'            \n",
    "              \n",
    "  \n",
    "               \n",
    "               \n",
    "#u'communication communication_rh',\n",
    " #u'security it_security',   @@@@@@@@@@@@@@@@@@@@@@@@@@@@@@@@@@@@@@@@@@@@@@@@@@@@@@@@@@@@@@@@@@@@@\n",
    " #u'hr_development development', @@@@@@@@@@@@@@@@@@@@@@@@@@@@@@@@@@@@@@@@@@@@@@@@@@@@@@@@@@@@@@@@@@@@@@@@@@\n",
    " #u'strategy it_strategy',  @@@@@@@@@@@@@@@@@@@@@@@@@@@@@@@@@@@@@@@@@@@@@@@@@@@@@@@@@@@@@@@@@@@\n",
    " u'private_bank private_banking',\n",
    " #u'politics geopolitics',\n",
    " u'outsourcing it_outsourcing',\n",
    " #u'television ip_television',\n",
    " #u'governance it_governance',\n",
    " #u'consulting consulting_rh',\n",
    " u'engineering engineer',\n",
    " u'management management_it',\n",
    " #u'bioinformatics informatics',\n",
    " #u'sourcing outsourcing',\n",
    " #u'chemistry biochemistry',\n",
    " u'recruitment it_recruitment',\n",
    " #u'strategy hr_strategy',\n",
    " u'retail_bank retail_banking',\n",
    " u'architecture architecture_si',\n",
    " u'management it_management',\n",
    " #u'hr_policies policies',\n",
    " u'derivatives fx_derivatives',\n",
    " u'modeling 3d_modeling',\n",
    " u'architecture it_architecture',\n",
    " #u'marketing webmarketing',\n",
    " #u'management hr_management',\n",
    " u'insurance reinsurance',\n",
    " u'team_work -_team_work',\n",
    " u'placement outplacement',\n",
    " u'consulting hr_consulting']"
   ]
  },
  {
   "cell_type": "code",
   "execution_count": 84,
   "metadata": {
    "collapsed": true
   },
   "outputs": [],
   "source": [
    "################################################\n",
    "#abnormal spell,wrong spell or wrong translation\n",
    "#################################################\n",
    "for x in key_save.keys():\n",
    "    if \"\\\\\" in repr(x):\n",
    "        #print repr(x)\n",
    "        #print translate(x.encode('unicode-escape').decode('string_escape'),'en','fr')\n",
    "        if fre_save[x]>1:\n",
    "            print fre_save[x]\n",
    "            print repr(x)"
   ]
  },
  {
   "cell_type": "code",
   "execution_count": 88,
   "metadata": {
    "collapsed": true,
    "scrolled": true
   },
   "outputs": [],
   "source": [
    "to_delete=[]\n",
    "for x in key_save.keys():\n",
    "    if \"\\\\\" in repr(x):\n",
    "        print repr(x)\n",
    "        to_delete.append(x)\n",
    "\n",
    "for x in tqdm(to_delete):\n",
    "    del key_save[x]\n",
    "    del fre_save[x]"
   ]
  },
  {
   "cell_type": "code",
   "execution_count": 5,
   "metadata": {},
   "outputs": [
    {
     "data": {
      "application/vnd.jupyter.widget-view+json": {
       "model_id": "f403ed02ae6940e3baa60899ea4c7122",
       "version_major": 2,
       "version_minor": 0
      },
      "text/plain": [
       "A Jupyter Widget"
      ]
     },
     "metadata": {},
     "output_type": "display_data"
    },
    {
     "name": "stderr",
     "output_type": "stream",
     "text": [
      "D:\\anaconda2\\lib\\site-packages\\ipykernel_launcher.py:3: DeprecationWarning: Call to deprecated `__contains__` (Method will be removed in 4.0.0, use self.wv.__contains__() instead).\n",
      "  This is separate from the ipykernel package so we can avoid doing imports until\n",
      "D:\\anaconda2\\lib\\site-packages\\ipykernel_launcher.py:4: DeprecationWarning: Call to deprecated `most_similar` (Method will be removed in 4.0.0, use self.wv.most_similar() instead).\n",
      "  after removing the cwd from sys.path.\n",
      "D:\\anaconda2\\lib\\site-packages\\gensim\\matutils.py:737: FutureWarning: Conversion of the second argument of issubdtype from `int` to `np.signedinteger` is deprecated. In future, it will be treated as `np.int32 == np.dtype(int).type`.\n",
      "  if np.issubdtype(vec.dtype, np.int):\n"
     ]
    },
    {
     "name": "stdout",
     "output_type": "stream",
     "text": [
      "\n"
     ]
    }
   ],
   "source": [
    "###########################################################\n",
    "#####10 most similar skills of each skill in key_save.keys()\n",
    "############################################################\n",
    "key2similar = {}\n",
    "for x in tqdm(key_save.keys()):\n",
    "    if x in word2vec:\n",
    "        key2similar[x] = [m[0] for m in word2vec.most_similar([x])]"
   ]
  },
  {
   "cell_type": "code",
   "execution_count": 35,
   "metadata": {},
   "outputs": [
    {
     "data": {
      "application/vnd.jupyter.widget-view+json": {
       "model_id": "5d5e0dc881024a70851134759d48804e",
       "version_major": 2,
       "version_minor": 0
      },
      "text/plain": [
       "A Jupyter Widget"
      ]
     },
     "metadata": {},
     "output_type": "display_data"
    },
    {
     "data": {
      "application/vnd.jupyter.widget-view+json": {
       "model_id": "6af98c7a9e104001bb46bb8eddbc815d",
       "version_major": 2,
       "version_minor": 0
      },
      "text/plain": [
       "A Jupyter Widget"
      ]
     },
     "metadata": {},
     "output_type": "display_data"
    },
    {
     "name": "stderr",
     "output_type": "stream",
     "text": [
      "D:\\anaconda2\\lib\\site-packages\\ipykernel_launcher.py:20: UnicodeWarning: Unicode equal comparison failed to convert both arguments to Unicode - interpreting them as being unequal\n"
     ]
    },
    {
     "data": {
      "application/vnd.jupyter.widget-view+json": {
       "model_id": "d32f41b93db74f1498a88abe552956f4",
       "version_major": 2,
       "version_minor": 0
      },
      "text/plain": [
       "A Jupyter Widget"
      ]
     },
     "metadata": {},
     "output_type": "display_data"
    },
    {
     "data": {
      "application/vnd.jupyter.widget-view+json": {
       "model_id": "778a7b7d32a14bd19a84aa9749228537",
       "version_major": 2,
       "version_minor": 0
      },
      "text/plain": [
       "A Jupyter Widget"
      ]
     },
     "metadata": {},
     "output_type": "display_data"
    },
    {
     "data": {
      "application/vnd.jupyter.widget-view+json": {
       "model_id": "396c016ba0904640884740ff07e5f99f",
       "version_major": 2,
       "version_minor": 0
      },
      "text/plain": [
       "A Jupyter Widget"
      ]
     },
     "metadata": {},
     "output_type": "display_data"
    },
    {
     "data": {
      "application/vnd.jupyter.widget-view+json": {
       "model_id": "3988ea5a62264d1e926b633c68b3c354",
       "version_major": 2,
       "version_minor": 0
      },
      "text/plain": [
       "A Jupyter Widget"
      ]
     },
     "metadata": {},
     "output_type": "display_data"
    },
    {
     "data": {
      "application/vnd.jupyter.widget-view+json": {
       "model_id": "85f2788f7d5844808047eb227e18f798",
       "version_major": 2,
       "version_minor": 0
      },
      "text/plain": [
       "A Jupyter Widget"
      ]
     },
     "metadata": {},
     "output_type": "display_data"
    },
    {
     "data": {
      "application/vnd.jupyter.widget-view+json": {
       "model_id": "daf6ba5ee5734862adc6c59089fbf28e",
       "version_major": 2,
       "version_minor": 0
      },
      "text/plain": [
       "A Jupyter Widget"
      ]
     },
     "metadata": {},
     "output_type": "display_data"
    },
    {
     "data": {
      "application/vnd.jupyter.widget-view+json": {
       "model_id": "167bec0c997c4a91b4118b3f0bbdc55e",
       "version_major": 2,
       "version_minor": 0
      },
      "text/plain": [
       "A Jupyter Widget"
      ]
     },
     "metadata": {},
     "output_type": "display_data"
    },
    {
     "data": {
      "application/vnd.jupyter.widget-view+json": {
       "model_id": "0a3df6a2d1f144079ef2da04b624be21",
       "version_major": 2,
       "version_minor": 0
      },
      "text/plain": [
       "A Jupyter Widget"
      ]
     },
     "metadata": {},
     "output_type": "display_data"
    },
    {
     "data": {
      "application/vnd.jupyter.widget-view+json": {
       "model_id": "10fbb0a4bfc1479fbb754e031713a4da",
       "version_major": 2,
       "version_minor": 0
      },
      "text/plain": [
       "A Jupyter Widget"
      ]
     },
     "metadata": {},
     "output_type": "display_data"
    },
    {
     "data": {
      "application/vnd.jupyter.widget-view+json": {
       "model_id": "a9411e8088634697a72b37a0403d09dd",
       "version_major": 2,
       "version_minor": 0
      },
      "text/plain": [
       "A Jupyter Widget"
      ]
     },
     "metadata": {},
     "output_type": "display_data"
    },
    {
     "data": {
      "application/vnd.jupyter.widget-view+json": {
       "model_id": "41cbb6f791ba4eac87f8fc4be34d9a2a",
       "version_major": 2,
       "version_minor": 0
      },
      "text/plain": [
       "A Jupyter Widget"
      ]
     },
     "metadata": {},
     "output_type": "display_data"
    },
    {
     "data": {
      "application/vnd.jupyter.widget-view+json": {
       "model_id": "e6d28824906a4bf5bf09c3472f2e6924",
       "version_major": 2,
       "version_minor": 0
      },
      "text/plain": [
       "A Jupyter Widget"
      ]
     },
     "metadata": {},
     "output_type": "display_data"
    },
    {
     "data": {
      "application/vnd.jupyter.widget-view+json": {
       "model_id": "e6d6a67a91a14d4eac8fb4769c6f85c1",
       "version_major": 2,
       "version_minor": 0
      },
      "text/plain": [
       "A Jupyter Widget"
      ]
     },
     "metadata": {},
     "output_type": "display_data"
    },
    {
     "data": {
      "application/vnd.jupyter.widget-view+json": {
       "model_id": "2311cc0e222946b58d6fee41ac29fcb7",
       "version_major": 2,
       "version_minor": 0
      },
      "text/plain": [
       "A Jupyter Widget"
      ]
     },
     "metadata": {},
     "output_type": "display_data"
    },
    {
     "data": {
      "application/vnd.jupyter.widget-view+json": {
       "model_id": "f231f71b3fae43dd97f72813a4af19ce",
       "version_major": 2,
       "version_minor": 0
      },
      "text/plain": [
       "A Jupyter Widget"
      ]
     },
     "metadata": {},
     "output_type": "display_data"
    },
    {
     "data": {
      "application/vnd.jupyter.widget-view+json": {
       "model_id": "20fcf3208cbe430fa265ad0f104bb6e0",
       "version_major": 2,
       "version_minor": 0
      },
      "text/plain": [
       "A Jupyter Widget"
      ]
     },
     "metadata": {},
     "output_type": "display_data"
    },
    {
     "data": {
      "application/vnd.jupyter.widget-view+json": {
       "model_id": "2816131c1a0a471fad5d57d417a5ca48",
       "version_major": 2,
       "version_minor": 0
      },
      "text/plain": [
       "A Jupyter Widget"
      ]
     },
     "metadata": {},
     "output_type": "display_data"
    },
    {
     "data": {
      "application/vnd.jupyter.widget-view+json": {
       "model_id": "28d35d0c79114a00819a4254e66a635d",
       "version_major": 2,
       "version_minor": 0
      },
      "text/plain": [
       "A Jupyter Widget"
      ]
     },
     "metadata": {},
     "output_type": "display_data"
    },
    {
     "data": {
      "application/vnd.jupyter.widget-view+json": {
       "model_id": "08ce067dfad443468fe7a9bc7f2746d9",
       "version_major": 2,
       "version_minor": 0
      },
      "text/plain": [
       "A Jupyter Widget"
      ]
     },
     "metadata": {},
     "output_type": "display_data"
    },
    {
     "data": {
      "application/vnd.jupyter.widget-view+json": {
       "model_id": "28c9bd487ba741979915332281c99771",
       "version_major": 2,
       "version_minor": 0
      },
      "text/plain": [
       "A Jupyter Widget"
      ]
     },
     "metadata": {},
     "output_type": "display_data"
    },
    {
     "data": {
      "application/vnd.jupyter.widget-view+json": {
       "model_id": "2ef66d2ac513464992dcc736c41d7491",
       "version_major": 2,
       "version_minor": 0
      },
      "text/plain": [
       "A Jupyter Widget"
      ]
     },
     "metadata": {},
     "output_type": "display_data"
    },
    {
     "data": {
      "application/vnd.jupyter.widget-view+json": {
       "model_id": "ccdc110bbcf34ef49c173f047324097f",
       "version_major": 2,
       "version_minor": 0
      },
      "text/plain": [
       "A Jupyter Widget"
      ]
     },
     "metadata": {},
     "output_type": "display_data"
    },
    {
     "data": {
      "application/vnd.jupyter.widget-view+json": {
       "model_id": "008fc7d21e22409d97cf7cbd49dff397",
       "version_major": 2,
       "version_minor": 0
      },
      "text/plain": [
       "A Jupyter Widget"
      ]
     },
     "metadata": {},
     "output_type": "display_data"
    },
    {
     "data": {
      "application/vnd.jupyter.widget-view+json": {
       "model_id": "5f180b556e1d49709c2cc3ccdc1d47e8",
       "version_major": 2,
       "version_minor": 0
      },
      "text/plain": [
       "A Jupyter Widget"
      ]
     },
     "metadata": {},
     "output_type": "display_data"
    },
    {
     "data": {
      "application/vnd.jupyter.widget-view+json": {
       "model_id": "4cec6bf4618e40bd914e4cac04e904cb",
       "version_major": 2,
       "version_minor": 0
      },
      "text/plain": [
       "A Jupyter Widget"
      ]
     },
     "metadata": {},
     "output_type": "display_data"
    },
    {
     "data": {
      "application/vnd.jupyter.widget-view+json": {
       "model_id": "9815c7d091254f7e9e00a4b107b4788c",
       "version_major": 2,
       "version_minor": 0
      },
      "text/plain": [
       "A Jupyter Widget"
      ]
     },
     "metadata": {},
     "output_type": "display_data"
    },
    {
     "data": {
      "application/vnd.jupyter.widget-view+json": {
       "model_id": "a3971dba191e4c6eac9863065a80553d",
       "version_major": 2,
       "version_minor": 0
      },
      "text/plain": [
       "A Jupyter Widget"
      ]
     },
     "metadata": {},
     "output_type": "display_data"
    },
    {
     "data": {
      "application/vnd.jupyter.widget-view+json": {
       "model_id": "9acebcec521c48b4813ef14e5053e3d8",
       "version_major": 2,
       "version_minor": 0
      },
      "text/plain": [
       "A Jupyter Widget"
      ]
     },
     "metadata": {},
     "output_type": "display_data"
    },
    {
     "data": {
      "application/vnd.jupyter.widget-view+json": {
       "model_id": "e11fa6f940724910bf3ba2cca387abd8",
       "version_major": 2,
       "version_minor": 0
      },
      "text/plain": [
       "A Jupyter Widget"
      ]
     },
     "metadata": {},
     "output_type": "display_data"
    },
    {
     "data": {
      "application/vnd.jupyter.widget-view+json": {
       "model_id": "4662158d9e5e4caab2dbf27d0a9ed983",
       "version_major": 2,
       "version_minor": 0
      },
      "text/plain": [
       "A Jupyter Widget"
      ]
     },
     "metadata": {},
     "output_type": "display_data"
    },
    {
     "data": {
      "application/vnd.jupyter.widget-view+json": {
       "model_id": "8aaa42f7528b4f2ea699456a80cc7c5b",
       "version_major": 2,
       "version_minor": 0
      },
      "text/plain": [
       "A Jupyter Widget"
      ]
     },
     "metadata": {},
     "output_type": "display_data"
    },
    {
     "data": {
      "application/vnd.jupyter.widget-view+json": {
       "model_id": "5982d73e75364aa0804d4a5392e1ef7c",
       "version_major": 2,
       "version_minor": 0
      },
      "text/plain": [
       "A Jupyter Widget"
      ]
     },
     "metadata": {},
     "output_type": "display_data"
    },
    {
     "data": {
      "application/vnd.jupyter.widget-view+json": {
       "model_id": "b209ce66c2624168900488def4d5f77d",
       "version_major": 2,
       "version_minor": 0
      },
      "text/plain": [
       "A Jupyter Widget"
      ]
     },
     "metadata": {},
     "output_type": "display_data"
    },
    {
     "data": {
      "application/vnd.jupyter.widget-view+json": {
       "model_id": "0a1075d5d7a9412f8ef51e8b64f30f07",
       "version_major": 2,
       "version_minor": 0
      },
      "text/plain": [
       "A Jupyter Widget"
      ]
     },
     "metadata": {},
     "output_type": "display_data"
    },
    {
     "data": {
      "application/vnd.jupyter.widget-view+json": {
       "model_id": "6ba2dc04d82a4fca8cc7e7b802c0b72e",
       "version_major": 2,
       "version_minor": 0
      },
      "text/plain": [
       "A Jupyter Widget"
      ]
     },
     "metadata": {},
     "output_type": "display_data"
    },
    {
     "data": {
      "application/vnd.jupyter.widget-view+json": {
       "model_id": "0dc4961e07064eacadcd3e5c66ccc4f3",
       "version_major": 2,
       "version_minor": 0
      },
      "text/plain": [
       "A Jupyter Widget"
      ]
     },
     "metadata": {},
     "output_type": "display_data"
    },
    {
     "data": {
      "application/vnd.jupyter.widget-view+json": {
       "model_id": "0568f028362f44869b214690207b2619",
       "version_major": 2,
       "version_minor": 0
      },
      "text/plain": [
       "A Jupyter Widget"
      ]
     },
     "metadata": {},
     "output_type": "display_data"
    },
    {
     "data": {
      "application/vnd.jupyter.widget-view+json": {
       "model_id": "554ba30e433445ca955085aba1c0be53",
       "version_major": 2,
       "version_minor": 0
      },
      "text/plain": [
       "A Jupyter Widget"
      ]
     },
     "metadata": {},
     "output_type": "display_data"
    },
    {
     "data": {
      "application/vnd.jupyter.widget-view+json": {
       "model_id": "9add265c3a4a4c8cb9e80a6a9020c955",
       "version_major": 2,
       "version_minor": 0
      },
      "text/plain": [
       "A Jupyter Widget"
      ]
     },
     "metadata": {},
     "output_type": "display_data"
    },
    {
     "data": {
      "application/vnd.jupyter.widget-view+json": {
       "model_id": "dd9e4718e08f4c8ca6eab0d5aec85343",
       "version_major": 2,
       "version_minor": 0
      },
      "text/plain": [
       "A Jupyter Widget"
      ]
     },
     "metadata": {},
     "output_type": "display_data"
    },
    {
     "data": {
      "application/vnd.jupyter.widget-view+json": {
       "model_id": "ceed344038864c30b5c80e17436371a6",
       "version_major": 2,
       "version_minor": 0
      },
      "text/plain": [
       "A Jupyter Widget"
      ]
     },
     "metadata": {},
     "output_type": "display_data"
    },
    {
     "data": {
      "application/vnd.jupyter.widget-view+json": {
       "model_id": "be647f3e0410473db1d0f778e92ccba9",
       "version_major": 2,
       "version_minor": 0
      },
      "text/plain": [
       "A Jupyter Widget"
      ]
     },
     "metadata": {},
     "output_type": "display_data"
    },
    {
     "data": {
      "application/vnd.jupyter.widget-view+json": {
       "model_id": "fd730166cb4b483582559c299056bf90",
       "version_major": 2,
       "version_minor": 0
      },
      "text/plain": [
       "A Jupyter Widget"
      ]
     },
     "metadata": {},
     "output_type": "display_data"
    },
    {
     "data": {
      "application/vnd.jupyter.widget-view+json": {
       "model_id": "e3d51630d8394255b590f2824e9d2a07",
       "version_major": 2,
       "version_minor": 0
      },
      "text/plain": [
       "A Jupyter Widget"
      ]
     },
     "metadata": {},
     "output_type": "display_data"
    },
    {
     "data": {
      "application/vnd.jupyter.widget-view+json": {
       "model_id": "3f0457675e804adeab763178b4439d46",
       "version_major": 2,
       "version_minor": 0
      },
      "text/plain": [
       "A Jupyter Widget"
      ]
     },
     "metadata": {},
     "output_type": "display_data"
    },
    {
     "data": {
      "application/vnd.jupyter.widget-view+json": {
       "model_id": "1fe7448502a5434ca23722e829e18978",
       "version_major": 2,
       "version_minor": 0
      },
      "text/plain": [
       "A Jupyter Widget"
      ]
     },
     "metadata": {},
     "output_type": "display_data"
    },
    {
     "data": {
      "application/vnd.jupyter.widget-view+json": {
       "model_id": "695e56a137bd4b2bace7793ce6dcf96e",
       "version_major": 2,
       "version_minor": 0
      },
      "text/plain": [
       "A Jupyter Widget"
      ]
     },
     "metadata": {},
     "output_type": "display_data"
    },
    {
     "data": {
      "application/vnd.jupyter.widget-view+json": {
       "model_id": "44d8e0808686437ab86a6081d78ae611",
       "version_major": 2,
       "version_minor": 0
      },
      "text/plain": [
       "A Jupyter Widget"
      ]
     },
     "metadata": {},
     "output_type": "display_data"
    },
    {
     "data": {
      "application/vnd.jupyter.widget-view+json": {
       "model_id": "ab65ce265ee64544bc705e7ee5b1b4ff",
       "version_major": 2,
       "version_minor": 0
      },
      "text/plain": [
       "A Jupyter Widget"
      ]
     },
     "metadata": {},
     "output_type": "display_data"
    },
    {
     "name": "stdout",
     "output_type": "stream",
     "text": [
      "\n",
      "3136.05829898\n"
     ]
    }
   ],
   "source": [
    "####################################################################\n",
    "#temporarily consider the top skills and the other\n",
    "####################################################################\n",
    "#@njit\n",
    "#def Df_maker(key_save,key2similar,data_profile):\n",
    "key_list = key_save.keys()\n",
    "df = pd.DataFrame(data=[],index=[],columns=key_list)\n",
    "start = time.clock()\n",
    "initia_rang = np.zeros(len(key_list))\n",
    "\n",
    "#for i in tqdm(range(len(data_profile))):\n",
    "for k in tqdm(range(0,80)):\n",
    "    for i in tqdm(range(500*k,500*k+500)):   \n",
    "        rang = np.zeros(len(key_list))     ########init_rang?????????????????????????????????????????????????????????????????????????????????????????????????????????????\n",
    "        if 'skills' in data_profile[i].keys():\n",
    "            for skills_divided in data_profile[i]['skills']:\n",
    "                if skills_divided['title'] == 'Top Skills':\n",
    "                    for j in ((range(len(skills_divided['skills'])))):\n",
    "                        for x in key_list:\n",
    "                            if skills_divided['skills'][j]['title'] in key_save[x]:\n",
    "                                index = key_list.index(x)             \n",
    "                                rang[index] = 1\n",
    "                                if x in key2similar:\n",
    "                                    mostsimi_skill = key2similar[x]\n",
    "                                for  simil_skill in mostsimi_skill:\n",
    "                                    if simil_skill in key_list:\n",
    "                                        index = key_list.index(simil_skill) \n",
    "                                        rang[index] += 0.75\n",
    "                else:\n",
    "                    for j in ((range(len(skills_divided['skills'])))):\n",
    "                        for x in key_list:\n",
    "                            if skills_divided['skills'][j]['title'] in key_save[x]:\n",
    "                                index = key_list.index(x)             \n",
    "                                rang[index] += 0.4                                                           \n",
    "        df.loc[i] = rang\n",
    "    df.to_csv(str(k)+'.csv')\n",
    "    df = pd.DataFrame(data=[],index=[],columns=key_list)\n",
    "print(time.clock()-start) \n",
    "#return df,time.clock()-start\n",
    "df.to_csv('df_skill.csv')"
   ]
  },
  {
   "cell_type": "code",
   "execution_count": 3,
   "metadata": {},
   "outputs": [],
   "source": [
    "df = pd.read_csv('df_skill.csv',index_col=0)"
   ]
  },
  {
   "cell_type": "code",
   "execution_count": 4,
   "metadata": {},
   "outputs": [
    {
     "data": {
      "text/html": [
       "<div>\n",
       "<table border=\"1\" class=\"dataframe\">\n",
       "  <thead>\n",
       "    <tr style=\"text-align: right;\">\n",
       "      <th></th>\n",
       "      <th>seo_copywriting</th>\n",
       "      <th>sme_management</th>\n",
       "      <th>business_finance</th>\n",
       "      <th>t_wood</th>\n",
       "      <th>business_relations</th>\n",
       "      <th>cobit</th>\n",
       "      <th>process_management</th>\n",
       "      <th>elevator_pitch</th>\n",
       "      <th>electricity</th>\n",
       "      <th>scheduling_of_production_workshops</th>\n",
       "      <th>...</th>\n",
       "      <th>english:_at_ease_in_a_professional_situation_with_technical_vocabulary</th>\n",
       "      <th>financial_mathematics</th>\n",
       "      <th>public_business_law</th>\n",
       "      <th>devops_-_continuous_integration</th>\n",
       "      <th>pumps</th>\n",
       "      <th>independent_living</th>\n",
       "      <th>debian</th>\n",
       "      <th>filter_planted_with_plants</th>\n",
       "      <th>sass</th>\n",
       "      <th>security_law</th>\n",
       "    </tr>\n",
       "  </thead>\n",
       "  <tbody>\n",
       "    <tr>\n",
       "      <th>0</th>\n",
       "      <td>0.0</td>\n",
       "      <td>0.0</td>\n",
       "      <td>0.0</td>\n",
       "      <td>0.0</td>\n",
       "      <td>0.0</td>\n",
       "      <td>0.0</td>\n",
       "      <td>0.0</td>\n",
       "      <td>0.0</td>\n",
       "      <td>0.0</td>\n",
       "      <td>0.0</td>\n",
       "      <td>...</td>\n",
       "      <td>0.0</td>\n",
       "      <td>0.0</td>\n",
       "      <td>0.0</td>\n",
       "      <td>0.0</td>\n",
       "      <td>0.0</td>\n",
       "      <td>0.0</td>\n",
       "      <td>0.0</td>\n",
       "      <td>0.0</td>\n",
       "      <td>0.0</td>\n",
       "      <td>0.0</td>\n",
       "    </tr>\n",
       "    <tr>\n",
       "      <th>1</th>\n",
       "      <td>0.0</td>\n",
       "      <td>0.0</td>\n",
       "      <td>0.0</td>\n",
       "      <td>0.0</td>\n",
       "      <td>0.0</td>\n",
       "      <td>0.0</td>\n",
       "      <td>0.0</td>\n",
       "      <td>0.0</td>\n",
       "      <td>0.0</td>\n",
       "      <td>0.0</td>\n",
       "      <td>...</td>\n",
       "      <td>0.0</td>\n",
       "      <td>0.0</td>\n",
       "      <td>0.0</td>\n",
       "      <td>0.0</td>\n",
       "      <td>0.0</td>\n",
       "      <td>0.0</td>\n",
       "      <td>0.4</td>\n",
       "      <td>0.0</td>\n",
       "      <td>0.0</td>\n",
       "      <td>0.0</td>\n",
       "    </tr>\n",
       "    <tr>\n",
       "      <th>2</th>\n",
       "      <td>0.0</td>\n",
       "      <td>0.0</td>\n",
       "      <td>0.0</td>\n",
       "      <td>0.0</td>\n",
       "      <td>0.0</td>\n",
       "      <td>0.0</td>\n",
       "      <td>0.0</td>\n",
       "      <td>0.0</td>\n",
       "      <td>0.0</td>\n",
       "      <td>0.0</td>\n",
       "      <td>...</td>\n",
       "      <td>0.0</td>\n",
       "      <td>0.0</td>\n",
       "      <td>0.0</td>\n",
       "      <td>0.0</td>\n",
       "      <td>0.0</td>\n",
       "      <td>0.0</td>\n",
       "      <td>0.0</td>\n",
       "      <td>0.0</td>\n",
       "      <td>0.0</td>\n",
       "      <td>0.0</td>\n",
       "    </tr>\n",
       "    <tr>\n",
       "      <th>3</th>\n",
       "      <td>0.0</td>\n",
       "      <td>0.0</td>\n",
       "      <td>0.0</td>\n",
       "      <td>0.0</td>\n",
       "      <td>0.0</td>\n",
       "      <td>0.0</td>\n",
       "      <td>0.0</td>\n",
       "      <td>0.0</td>\n",
       "      <td>0.0</td>\n",
       "      <td>0.0</td>\n",
       "      <td>...</td>\n",
       "      <td>0.0</td>\n",
       "      <td>0.0</td>\n",
       "      <td>0.0</td>\n",
       "      <td>0.0</td>\n",
       "      <td>0.0</td>\n",
       "      <td>0.0</td>\n",
       "      <td>0.0</td>\n",
       "      <td>0.0</td>\n",
       "      <td>0.0</td>\n",
       "      <td>0.0</td>\n",
       "    </tr>\n",
       "    <tr>\n",
       "      <th>4</th>\n",
       "      <td>0.0</td>\n",
       "      <td>0.0</td>\n",
       "      <td>0.0</td>\n",
       "      <td>0.0</td>\n",
       "      <td>0.0</td>\n",
       "      <td>0.0</td>\n",
       "      <td>0.0</td>\n",
       "      <td>0.0</td>\n",
       "      <td>0.0</td>\n",
       "      <td>0.0</td>\n",
       "      <td>...</td>\n",
       "      <td>0.0</td>\n",
       "      <td>0.0</td>\n",
       "      <td>0.0</td>\n",
       "      <td>0.0</td>\n",
       "      <td>0.0</td>\n",
       "      <td>0.0</td>\n",
       "      <td>0.0</td>\n",
       "      <td>0.0</td>\n",
       "      <td>0.0</td>\n",
       "      <td>0.0</td>\n",
       "    </tr>\n",
       "  </tbody>\n",
       "</table>\n",
       "<p>5 rows × 6806 columns</p>\n",
       "</div>"
      ],
      "text/plain": [
       "   seo_copywriting  sme_management  business_finance  t_wood  \\\n",
       "0              0.0             0.0               0.0     0.0   \n",
       "1              0.0             0.0               0.0     0.0   \n",
       "2              0.0             0.0               0.0     0.0   \n",
       "3              0.0             0.0               0.0     0.0   \n",
       "4              0.0             0.0               0.0     0.0   \n",
       "\n",
       "   business_relations  cobit  process_management  elevator_pitch  electricity  \\\n",
       "0                 0.0    0.0                 0.0             0.0          0.0   \n",
       "1                 0.0    0.0                 0.0             0.0          0.0   \n",
       "2                 0.0    0.0                 0.0             0.0          0.0   \n",
       "3                 0.0    0.0                 0.0             0.0          0.0   \n",
       "4                 0.0    0.0                 0.0             0.0          0.0   \n",
       "\n",
       "   scheduling_of_production_workshops      ...       \\\n",
       "0                                 0.0      ...        \n",
       "1                                 0.0      ...        \n",
       "2                                 0.0      ...        \n",
       "3                                 0.0      ...        \n",
       "4                                 0.0      ...        \n",
       "\n",
       "   english:_at_ease_in_a_professional_situation_with_technical_vocabulary  \\\n",
       "0                                                0.0                        \n",
       "1                                                0.0                        \n",
       "2                                                0.0                        \n",
       "3                                                0.0                        \n",
       "4                                                0.0                        \n",
       "\n",
       "   financial_mathematics  public_business_law  \\\n",
       "0                    0.0                  0.0   \n",
       "1                    0.0                  0.0   \n",
       "2                    0.0                  0.0   \n",
       "3                    0.0                  0.0   \n",
       "4                    0.0                  0.0   \n",
       "\n",
       "   devops_-_continuous_integration  pumps  independent_living  debian  \\\n",
       "0                              0.0    0.0                 0.0     0.0   \n",
       "1                              0.0    0.0                 0.0     0.4   \n",
       "2                              0.0    0.0                 0.0     0.0   \n",
       "3                              0.0    0.0                 0.0     0.0   \n",
       "4                              0.0    0.0                 0.0     0.0   \n",
       "\n",
       "   filter_planted_with_plants  sass  security_law  \n",
       "0                         0.0   0.0           0.0  \n",
       "1                         0.0   0.0           0.0  \n",
       "2                         0.0   0.0           0.0  \n",
       "3                         0.0   0.0           0.0  \n",
       "4                         0.0   0.0           0.0  \n",
       "\n",
       "[5 rows x 6806 columns]"
      ]
     },
     "execution_count": 4,
     "metadata": {},
     "output_type": "execute_result"
    }
   ],
   "source": [
    "df.head()"
   ]
  },
  {
   "cell_type": "code",
   "execution_count": null,
   "metadata": {
    "collapsed": true
   },
   "outputs": [],
   "source": []
  }
 ],
 "metadata": {
  "kernelspec": {
   "display_name": "Python 2",
   "language": "python",
   "name": "python2"
  },
  "language_info": {
   "codemirror_mode": {
    "name": "ipython",
    "version": 2
   },
   "file_extension": ".py",
   "mimetype": "text/x-python",
   "name": "python",
   "nbconvert_exporter": "python",
   "pygments_lexer": "ipython2",
   "version": "2.7.15"
  }
 },
 "nbformat": 4,
 "nbformat_minor": 2
}
