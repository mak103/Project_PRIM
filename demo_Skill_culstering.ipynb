{
 "cells": [
  {
   "cell_type": "code",
   "execution_count": 1,
   "metadata": {},
   "outputs": [
    {
     "name": "stderr",
     "output_type": "stream",
     "text": [
      "D:\\Anaconda\\lib\\site-packages\\gensim\\utils.py:1197: UserWarning: detected Windows; aliasing chunkize to chunkize_serial\n",
      "  warnings.warn(\"detected Windows; aliasing chunkize to chunkize_serial\")\n"
     ]
    }
   ],
   "source": [
    "#import sys\n",
    "#sys.path.append('...')\n",
    "from my_functions import *"
   ]
  },
  {
   "cell_type": "code",
   "execution_count": 2,
   "metadata": {},
   "outputs": [],
   "source": [
    "modelname = 'word2vec_model_allskills'\n",
    "filename = \"all_top_skills_final_fre.txt\""
   ]
  },
  {
   "cell_type": "code",
   "execution_count": 3,
   "metadata": {},
   "outputs": [
    {
     "name": "stderr",
     "output_type": "stream",
     "text": [
      "100%|████████████████████████████████████████████████████████████████████████████████████| 5/5 [01:56<00:00, 23.00s/it]\n"
     ]
    }
   ],
   "source": [
    "sc = Skill_culstering(filename, modelname)\n",
    "sc.fit()"
   ]
  },
  {
   "cell_type": "code",
   "execution_count": 4,
   "metadata": {
    "scrolled": false
   },
   "outputs": [
    {
     "name": "stdout",
     "output_type": "stream",
     "text": [
      "0 cross-functional_team_leadership ['strategic_partnerships', 'governance', 'cross-functional_team_leadership']\n",
      "  \n",
      "1 solidworks ['autocad', 'solidworks', 'catia']\n",
      "  \n",
      "2 python ['sas', 'python', 'matlab', 'c++', 'linux', 'vba', 'r', 'latex', 'c', 'java']\n",
      "  \n",
      "3 photoshop ['wordpress', 'adobe_photoshop', 'photoshop', 'illustrator', 'google_analytics', 'adobe_illustrator', 'indesign']\n",
      "  \n",
      "4 web_2.0 ['web_2.0', 'community_management']\n",
      "  \n",
      "5 android ['mysql', 'uml', 'hibernate', 'xml', 'javascript', 'spring', 'oracle', 'c#', 'android', 'maven', 'eclipse', 'java_enterprise_edition', 'angularjs', 'php', 'jquery', 'mongodb', 'tomcat', 'postgresql', 'ajax', 'pl/sql', 'css', 'node.js', 'html5', 'git', 'sql', 'html', 'microsoft_sql_server', '.net']\n",
      "  \n",
      "6 business_process_improvement ['business_intelligence', 'business_process_improvement', 'erp', 'consulting', 'program_management', 'business_analysis', 'management_consulting', 'international_project_management', 'business_transformation', 'business_process']\n",
      "  \n",
      "7 security_management ['security_management', 'security', 'risk_management', 'risk_assessment', 'defense']\n",
      "  \n",
      "8 reporting_financier ['business_finance', 'credit', 'accounting', 'bank', 'financial_analysis', 'retail_bank', 'reporting_financier', 'finance', 'assurance', 'analyste_commercial', 'financial_accounting']\n",
      "  \n",
      "9 user_experience ['agile_methods', 'user_interface_design', 'programmation_web', 'web_design', 'user_experience', 'web_development']\n",
      "  \n",
      "10 media_relations ['communication_interne', 'strategic_communication', 'event_planning', 'corporate_communications', 'internal_communications', 'writing', 'public_relations', 'event_management', 'business_communication', 'crisis_communication', 'media_relations']\n",
      "  \n",
      "11 soa ['soa', 'web_services', 'scrum', 'architecture', 'software_development', 'software_engineering', 'testing', 'agile_project_management', 'agile_methodologies']\n",
      "  \n",
      "12 droit_international ['corporate_governance', 'labor_law', 'competition_law', 'contract_law', 'civil_litigation', 'dispute_resolution', 'european_law', 'corporate_law', 'criminal_law', 'legal_research', 'fiscal_law', 'business_law', 'intellectual_property', 'international_law', 'commercial_litigation', 'legal_advice', 'droit_international', 'legal_writing', 'joint_ventures', 'litigation']\n",
      "  \n",
      "13 cisco_technologies ['unix', 'windows_server', 'gsm', 'networking', 'iptv', 'enterprise_software', 'saas', 'vmware', 'cisco_technologies', 'active_directory', 'lte']\n",
      "  \n",
      "14 european_union ['international_relations', 'corporate_social_responsibility', 'government', 'political_sciences', 'international_development', 'policy', 'european_union', 'policy_analysis', 'politics', 'relations_internationales', 'public_policy', 'sustainable_development', 'public_affairs']\n",
      "  \n",
      "15 econometrics ['mathematics', 'statistics', 'data_analysis', 'economics', 'econometrics']\n",
      "  \n",
      "16 embedded_software ['embedded_software', 'embedded_systems']\n",
      "  \n",
      "17 marketing_social ['online_marketing', 'marketing_digital', 'communication_marketing', 'marketing_social', 'digital_agenda', 'online_advertising', 'publicity', 'social_networks']\n",
      "  \n",
      "18 urban_design ['planification_urbaine', 'urban_planning', 'durability', 'interior_design', 'sketchup', 'urban_design']\n",
      "  \n",
      "19 twitter ['dreamweaver', 'press_relations', 'after_effects', 'instagram', 'facebook', 'adobe_premiere', 'twitter', 'cms', 'final_cut_pro', 'google_adwords', 'adobe_premiere_pro', 'adwords_google', 'adobe_creative_suite', 'design_thinking']\n",
      "  \n",
      "20 succession_planning ['hr_transformation', 'employer_brand', 'hris', 'technical_recruiting', 'organizational_design', 'executive_search', 'hr_policies', 'succession_planning', 'employment_law', 'talent_acquisition']\n",
      "  \n",
      "21 higher_education ['qualitative_research', 'history', 'education', 'higher_education']\n",
      "  \n",
      "22 staff_management ['staff_management', 'personnel_administration', 'executive_coaching', 'social_right', 'employee_engagement', 'social_relations', 'leadership_development', 'employee_training', 'personnel_management', 'gpec']\n",
      "  \n",
      "23 commercial_real_estate ['real_estate', 'commercial_real_estate', 'property_investment', 'real_estate_development', 'immovable', 'real_estate_transactions', 'property_management']\n",
      "  \n",
      "24 labview ['fortran', 'abaqus', 'arduino', 'ansys', 'vhdl', 'simulink', 'labview']\n",
      "  \n",
      "25 team_building ['leadership', 'team_leadership', 'team_building']\n",
      "  \n",
      "26 microsoft_windows ['microsoft_windows', 'windows']\n",
      "  \n",
      "27 management_of_time ['management_of_time', 'problem_solving']\n",
      "  \n",
      "28 international_logistics ['transport_management', 'transportation_management', 'international_logistics', 'sourcing_strategy', 'purchase_management']\n",
      "  \n",
      "29 macroeconomics ['analytical_skills', 'macroeconomics', 'economic_science', 'programmation_sas', 'analysis_of_statistical_data', 'stata']\n",
      "  \n",
      "30 finance_management ['management_control', 'tax_system', 'forecasts', 'finance_management', 'cost_control']\n",
      "  \n",
      "31 army ['military', 'emergency_management', 'operational_planning', 'physical_security', 'army', 'military_operations', 'risk_analysis']\n",
      "  \n",
      "32 service_delivery ['managed_services', 'service_delivery']\n",
      "  \n",
      "33 personal_development ['open_innovation', 'career_development', 'organizational_effectiveness', 'executive_management', 'business_modeling', 'personal_development', 'digital', 'labor_relations', 'digital_transformation', 'innovation', 'performance_improvement']\n",
      "  \n",
      "34 sponsoring ['communication_on_social_networks', 'budget_management', 'sponsorship', 'selling_process', 'events_organisation', 'assistance_administrative', 'sports_management', 'prospection', 'sponsoring', 'foreign_languages', 'marketing_international', 'animation', 'customer_relations']\n",
      "  \n",
      "35 visual_arts ['video_montage', 'magazines', 'film_production', 'fine_arts', 'multimedia', 'artistic_direction', 'creative_direction', 'entertainment', 'visual_arts', 'museums', 'radio', 'contemporary_art']\n",
      "  \n",
      "36 landscape_architecture ['ptc_creo', 'themselves', 'sustainable_design', 'design_research', 'town_planning', 'design_durable', 'revit', '3d_studio_max', 'architectural_design', 'design_architectural', 'archicad', 'landscape_architecture', 'solid_edge', 'arcgis']\n",
      "  \n",
      "37 medical_device ['medical_device', 'pharmaceutical_industry']\n",
      "  \n",
      "38 process_optimization ['process_management', 'lean_six_sigma', 'vendor_management', 'project_delivery', 'process_optimization', 'operational_excellence']\n",
      "  \n",
      "39 contract_recruitment ['compensation_&_benefits', 'payroll', 'search_for_leaders', 'internet_recruiting', 'hr_regulation', 'deferred_compensation', 'compensation_&_benefit', 'employee_benefits', 'sap_hr', 'transformation_rh', 'recruitment_advertising', 'resource_management', 'graduate_recruitment', 'contract_recruitment', 'peoplesoft']\n",
      "  \n",
      "40 information_management ['information_management', 'document_management', 'knowledge_management']\n",
      "  \n",
      "41 vpn ['dns', 'network_design', 'storage', 'vpn', 'mpls']\n",
      "  \n",
      "42 user_experience_design ['interaction_design', 'user_experience_design', 'user_interface']\n",
      "  \n",
      "43 of ['data_encryption_standard', 'of']\n",
      "  \n",
      "44 organic_chemistry ['thermodynamique', 'bioinformatics', 'spectroscopy', 'mechanical', 'organic_chemistry', 'aerodynamics', 'transfert_thermique', 'cell_culture', 'analytical_chemistry', 'composite', 'neuroscience', 'structural_engineering', 'nuclear_engineering', 'optics', 'aerospace_engineering', 'cell_biology', 'power_electronics', 'thermal_transfer', 'cfd']\n",
      "  \n",
      "45 negotiations_with_suppliers ['commerce_international', 'facilities_management', 'negotiations_with_suppliers', 'equipment_management', 'sourcing_mondial', 'warehouse', 'fret', 'food_safety', 'procurement_management', 'import-export']\n",
      "  \n",
      "46 microsoft_outlook ['microsoft_powerpoint', 'microsoft_office', 'powerpoint', 'microsoft_excel', 'microsoft_word', 'microsoft_outlook', 'outlook', 'microsoft_access', 'visual_basic_pour_applications_(vba)', 'pack_office']\n",
      "  \n",
      "47 coaching ['employee_relations', 'training', 'recruiting', 'recruitment', 'sourcing', 'organizational_development', 'coaching', 'formation', 'human_resources', 'interviews', 'talent_management', 'performance_management', 'administration', 'human_resources_development']\n",
      "  \n"
     ]
    },
    {
     "name": "stdout",
     "output_type": "stream",
     "text": [
      "48 ms_project ['microsoft_project', 'ms_project', 'project_management', 'project_coordination']\n",
      "  \n",
      "49 blogging ['applications_mobiles', 'music', 'direct_marketing', 'web_marketing', 'digital_strategy', 'photographie', 'web_project_management', 'crm', 'seo', 'sem', 'video', 'web_analytics', 'graphics', 'new_media', 'television', 'edition', 'advertising', 'email_marketing', 'graphisme', 'marketing_mobile', 'brand_development', 'digital_marketing', 'mobile_marketing', 'web_statistics', 'international_marketing', 'film', 'social_media', 'social_media_marketing', 'video_production', 'mobile_applications', 'journalism', 'editing', 'marketing_communications', 'e-commerce', 'fashion', 'press_releases', 'brand_management', 'blog', 'art', 'graphic_design', 'newsletters', 'blogging', 'digital_media']\n",
      "  \n",
      "50 algorithms ['data_mining', 'programming', 'machine_learning', 'programmation', 'algorithms', 'big_data', 'data_processing']\n",
      "  \n",
      "51 sales_process ['customer_service', 'customer_relationship_management_(crm)', 'team_management', 'sales_operations', 'customer_experience', 'strategic_consulting', 'professional_services', 'customer_satisfaction', 'channel_partners', 'multi-channel_marketing', 'payments', 'sales_process', 'mobile_technology', 'mobile_payments', 'payment_systems', 'p&l_management', 'segmentation']\n",
      "  \n",
      "52 purchasing ['strategic_sourcing', 'manufacturing', 'inventory_management', 'logistics', 'lean_manufacturing', 'supply_chain', 'supply_management', 'logistics_management', 'purchasing', 'achats', 'global_sourcing', 'procurement', 'process_improvement', 'continuous_improvement', 'six_sigma', 'supply_chain_management']\n",
      "  \n",
      "53 construction_management ['construction_management', 'construction', 'civil_engineering']\n",
      "  \n",
      "54 btob ['sale', 'market_research', 'account_management', 'marketing', 'business_development', 'sales', 'marketing_strategy', 'sales_manager', 'merchandising', 'commercial_strategy', 'btob', 'retail_business']\n",
      "  \n",
      "55 strategic_planning ['project_planning', 'strategic_planning', 'budgets', 'change_management']\n",
      "  \n",
      "56 competitive_analysis ['market_analysis', 'b2b', 'entrepreneurship', 'analytics', 'sales_management', 'competitive_analysis', 'start-ups', 'business_strategy', 'international_sales', 'product_marketing', 'marketing_management', 'product_development', 'retail', 'key_account_management', 'business_planning', 'strategy', 'international_business']\n",
      "  \n",
      "57 mobile_communications ['umts', 'production_management', 'mobile_communications', 'telecommunications', 'go-to-market_strategy', 'voip', 'ip', 'product_manager', 'mobile_devices', '3g', 'wireless', 'solution_selling']\n",
      "  \n",
      "58 pre-sales ['cloud_computing', 'data_center', 'pre-sales']\n",
      "  \n",
      "59 solution_architecture ['clitoris', 'requirements_analysis', 'management_services_it', 'it_service_management', 'software_project_management', 'enterprise_architecture', 'infrastructure', 'project_portfolio_management', 'integration', 'solution_architecture', 'pmo']\n",
      "  \n",
      "60 network_architecture ['network_administration', 'network_architecture', 'system_administrator', 'computer_security', 'tcp/ip', 'firewalls', 'information_security', 'network_security', 'virtualisation', 'security_audits', 'iso_27001', 'information_security_management']\n",
      "  \n",
      "61 consolidation ['consolidation', 'audit', 'auditing', 'financial_reporting', 'financial_audits', 'ifrs', 'internal_controls', 'forecasting', 'pricing', 'internal_audit', 'analysis']\n",
      "  \n",
      "62 valuation ['corporate_finance', 'financial_modeling', 'valuation', 'restructuring', 'asset_management', 'investments', 'project_finance', 'mergers_&_acquisitions', 'mergers', 'due_diligence', 'private_equity']\n",
      "  \n",
      "63 financial_risk ['derivatives', 'banking', 'financial_markets', 'financial_risk', 'investment_banking', 'capital_markets', 'insurance', 'portfolio_management', 'credit_risk']\n",
      "  \n",
      "64 continuous_integration ['services_web', 'web_applications', 'unix_shell_scripting', 'android_development', 'etl', 'continuous_integration', 'linux_system_administration', 'design_pattern', 'data_warehouse', 'system_architecture', 'development_for_android', 'oop', 'ios_development', 'data_warehousing', 'software_design', 'script_shell', 'test_driven_development', 'shell_scripting', 'distributed_systems']\n",
      "  \n",
      "65 statistical_data_analysis ['artificial_intelligence', 'data_visualization', 'statistical_modeling', 'statistical_data_analysis', 'data_exploration', 'operations_research', 'computer_vision', 'data_modeling', 'automatic_learning']\n",
      "  \n",
      "66 numerical_analysis ['mathematical_modeling', 'computer_science', 'science', 'optimization', 'biotechnology', 'physics', 'image_processing', 'numerical_analysis', 'chemistry', 'life_sciences', 'signal_processing']\n",
      "  \n",
      "67 science_of_materials ['sensors', 'fpga', 'molecular_biology', 'microcontrollers', 'characterization', 'modelization', 'fluid_mechanics', 'nanotechnology', 'science_of_materials', 'cad', 'finite_element_analysis', 'chimie', 'instrumentation', 'physique', 'modeling', 'materials', 'materials_science', 'robotics', 'finite_element_method', 'semiconductors', 'thermodynamics']\n",
      "  \n",
      "68 maintenance_management ['amdec', 'aviation', 'aeronautics', 'industrial_engineering', 'quality_system', 'manufacture', 'kaizen', 'process_engineering', 'kanban', 'quality_control', 'aircraft', 'maintenance_management', 'iso_9001', 'automotive', 'lean_management', '5s', 'quality_assurance', 'iso_14001', 'quality_management', 'safety_management_systems']\n",
      "  \n",
      "69 power_generation ['renewable_energy', 'systems_engineering', 'aerospace', 'r&d', 'electrical_engineering', 'energy', 'engineering', 'electronics', 'project_engineering', 'mechanical_engineering', 'simulations', 'commissioning', 'automation', 'energy_markets', 'electricity_markets', 'nuclear', 'energy_efficiency', 'energy_management', 'energetic_efficiency', 'oil_and_gas', 'sustainability', 'oil', 'water', 'smart_grid', 'environmental_awareness', 'solar_energy', 'power_generation', 'petroleum', 'epc', 'natural_gas', 'onshore', 'gas', 'upstream', 'power_plants', 'energy_industry', 'pipeline', 'oil_&_gas', 'oil/gas']\n",
      "  \n",
      "70 transportation_planning ['engineering_management', 'light_rail', 'signaling', 'railway_signalling', 'railway_rolling_stock', 'railway_systems', 'rolling_stock', 'metro', 'contract_management', 'transport', 'rail', 'transportation_planning', 'public_transport', 'transportation', 'operations_management', 'railway']\n",
      "  \n",
      "71 marketing_direct ['luxury_goods', 'marketing_par_e-mail', 'client_experience', 'management_marketing', 'marketing_direct', 'business-to-business_(btob)', 'fmcg', 'product_launch']\n",
      "  \n",
      "72 food_and_drinks ['client_satisfaction', 'food_and_drinks', 'food', 'food_&_beverage', 'restaurant', 'restoration', 'hospitality_management', 'relations_clients']\n",
      "  \n",
      "73 sports_marketing ['corporate_events', 'sports_marketing', 'sport', 'mode']\n",
      "  \n",
      "74 market_risk ['life_insurance', 'market_risk', 'enterprise_risk_management', 'equities', 'equity_derivatives', 'actuarial_science', 'fixed_income', 'trading', 'cash_management', 'treasury', 'fx_options', 'structured_finance', 'structured_products']\n",
      "  \n",
      "75 financial_structuring ['venture_capital', 'compliance', 'quantitative_finance', 'financial_structuring', 'sarbanes-oxley_act', 'operational_risk_management', 'treasury_management', 'interest_rate_derivatives', 'financial_services', 'emerging_markets', 'hedge_funds', 'commodity_markets', 'corporate_development', 'm&a_experience', 'commodity', 'solvency_ii', 'options', 'trading_systems']\n",
      "  \n",
      "76 credit_analysis ['managerial_finance', 'anti_money_laundering', 'property_&_casualty_insurance', 'operational_risk', 'ratings', 'general_insurance', 'external_audit', 'commercial_insurance', 'private_bank', 'services_financiers', 'capital_investment', 'credit_analysis', 'wealth_management', 'global_insurance', 'tax', 'commercial_banking']\n",
      "  \n",
      "77 sale_of_solutions ['sale_of_solutions', 'communications_mobiles', 'salesforce.com']\n",
      "  \n",
      "78 data_migration ['cobit', 'data_integration', 'data_management', 'data_migration', 'applications_web', 'business_process_design', 'cmmi']\n",
      "  \n"
     ]
    },
    {
     "name": "stdout",
     "output_type": "stream",
     "text": [
      "79 ospf ['wireless_networking', 'technical_support', 'san', 'telecommunications_engineering', 'broadband', 'troubleshooting', 'transmission', 'dhcp', 'optical_fiber', 'ospf', 'lan-wan', 'bgp', 'internet_protocol_(ip)', 'cissp', 'ethernet', 'identity_management', 'vulnerability_assessment', 'continued_internet_protocols_(tcp_/_ip)', 'high_availability', 'network_engineering', 'sdh', 'voice_over_ip_(voip)', 'fiber_optics', 'bss', 'pci_dss', 'penetration_testing', 'routing', 'van']\n",
      "  \n",
      "80 prospection_commerciale ['commerce', 'prospection_commerciale', 'relationship_management_with_partners']\n",
      "  \n",
      "81 professional_english ['public_speaking', 'speaking_in_public', 'german', 'french', 'teaching', 'spanish', 'teamwork', 'communication', 'english', 'negotiation', 'talks', 'contract_negotiation', 'portuguese', 'professional_english', 'sphinx', 'sense_of_organization', 'italy', 'time_management', 'chinese', 'team_spirit']\n",
      "  \n",
      "82 video_editing ['online_journalism', 'music_industry', 'concept_development', 'documentaries', 'creative_writing', 'diffusion', 'ergonomics', 'video_editing', 'the_history_of_art', 'performing_arts', 'editorial', 'theater', 'music_production', 'postproduction', 'sketch', 'cultural_heritage', 'logo_design', 'broadcast', 'user-centered_design', 'corporate_identity', 'art_direction', 'short_films', 'design_interactif', 'publishing']\n",
      "  \n",
      "83 ppc ['content_strategy', 'content_management', 'information_architecture', 'sea', 'creative_strategy', 'media_planning', 'user-oriented_design', 'wireframe', 'usability_testing', 'ppc', 'usability', 'affiliate_marketing', 'integrated_marketing']\n",
      "  \n",
      "84 sketching ['digital_photography', 'industrial_design', 'design_strategy', 'painting', 'drawing', 'sketching', 'design', 'art_history', '3d', 'concept_design', 'curating', 'packaging']\n",
      "  \n",
      "85 piping ['electricity', 'climate_change', 'geophysics', 'drilling', 'petroleum_engineering', 'piping', 'environmental_impact_assessment', 'environmental_engineering', 'environmental_management_systems', 'geology', 'mineral_exploration', 'petrochemistry', 'petroleum_geology', 'environmental_policy', 'energy_policy', 'project_control', 'power_plant', 'inspection', 'field_development', 'nuclear_safety', 'energy_generation', 'offshore_drilling', 'mining', 'reservoir_engineering', 'water_treatment', 'petrochemical', 'photovoltaic', 'lng', 'refinery', 'hydraulic', 'earth_science', 'subsea_engineering', 'oil_&_gas_industry']\n",
      "  \n",
      "86 microscopy ['mass_spectrometry', 'genetic', 'biology', 'cartography', 'regulatory_affairs', 'public_health', 'hospitals', 'microbiology', 'biomedical_engineering', 'hplc', 'microscopy', 'cellular_biology', 'oncology', 'clinical_research', 'health_services', 'clinical_trials', 'laboratory', 'environmental_issues', 'ecology', 'nanomaterials', 'pharmaceutical_sector']\n",
      "  \n",
      "87 sap_erp ['service_client', 'sap', 'sap_erp']\n",
      "  \n",
      "88 sage ['consulting_and_management', 'prezi', 'excel', 'access', 'lotus_notes', 'sage', 'spss']\n",
      "  \n",
      "89 deep_learning ['product_design', 'spark', 'nosql', 'data_science', 'hive', 'applied_mathematics', 'scala', 'elasticsearch', 'apache_spark', 'deep_learning', 'hadoop']\n",
      "  \n",
      "90 amazon_web_services ['research', 'ejb', 'joomla', 'jenkins', 'qlikview', 'vmware_esx', 'rest', 'objective-c', 'business_objects', 'github', 'django', 'spring_framework', 'tensorflow', 'servers', 'ubuntu', 'devops', 'tableau', 'amazon_web_services', 'j2ee_web_services', 'microsoft_exchange', 'asp.net', 'soap', 'css3', 'services_web_restful', 'unity3d', 'red_hat_linux', 'laravel', 'ruby_on_rails', 'opencv', 'board', 'apache', 'j2ee_application_development', 'ruby', 'subversion', 'mapreduce', 'bash', 'drupal', 'maple', 'scilab', 'oracle_database', 'vb.net', 'jpa', 'docker', 'databases', 'amazon_web_services_(aws)', 'merise', 'sharepoint', 'struts', 'perl', 'pattern_recognition', 'cassandra', 'symfony', 'phpmyadmin', 'junit', 'talend', 'jira', 'hbase', 'twitter_bootstrap', 'ios', 'apache_kafka', 'cascading_style_sheets_(css)', 'oracle_sql_developer', 'netbeans', 'natural_language_processing', 'bootstrap', 'visual_basic', 'framework_sping', 'kibana', 'asp.net_mvc', 'apache_pig', 'jsf', 'jsp', 'scientific_computing', 'numerical_simulation', 'react.js', 'windows_7', 'angular', 'qt', 'visual_studio', 'swift', 'j2ee', 'ansible', 'open_source', 'debian', 'sass']\n",
      "  \n",
      "91 events ['management', 'intercultural_communication', 'fundraising', 'visual_communication', 'benchmarking', 'creativity', 'networking_social', 'strategic_watch', 'events', 'communication_skills']\n",
      "  \n",
      "92 incident_management ['improvement_of_business_processes', 'it_audit', 'incident_management', 'disaster_recovery', 'business_continuity', 'it_operations', 'pmp', 'information_technology']\n",
      "  \n",
      "93 hospitality ['bloomberg', 'hotel', 'tourism', 'hospitality_industry', 'hospitality_sector', 'hotel_management', 'hospitality', 'revenue_analysis', 'travel_management']\n",
      "  \n",
      "94 business_alliances ['e-business', 'it_transformation', 'lead_generation', 'innovation_management', 'business_alliances', 'mobile_internet', 'software_as_a_service_(saas)', 'telco']\n",
      "  \n",
      "95 sip ['sap_r_/_3', 'unified_communications', 'qos', 'vod', 'digital_tv', '2g', '4g', 'gprs', 'sip', 'vas']\n",
      "  \n",
      "96 aircraft_maintenance ['concrete', 'requirements_management', 'supplier_development', 'health_safety_environment', 'haccp', 'rail_transport', 'airlines', 'process_control', 'plane', 'tpm', 'freight', 'command', 'optimization_of_the_logistics_chain', 'dmaic', 'aircraft_maintenance', 'plc', 'maintenance_and_repair', 'mrp', 'maintenance', 'scada', 'healthcare', 'mechanics', 'power_systems', 'commercial_aviation', 'iso', 'occupational_health', '3pl', 'process_automation', 'power_distribution', 'control_systems_design', 'automotive_engineering', 'surveillance', 'ohsas_18001', 'vehicles', 'avionics', 'fire_safety', 'rail_operations', 'metrology', 'fmea', 'materials_management', 'commandment', 'national_security', 'value_stream_mapping', 'automobile', 'supplier_negotiation', 'polymers', 'metallurgy', 'warehousing', 'quality_audit', 'supply_chain_optimization', 'transportation_engineering', 'system_design']\n",
      "  \n"
     ]
    }
   ],
   "source": [
    "sc.print_skill_title()"
   ]
  },
  {
   "cell_type": "markdown",
   "metadata": {},
   "source": [
    "# demonstration of functions in \"Skill_culstering\" class."
   ]
  },
  {
   "cell_type": "code",
   "execution_count": 5,
   "metadata": {},
   "outputs": [
    {
     "name": "stderr",
     "output_type": "stream",
     "text": [
      "100%|████████████████████████████████████████████████████████████████████████████████████| 5/5 [01:52<00:00, 22.20s/it]\n"
     ]
    }
   ],
   "source": [
    "sc2 = Skill_culstering(filename, modelname)\n",
    "sc2.cluseter_agglomerative(n_clusters=20, linkage='average', iterate=5)"
   ]
  },
  {
   "cell_type": "code",
   "execution_count": 11,
   "metadata": {
    "scrolled": true
   },
   "outputs": [
    {
     "name": "stdout",
     "output_type": "stream",
     "text": [
      "0 microsoft_powerpoint ['microsoft_powerpoint', 'microsoft_office', 'powerpoint', 'microsoft_excel']\n",
      "  \n",
      "1 coaching ['employee_relations', 'training', 'recruiting', 'recruitment', 'sourcing', 'organizational_development', 'coaching', 'formation', 'human_resources', 'interviews', 'talent_management', 'performance_management']\n",
      "  \n",
      "2 btob ['project_planning', 'sale', 'market_analysis', 'market_research', 'b2b', 'entrepreneurship', 'account_management', 'analytics', 'sales_management', 'marketing', 'competitive_analysis', 'strategic_planning', 'start-ups', 'business_development', 'sales', 'budgets', 'business_strategy', 'hotel', 'international_sales', 'product_marketing', 'marketing_strategy', 'marketing_management', 'product_development', 'sales_manager', 'retail', 'key_account_management', 'tourism', 'merchandising', 'change_management', 'business_planning', 'commercial_strategy', 'btob', 'strategy', 'retail_business', 'international_business']\n",
      "  \n",
      "3 cross-functional_team_leadership ['strategic_partnerships', 'governance', 'cross-functional_team_leadership']\n",
      "  \n",
      "4 solidworks ['autocad', 'solidworks', 'catia']\n",
      "  \n",
      "5 logistics_management ['strategic_sourcing', 'construction_management', 'manufacturing', 'inventory_management', 'contract_management', 'logistics', 'lean_manufacturing', 'supply_chain', 'transport', 'construction', 'rail', 'supply_management', 'logistics_management', 'transportation_planning', 'purchasing', 'public_transport', 'transportation', 'operations_management', 'civil_engineering', 'achats', 'global_sourcing', 'procurement', 'process_improvement', 'railway', 'continuous_improvement', 'six_sigma', 'supply_chain_management']\n",
      "  \n",
      "6 algorithms ['data_mining', 'programming', 'machine_learning', 'programmation', 'algorithms', 'big_data']\n",
      "  \n",
      "7 python ['sas', 'python', 'matlab', 'c++', 'linux', 'vba', 'r', 'latex', 'c', 'java']\n",
      "  \n",
      "8 photoshop ['wordpress', 'adobe_photoshop', 'photoshop', 'illustrator', 'google_analytics', 'adobe_illustrator', 'indesign']\n",
      "  \n",
      "9 microsoft_word ['microsoft_word']\n",
      "  \n",
      "10 customer_service ['customer_service']\n",
      "  \n",
      "11 web_2.0 ['web_2.0', 'community_management']\n",
      "  \n",
      "12 android ['mysql', 'uml', 'hibernate', 'xml', 'javascript', 'spring', 'oracle', 'c#', 'android', 'maven', 'eclipse', 'java_enterprise_edition', 'angularjs', 'php', 'jquery', 'mongodb', 'tomcat', 'postgresql', 'ajax', 'pl/sql', 'css', 'node.js', 'html5', 'git', 'sql', 'html', 'microsoft_sql_server', '.net']\n",
      "  \n",
      "13 electrical_engineering ['renewable_energy', 'systems_engineering', 'aerospace', 'r&d', 'electrical_engineering', 'energy', 'engineering', 'electronics', 'project_engineering', 'mechanical_engineering', 'simulations', 'commissioning', 'automation']\n",
      "  \n",
      "14 service_client ['service_client']\n",
      "  \n",
      "15 consulting_and_management ['consulting_and_management']\n",
      "  \n",
      "16 business_process_improvement ['business_intelligence', 'business_process_improvement', 'erp', 'consulting', 'program_management', 'business_analysis', 'management_consulting', 'international_project_management', 'business_transformation', 'business_process']\n",
      "  \n",
      "17 security_management ['security_management', 'security', 'risk_management', 'risk_assessment', 'defense']\n",
      "  \n",
      "18 negotiation ['negotiation', 'talks', 'contract_negotiation']\n",
      "  \n",
      "19 reporting_financier ['business_finance', 'credit', 'accounting', 'bank', 'financial_analysis', 'retail_bank', 'reporting_financier', 'finance', 'assurance', 'analyste_commercial', 'financial_accounting']\n",
      "  \n",
      "20 user_experience ['agile_methods', 'user_interface_design', 'programmation_web', 'web_design', 'user_experience', 'web_development']\n",
      "  \n",
      "21 english ['public_speaking', 'speaking_in_public', 'german', 'french', 'teaching', 'spanish', 'teamwork', 'communication', 'english']\n",
      "  \n",
      "22 media_relations ['communication_interne', 'strategic_communication', 'event_planning', 'corporate_communications', 'internal_communications', 'writing', 'public_relations', 'event_management', 'business_communication', 'crisis_communication', 'media_relations']\n",
      "  \n",
      "23 blogging ['music', 'direct_marketing', 'web_marketing', 'digital_strategy', 'photographie', 'web_project_management', 'crm', 'seo', 'sem', 'video', 'web_analytics', 'graphics', 'new_media', 'television', 'edition', 'advertising', 'email_marketing', 'graphisme', 'marketing_mobile', 'brand_development', 'digital_marketing', 'mobile_marketing', 'web_statistics', 'international_marketing', 'film', 'social_media', 'social_media_marketing', 'video_production', 'mobile_applications', 'journalism', 'editing', 'marketing_communications', 'e-commerce', 'fashion', 'press_releases', 'brand_management', 'blog', 'art', 'graphic_design', 'newsletters', 'blogging', 'digital_media']\n",
      "  \n",
      "24 mobile_communications ['umts', 'production_management', 'mobile_communications', 'cloud_computing', 'telecommunications', 'go-to-market_strategy', 'voip', 'ip', 'product_manager', 'mobile_devices', '3g', 'wireless', 'solution_selling', 'data_center', 'pre-sales']\n",
      "  \n",
      "25 soa ['soa', 'web_services', 'scrum', 'architecture', 'software_development', 'software_engineering', 'testing', 'agile_project_management', 'agile_methodologies']\n",
      "  \n",
      "26 droit_international ['corporate_governance', 'labor_law', 'competition_law', 'contract_law', 'civil_litigation', 'dispute_resolution', 'european_law', 'corporate_law', 'criminal_law', 'legal_research', 'fiscal_law', 'business_law', 'intellectual_property', 'international_law', 'commercial_litigation', 'legal_advice', 'droit_international', 'legal_writing', 'joint_ventures', 'litigation']\n",
      "  \n",
      "27 solution_architecture ['network_administration', 'network_architecture', 'clitoris', 'requirements_analysis', 'system_administrator', 'computer_security', 'tcp/ip', 'management_services_it', 'firewalls', 'information_security', 'it_service_management', 'network_security', 'software_project_management', 'virtualisation', 'enterprise_architecture', 'security_audits', 'infrastructure', 'project_portfolio_management', 'integration', 'iso_27001', 'solution_architecture', 'pmo', 'information_security_management']\n",
      "  \n",
      "28 cisco_technologies ['unix', 'windows_server', 'gsm', 'networking', 'iptv', 'enterprise_software', 'saas', 'vmware', 'cisco_technologies', 'active_directory', 'lte']\n",
      "  \n",
      "29 product_design ['product_design']\n",
      "  \n",
      "30 european_union ['international_relations', 'corporate_social_responsibility', 'government', 'political_sciences', 'international_development', 'policy', 'european_union', 'policy_analysis', 'politics', 'relations_internationales', 'public_policy', 'sustainable_development', 'public_affairs']\n",
      "  \n",
      "31 research ['research']\n",
      "  \n",
      "32 econometrics ['mathematics', 'statistics', 'data_analysis', 'economics', 'econometrics']\n",
      "  \n",
      "33 embedded_software ['embedded_software', 'embedded_systems']\n",
      "  \n",
      "34 financial_risk ['derivatives', 'consolidation', 'corporate_finance', 'banking', 'financial_markets', 'financial_modeling', 'audit', 'valuation', 'auditing', 'restructuring', 'financial_reporting', 'financial_risk', 'financial_audits', 'investment_banking', 'ifrs', 'asset_management', 'investments', 'internal_controls', 'forecasting', 'capital_markets', 'insurance', 'pricing', 'internal_audit', 'portfolio_management', 'project_finance', 'mergers_&_acquisitions', 'credit_risk', 'mergers', 'due_diligence', 'analysis', 'private_equity']\n",
      "  \n",
      "35 project_management ['project_management']\n",
      "  \n",
      "36 marketing_social ['online_marketing', 'marketing_digital', 'communication_marketing', 'marketing_social', 'digital_agenda', 'online_advertising', 'publicity', 'social_networks']\n",
      "  \n",
      "37 spark ['spark', 'nosql', 'data_science', 'hive', 'applied_mathematics', 'scala', 'elasticsearch', 'apache_spark', 'deep_learning', 'hadoop']\n",
      "  \n"
     ]
    },
    {
     "name": "stdout",
     "output_type": "stream",
     "text": [
      "38 distributed_systems ['services_web', 'artificial_intelligence', 'web_applications', 'unix_shell_scripting', 'data_visualization', 'android_development', 'statistical_modeling', 'etl', 'continuous_integration', 'statistical_data_analysis', 'linux_system_administration', 'data_exploration', 'design_pattern', 'data_warehouse', 'system_architecture', 'development_for_android', 'operations_research', 'oop', 'ios_development', 'computer_vision', 'data_warehousing', 'data_modeling', 'software_design', 'script_shell', 'test_driven_development', 'shell_scripting', 'distributed_systems', 'automatic_learning']\n",
      "  \n",
      "39 customer_relationship_management_(crm) ['customer_relationship_management_(crm)', 'team_management']\n",
      "  \n",
      "40 urban_design ['planification_urbaine', 'urban_planning', 'durability', 'interior_design', 'sketchup', 'urban_design']\n",
      "  \n",
      "41 twitter ['dreamweaver', 'press_relations', 'after_effects', 'instagram', 'facebook', 'adobe_premiere', 'twitter', 'cms', 'final_cut_pro', 'google_adwords', 'adobe_premiere_pro', 'adwords_google', 'adobe_creative_suite', 'design_thinking']\n",
      "  \n",
      "42 nanotechnology ['mathematical_modeling', 'sensors', 'fpga', 'molecular_biology', 'microcontrollers', 'characterization', 'computer_science', 'science', 'modelization', 'optimization', 'fluid_mechanics', 'nanotechnology', 'biotechnology', 'science_of_materials', 'cad', 'finite_element_analysis', 'physics', 'chimie', 'instrumentation', 'physique', 'modeling', 'materials', 'image_processing', 'materials_science', 'numerical_analysis', 'chemistry', 'robotics', 'finite_element_method', 'semiconductors', 'life_sciences', 'signal_processing', 'thermodynamics']\n",
      "  \n",
      "43 succession_planning ['hr_transformation', 'employer_brand', 'hris', 'technical_recruiting', 'organizational_design', 'executive_search', 'hr_policies', 'succession_planning', 'employment_law', 'talent_acquisition']\n",
      "  \n",
      "44 amazon_web_services ['ejb', 'joomla', 'jenkins', 'qlikview', 'vmware_esx', 'rest', 'objective-c', 'business_objects', 'github', 'django', 'spring_framework', 'tensorflow', 'servers', 'ubuntu', 'devops', 'tableau', 'amazon_web_services', 'j2ee_web_services', 'microsoft_exchange', 'asp.net', 'soap', 'css3', 'services_web_restful', 'unity3d', 'red_hat_linux', 'laravel', 'ruby_on_rails', 'opencv', 'board', 'apache', 'j2ee_application_development', 'ruby', 'subversion', 'mapreduce', 'bash', 'drupal', 'maple', 'scilab', 'oracle_database', 'vb.net', 'jpa', 'docker', 'databases', 'amazon_web_services_(aws)', 'merise', 'sharepoint', 'struts', 'perl', 'pattern_recognition', 'cassandra', 'symfony', 'phpmyadmin', 'junit', 'talend', 'jira', 'hbase', 'twitter_bootstrap', 'ios', 'apache_kafka', 'cascading_style_sheets_(css)', 'oracle_sql_developer', 'netbeans', 'natural_language_processing', 'bootstrap', 'visual_basic', 'framework_sping', 'kibana', 'asp.net_mvc', 'apache_pig', 'jsf', 'jsp', 'scientific_computing', 'numerical_simulation', 'react.js', 'windows_7', 'angular', 'qt', 'visual_studio', 'swift', 'j2ee', 'ansible', 'open_source', 'debian', 'sass']\n",
      "  \n",
      "45 power_plants ['power_generation', 'energy_markets', 'electricity_markets', 'amdec', 'petroleum', 'nuclear', 'energy_efficiency', 'aviation', 'aeronautics', 'industrial_engineering', 'energy_management', 'quality_system', 'epc', 'energetic_efficiency', 'manufacture', 'kaizen', 'oil_and_gas', 'process_engineering', 'kanban', 'sustainability', 'natural_gas', 'oil', 'quality_control', 'onshore', 'aircraft', 'gas', 'maintenance_management', 'iso_9001', 'automotive', 'lean_management', 'upstream', '5s', 'water', 'quality_assurance', 'power_plants', 'energy_industry', 'pipeline', 'iso_14001', 'smart_grid', 'quality_management', 'oil_&_gas', 'oil/gas', 'environmental_awareness', 'solar_energy', 'safety_management_systems']\n",
      "  \n",
      "46 ms_project ['microsoft_project', 'ms_project']\n",
      "  \n",
      "47 higher_education ['qualitative_research', 'history', 'education', 'higher_education']\n",
      "  \n",
      "48 management ['management']\n",
      "  \n",
      "49 staff_management ['staff_management', 'personnel_administration', 'executive_coaching', 'social_right', 'employee_engagement', 'social_relations', 'leadership_development', 'employee_training', 'personnel_management', 'gpec']\n",
      "  \n",
      "50 commercial_real_estate ['real_estate', 'commercial_real_estate', 'property_investment', 'real_estate_development', 'immovable', 'real_estate_transactions', 'property_management']\n",
      "  \n",
      "51 labview ['fortran', 'abaqus', 'arduino', 'ansys', 'vhdl', 'simulink', 'labview']\n",
      "  \n",
      "52 team_building ['leadership', 'team_leadership', 'team_building']\n",
      "  \n",
      "53 microsoft_access ['microsoft_outlook', 'outlook', 'microsoft_access', 'visual_basic_pour_applications_(vba)', 'pack_office']\n",
      "  \n",
      "54 microsoft_windows ['microsoft_windows', 'windows']\n",
      "  \n",
      "55 sap ['sap', 'sap_erp']\n",
      "  \n",
      "56 metro ['engineering_management', 'light_rail', 'signaling', 'railway_signalling', 'railway_rolling_stock', 'railway_systems', 'rolling_stock', 'metro']\n",
      "  \n",
      "57 restaurant ['client_satisfaction', 'hospitality_industry', 'food_and_drinks', 'corporate_events', 'luxury_goods', 'sports_marketing', 'marketing_par_e-mail', 'sport', 'food', 'mode', 'client_experience', 'management_marketing', 'marketing_direct', 'food_&_beverage', 'restaurant', 'restoration', 'hospitality_sector', 'business-to-business_(btob)', 'hotel_management', 'hospitality', 'hospitality_management', 'fmcg', 'revenue_analysis', 'travel_management', 'relations_clients', 'product_launch']\n",
      "  \n",
      "58 treasury_management ['life_insurance', 'managerial_finance', 'anti_money_laundering', 'market_risk', 'property_&_casualty_insurance', 'venture_capital', 'enterprise_risk_management', 'compliance', 'quantitative_finance', 'equities', 'financial_structuring', 'sarbanes-oxley_act', 'operational_risk_management', 'treasury_management', 'interest_rate_derivatives', 'operational_risk', 'equity_derivatives', 'actuarial_science', 'ratings', 'fixed_income', 'financial_services', 'general_insurance', 'emerging_markets', 'external_audit', 'hedge_funds', 'commercial_insurance', 'trading', 'cash_management', 'private_bank', 'treasury', 'fx_options', 'services_financiers', 'commodity_markets', 'corporate_development', 'capital_investment', 'structured_finance', 'm&a_experience', 'credit_analysis', 'wealth_management', 'global_insurance', 'commodity', 'solvency_ii', 'options', 'structured_products', 'tax', 'trading_systems', 'commercial_banking']\n",
      "  \n",
      "59 management_of_time ['management_of_time', 'problem_solving']\n",
      "  \n",
      "60 sales_process ['sales_operations', 'customer_experience', 'strategic_consulting', 'professional_services', 'customer_satisfaction', 'channel_partners', 'multi-channel_marketing', 'payments', 'sales_process', 'mobile_technology', 'mobile_payments', 'payment_systems', 'p&l_management', 'segmentation']\n",
      "  \n",
      "61 international_logistics ['transport_management', 'transportation_management', 'international_logistics', 'sourcing_strategy', 'purchase_management']\n",
      "  \n",
      "62 business_alliances ['it_transformation', 'lead_generation', 'innovation_management', 'business_alliances', 'mobile_internet', 'software_as_a_service_(saas)', 'telco']\n",
      "  \n",
      "63 macroeconomics ['analytical_skills', 'macroeconomics', 'economic_science', 'programmation_sas', 'analysis_of_statistical_data', 'stata']\n",
      "  \n",
      "64 sale_of_solutions ['sale_of_solutions', 'communications_mobiles']\n",
      "  \n",
      "65 excel ['prezi', 'excel', 'access', 'lotus_notes', 'sage', 'spss']\n",
      "  \n",
      "66 improvement_of_business_processes ['improvement_of_business_processes']\n",
      "  \n",
      "67 project_coordination ['project_coordination']\n",
      "  \n",
      "68 data_processing ['data_processing']\n",
      "  \n",
      "69 salesforce.com ['salesforce.com']\n",
      "  \n",
      "70 finance_management ['management_control', 'tax_system', 'forecasts', 'finance_management', 'cost_control']\n",
      "  \n",
      "71 army ['military', 'emergency_management', 'operational_planning', 'physical_security', 'army', 'military_operations', 'risk_analysis']\n",
      "  \n",
      "72 service_delivery ['managed_services', 'service_delivery']\n",
      "  \n",
      "73 bloomberg ['bloomberg']\n",
      "  \n",
      "74 e-business ['e-business']\n",
      "  \n",
      "75 sap_r_/_3 ['sap_r_/_3']\n",
      "  \n"
     ]
    },
    {
     "name": "stdout",
     "output_type": "stream",
     "text": [
      "76 ethernet ['cobit', 'wireless_networking', 'unified_communications', 'technical_support', 'san', 'qos', 'telecommunications_engineering', 'vod', 'broadband', 'troubleshooting', 'transmission', 'dhcp', 'data_integration', 'data_management', 'optical_fiber', 'ospf', 'lan-wan', 'bgp', 'internet_protocol_(ip)', 'digital_tv', 'data_migration', 'cissp', 'ethernet', 'identity_management', 'vulnerability_assessment', 'continued_internet_protocols_(tcp_/_ip)', '2g', 'high_availability', 'network_engineering', 'sdh', '4g', 'voice_over_ip_(voip)', 'gprs', 'fiber_optics', 'bss', 'pci_dss', 'applications_web', 'penetration_testing', 'business_process_design', 'sip', 'cmmi', 'routing', 'van', 'vas']\n",
      "  \n",
      "77 personal_development ['open_innovation', 'career_development', 'organizational_effectiveness', 'executive_management', 'business_modeling', 'personal_development', 'digital', 'labor_relations', 'digital_transformation', 'innovation', 'performance_improvement']\n",
      "  \n",
      "78 sponsoring ['communication_on_social_networks', 'budget_management', 'sponsorship', 'selling_process', 'events_organisation', 'assistance_administrative', 'sports_management', 'prospection', 'sponsoring', 'foreign_languages', 'marketing_international', 'animation', 'customer_relations']\n",
      "  \n",
      "79 visual_arts ['video_montage', 'magazines', 'film_production', 'fine_arts', 'multimedia', 'artistic_direction', 'creative_direction', 'entertainment', 'visual_arts', 'museums', 'radio', 'contemporary_art']\n",
      "  \n",
      "80 landscape_architecture ['ptc_creo', 'themselves', 'sustainable_design', 'design_research', 'town_planning', 'design_durable', 'revit', '3d_studio_max', 'architectural_design', 'design_architectural', 'archicad', 'landscape_architecture', 'solid_edge', 'arcgis']\n",
      "  \n",
      "81 benchmarking ['commerce', 'intercultural_communication', 'fundraising', 'visual_communication', 'portuguese', 'professional_english', 'sphinx', 'sense_of_organization', 'benchmarking', 'creativity', 'italy', 'time_management', 'networking_social', 'strategic_watch', 'events', 'chinese', 'team_spirit', 'prospection_commerciale', 'relationship_management_with_partners', 'communication_skills']\n",
      "  \n",
      "82 video_editing ['content_strategy', 'content_management', 'online_journalism', 'digital_photography', 'music_industry', 'concept_development', 'documentaries', 'creative_writing', 'diffusion', 'information_architecture', 'sea', 'industrial_design', 'ergonomics', 'design_strategy', 'painting', 'drawing', 'sketching', 'video_editing', 'design', 'the_history_of_art', 'performing_arts', 'editorial', 'theater', 'music_production', 'postproduction', 'sketch', 'art_history', 'creative_strategy', 'cultural_heritage', 'logo_design', 'media_planning', 'broadcast', 'user-oriented_design', 'user-centered_design', 'wireframe', '3d', 'usability_testing', 'corporate_identity', 'concept_design', 'ppc', 'art_direction', 'curating', 'usability', 'affiliate_marketing', 'short_films', 'integrated_marketing', 'design_interactif', 'packaging', 'publishing']\n",
      "  \n",
      "83 administration ['administration', 'human_resources_development']\n",
      "  \n",
      "84 medical_device ['medical_device', 'pharmaceutical_industry']\n",
      "  \n",
      "85 incident_management ['it_audit', 'incident_management', 'disaster_recovery', 'business_continuity', 'it_operations', 'pmp', 'information_technology']\n",
      "  \n",
      "86 process_optimization ['process_management', 'lean_six_sigma', 'vendor_management', 'project_delivery', 'process_optimization', 'operational_excellence']\n",
      "  \n",
      "87 contract_recruitment ['compensation_&_benefits', 'payroll', 'search_for_leaders', 'internet_recruiting', 'hr_regulation', 'deferred_compensation', 'compensation_&_benefit', 'employee_benefits', 'sap_hr', 'transformation_rh', 'recruitment_advertising', 'resource_management', 'graduate_recruitment', 'contract_recruitment', 'peoplesoft']\n",
      "  \n",
      "88 applications_mobiles ['applications_mobiles']\n",
      "  \n",
      "89 information_management ['information_management', 'document_management', 'knowledge_management']\n",
      "  \n",
      "90 vpn ['dns', 'network_design', 'storage', 'vpn', 'mpls']\n",
      "  \n",
      "91 user_experience_design ['interaction_design', 'user_experience_design', 'user_interface']\n",
      "  \n",
      "92 of ['data_encryption_standard', 'of']\n",
      "  \n",
      "93 concrete ['concrete']\n",
      "  \n",
      "94 organic_chemistry ['thermodynamique', 'bioinformatics', 'spectroscopy', 'mechanical', 'organic_chemistry', 'aerodynamics', 'transfert_thermique', 'cell_culture', 'analytical_chemistry', 'composite', 'neuroscience', 'structural_engineering', 'nuclear_engineering', 'optics', 'aerospace_engineering', 'cell_biology', 'power_electronics', 'thermal_transfer', 'cfd']\n",
      "  \n",
      "95 subsea_engineering ['electricity', 'requirements_management', 'climate_change', 'supplier_development', 'health_safety_environment', 'haccp', 'mass_spectrometry', 'geophysics', 'rail_transport', 'drilling', 'airlines', 'process_control', 'petroleum_engineering', 'plane', 'piping', 'tpm', 'freight', 'environmental_impact_assessment', 'environmental_engineering', 'genetic', 'command', 'environmental_management_systems', 'biology', 'geology', 'mineral_exploration', 'optimization_of_the_logistics_chain', 'dmaic', 'cartography', 'regulatory_affairs', 'petrochemistry', 'petroleum_geology', 'aircraft_maintenance', 'plc', 'maintenance_and_repair', 'public_health', 'environmental_policy', 'mrp', 'hospitals', 'energy_policy', 'project_control', 'microbiology', 'biomedical_engineering', 'hplc', 'maintenance', 'scada', 'power_plant', 'inspection', 'healthcare', 'field_development', 'mechanics', 'power_systems', 'commercial_aviation', 'iso', 'occupational_health', 'microscopy', 'nuclear_safety', '3pl', 'energy_generation', 'offshore_drilling', 'cellular_biology', 'process_automation', 'oncology', 'mining', 'power_distribution', 'control_systems_design', 'reservoir_engineering', 'water_treatment', 'automotive_engineering', 'surveillance', 'ohsas_18001', 'vehicles', 'avionics', 'fire_safety', 'rail_operations', 'metrology', 'petrochemical', 'photovoltaic', 'fmea', 'materials_management', 'commandment', 'clinical_research', 'health_services', 'lng', 'refinery', 'national_security', 'value_stream_mapping', 'clinical_trials', 'laboratory', 'hydraulic', 'automobile', 'supplier_negotiation', 'environmental_issues', 'polymers', 'ecology', 'earth_science', 'subsea_engineering', 'metallurgy', 'nanomaterials', 'warehousing', 'oil_&_gas_industry', 'quality_audit', 'pharmaceutical_sector', 'supply_chain_optimization', 'transportation_engineering', 'system_design']\n",
      "  \n",
      "96 negotiations_with_suppliers ['commerce_international', 'facilities_management', 'negotiations_with_suppliers', 'equipment_management', 'sourcing_mondial', 'warehouse', 'fret', 'food_safety', 'procurement_management', 'import-export']\n",
      "  \n"
     ]
    }
   ],
   "source": [
    "sc2.print_skill_title()"
   ]
  },
  {
   "cell_type": "code",
   "execution_count": 9,
   "metadata": {},
   "outputs": [
    {
     "name": "stdout",
     "output_type": "stream",
     "text": [
      "['commerce_international', 'facilities_management', 'supplier_development', 'health_safety_environment', 'haccp', 'rail_transport', 'freight', 'negotiations_with_suppliers', 'equipment_management', 'command', 'optimization_of_the_logistics_chain', 'sourcing_mondial', 'mrp', 'occupational_health', '3pl', 'warehouse', 'fret', 'surveillance', 'ohsas_18001', 'food_safety', 'fire_safety', 'rail_operations', 'materials_management', 'commandment', 'procurement_management', 'national_security', 'import-export', 'automobile', 'supplier_negotiation', 'warehousing', 'quality_audit', 'supply_chain_optimization', 'transportation_engineering']\n",
      "  \n",
      "['electricity', 'requirements_management', 'climate_change', 'geophysics', 'drilling', 'airlines', 'process_control', 'petroleum_engineering', 'plane', 'piping', 'tpm', 'environmental_impact_assessment', 'environmental_engineering', 'environmental_management_systems', 'geology', 'mineral_exploration', 'dmaic', 'petrochemistry', 'petroleum_geology', 'aircraft_maintenance', 'plc', 'maintenance_and_repair', 'environmental_policy', 'energy_policy', 'project_control', 'maintenance', 'scada', 'power_plant', 'inspection', 'field_development', 'power_systems', 'commercial_aviation', 'iso', 'nuclear_safety', 'energy_generation', 'offshore_drilling', 'process_automation', 'mining', 'power_distribution', 'control_systems_design', 'reservoir_engineering', 'water_treatment', 'automotive_engineering', 'vehicles', 'avionics', 'petrochemical', 'photovoltaic', 'fmea', 'lng', 'refinery', 'value_stream_mapping', 'hydraulic', 'earth_science', 'subsea_engineering', 'oil_&_gas_industry', 'system_design']\n",
      "  \n",
      "['mass_spectrometry', 'bioinformatics', 'spectroscopy', 'genetic', 'biology', 'organic_chemistry', 'cartography', 'regulatory_affairs', 'public_health', 'hospitals', 'microbiology', 'biomedical_engineering', 'hplc', 'healthcare', 'cell_culture', 'analytical_chemistry', 'microscopy', 'cellular_biology', 'neuroscience', 'oncology', 'optics', 'cell_biology', 'clinical_research', 'health_services', 'clinical_trials', 'laboratory', 'environmental_issues', 'ecology', 'nanomaterials', 'pharmaceutical_sector']\n",
      "  \n",
      "['thermodynamique', 'mechanical', 'aerodynamics', 'transfert_thermique', 'mechanics', 'composite', 'structural_engineering', 'nuclear_engineering', 'metrology', 'aerospace_engineering', 'power_electronics', 'thermal_transfer', 'polymers', 'metallurgy', 'cfd']\n",
      "  \n"
     ]
    }
   ],
   "source": [
    "sc2.sub_clustering_test(n_clusters=4, index_cluster=79, linkage='average')"
   ]
  },
  {
   "cell_type": "code",
   "execution_count": 10,
   "metadata": {},
   "outputs": [],
   "source": [
    "sc2.sub_clustering(n_clusters=3, index_cluster=[79], linkage='complete')"
   ]
  },
  {
   "cell_type": "code",
   "execution_count": null,
   "metadata": {},
   "outputs": [],
   "source": [
    "sc2.merge_clusters([[0,9,53],[1,83],[46,35,67],[88,23],[6,68]])"
   ]
  },
  {
   "cell_type": "markdown",
   "metadata": {},
   "source": [
    "# visualization in 2d by using Autoencoder"
   ]
  },
  {
   "cell_type": "code",
   "execution_count": 5,
   "metadata": {},
   "outputs": [
    {
     "name": "stderr",
     "output_type": "stream",
     "text": [
      "100%|██████████████████████████████████████████████████████████████████████████████████| 10/10 [00:00<00:00,  6.45it/s]\n"
     ]
    },
    {
     "data": {
      "image/png": "[encoded data removed]",
      "text/plain": [
       "<Figure size 432x288 with 1 Axes>"
      ]
     },
     "metadata": {
      "needs_background": "light"
     },
     "output_type": "display_data"
    }
   ],
   "source": [
    "sc.visualize_in_2d()"
   ]
  },
  {
   "cell_type": "code",
   "execution_count": 6,
   "metadata": {},
   "outputs": [
    {
     "data": {
      "image/png": "[encoded data removed]",
      "text/plain": [
       "<Figure size 432x288 with 1 Axes>"
      ]
     },
     "metadata": {
      "needs_background": "light"
     },
     "output_type": "display_data"
    }
   ],
   "source": [
    "sc.partial_visualize_in_2d(cluster_index=[5,12,35,44,64,75,81])"
   ]
  },
  {
   "cell_type": "code",
   "execution_count": null,
   "metadata": {},
   "outputs": [],
   "source": []
  }
 ],
 "metadata": {
  "kernelspec": {
   "display_name": "Python 3",
   "language": "python",
   "name": "python3"
  },
  "language_info": {
   "codemirror_mode": {
    "name": "ipython",
    "version": 3
   },
   "file_extension": ".py",
   "mimetype": "text/x-python",
   "name": "python",
   "nbconvert_exporter": "python",
   "pygments_lexer": "ipython3",
   "version": "3.6.7"
  }
 },
 "nbformat": 4,
 "nbformat_minor": 2
}
