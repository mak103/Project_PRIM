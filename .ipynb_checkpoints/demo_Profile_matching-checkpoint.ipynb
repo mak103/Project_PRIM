{
 "cells": [
  {
   "cell_type": "code",
   "execution_count": 1,
   "metadata": {},
   "outputs": [
    {
     "name": "stderr",
     "output_type": "stream",
     "text": [
      "D:\\Anaconda\\lib\\site-packages\\gensim\\utils.py:1197: UserWarning: detected Windows; aliasing chunkize to chunkize_serial\n",
      "  warnings.warn(\"detected Windows; aliasing chunkize to chunkize_serial\")\n"
     ]
    }
   ],
   "source": [
    "#import sys\n",
    "#sys.path.append('...')\n",
    "from my_functions import *\n",
    "import bson "
   ]
  },
  {
   "cell_type": "code",
   "execution_count": 2,
   "metadata": {},
   "outputs": [],
   "source": [
    "with open(\"../Data/linkedin_db/skill.bson\",'rb') as f: \n",
    "    data_skill = bson.decode_all(f.read()) \n",
    "    f.close()"
   ]
  },
  {
   "cell_type": "code",
   "execution_count": 3,
   "metadata": {},
   "outputs": [],
   "source": [
    "with open(\"../Data/linkedin_db/profile.bson\",'rb') as f: \n",
    "    data_profile = bson.decode_all(f.read()) \n",
    "    f.close()"
   ]
  },
  {
   "cell_type": "code",
   "execution_count": 4,
   "metadata": {},
   "outputs": [],
   "source": [
    "pm = Profile_matching(data_profile, data_skill)\n",
    "pm.fit()"
   ]
  },
  {
   "cell_type": "code",
   "execution_count": 6,
   "metadata": {},
   "outputs": [
    {
     "name": "stdout",
     "output_type": "stream",
     "text": [
      "input profile:\n",
      "index: 31929\n",
      "['Top Skills: ', 'Science actuarielle', 'Statistiques', 'R']\n",
      "['Other Skills: ', 'SAS', 'Visual Basic pour Applications (VBA)', 'Microsoft Access', 'Microsoft Office']\n",
      "  \n",
      "matched profiles:\n",
      "index: 474\n",
      "['Top Skills: ', 'R', 'Python', 'Java']\n",
      "['Other Skills: ', 'React.js', 'SQL', 'aws', 'Gestion de projet', 'Apprentissage automatique', 'Analyse de données', 'Statistiques', 'Exploration des données', 'Anglais', 'Ergonomie informatique', 'D3.js']\n",
      "  \n",
      "index: 2167\n",
      "['Top Skills: ', 'R', 'Statistics', 'Equities']\n",
      "['Other Skills: ', 'Econometrics', 'FX trading', 'Risk Management', 'Trading', 'Investment Banking', 'Electronic Trading', 'FX Trading', 'Derivatives', 'Trading Systems', 'Matlab', 'Python', 'C#', 'SAS', 'Quantitative Finance', 'Quantitative Investing', 'Quant', 'Statistical Arbitrage']\n",
      "  \n",
      "index: 2234\n",
      "['Top Skills: ', 'R', 'SAS', 'Stata']\n",
      "['Other Skills: ', 'Assurance', 'Microsoft Office', 'Matlab', 'Microsoft Excel', 'Maple', 'Mathématiques appliquées', 'Modélisation mathématique', 'Science actuarielle', 'Solvabilité II', 'Statistiques', 'Modélisation statistique']\n",
      "  \n"
     ]
    }
   ],
   "source": [
    "pm.match(31929, nb_profile=3, show_other_skill=True)"
   ]
  },
  {
   "cell_type": "code",
   "execution_count": null,
   "metadata": {},
   "outputs": [],
   "source": []
  }
 ],
 "metadata": {
  "kernelspec": {
   "display_name": "Python 3",
   "language": "python",
   "name": "python3"
  },
  "language_info": {
   "codemirror_mode": {
    "name": "ipython",
    "version": 3
   },
   "file_extension": ".py",
   "mimetype": "text/x-python",
   "name": "python",
   "nbconvert_exporter": "python",
   "pygments_lexer": "ipython3",
   "version": "3.6.7"
  }
 },
 "nbformat": 4,
 "nbformat_minor": 2
}
