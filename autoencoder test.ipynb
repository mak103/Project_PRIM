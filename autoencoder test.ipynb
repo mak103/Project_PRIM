{
 "cells": [
  {
   "cell_type": "code",
   "execution_count": 1,
   "metadata": {},
   "outputs": [],
   "source": [
    "import pandas as pd\n",
    "import tensorflow as tf\n",
    "import numpy as np\n",
    "import matplotlib.pyplot as plt\n",
    "from tqdm import tqdm"
   ]
  },
  {
   "cell_type": "code",
   "execution_count": 2,
   "metadata": {},
   "outputs": [],
   "source": [
    "data = pd.read_csv('../Data/df_skill.csv')\n",
    "data.drop('Unnamed: 0',axis = 1,inplace=True)"
   ]
  },
  {
   "cell_type": "code",
   "execution_count": 3,
   "metadata": {},
   "outputs": [],
   "source": [
    "data.drop(['microsoft_office', 'microsoft_word', 'microsoft_excel', 'management', 'project_management','change_management'], axis = 1, inplace=True)"
   ]
  },
  {
   "cell_type": "code",
   "execution_count": null,
   "metadata": {},
   "outputs": [],
   "source": [
    "freq = (data>0).apply(sum).values\n",
    "data = data * (1/(1+np.log(freq)))\n",
    "\n",
    "drop_list = []\n",
    "for i in range(len(freq)):\n",
    "    if freq[i] == 1:\n",
    "        drop_list.append(data.columns[i])\n",
    "data.drop(drop_list, axis = 1, inplace=True)"
   ]
  },
  {
   "cell_type": "code",
   "execution_count": null,
   "metadata": {},
   "outputs": [],
   "source": [
    "data.shape"
   ]
  },
  {
   "cell_type": "code",
   "execution_count": null,
   "metadata": {},
   "outputs": [],
   "source": [
    "data.info(0)"
   ]
  },
  {
   "cell_type": "code",
   "execution_count": 2,
   "metadata": {},
   "outputs": [],
   "source": [
    "data = pd.read_csv('../Notebook/skill_vectors.csv')"
   ]
  },
  {
   "cell_type": "code",
   "execution_count": null,
   "metadata": {},
   "outputs": [],
   "source": [
    "data.shape"
   ]
  },
  {
   "cell_type": "code",
   "execution_count": null,
   "metadata": {},
   "outputs": [],
   "source": [
    "#tf_data = tf.constant(data.values, dtype=tf.float32)"
   ]
  },
  {
   "cell_type": "code",
   "execution_count": null,
   "metadata": {},
   "outputs": [],
   "source": [
    "learning_rate = 0.01\n",
    "training_epochs = 10\n",
    "batch_size = 400\n",
    "display_step = 1\n",
    "examples_to_show = 10"
   ]
  },
  {
   "cell_type": "code",
   "execution_count": null,
   "metadata": {},
   "outputs": [],
   "source": [
    "n_input = data.shape[1]\n",
    "\n",
    "tf.set_random_seed(50)\n",
    "\n",
    "X = tf.placeholder(tf.float32,[None, n_input])\n",
    "\n",
    "n_hidden_layer1 = 64#1024\n",
    "n_hidden_layer2 = 8#256\n",
    "n_hidden_layer3 = 2#64\n",
    "#n_hidden_layer4 = 8\n",
    "#n_hidden_layer5 = 2\n"
   ]
  },
  {
   "cell_type": "code",
   "execution_count": null,
   "metadata": {},
   "outputs": [],
   "source": [
    "weights = {\n",
    "    'encoder_w1':tf.Variable(tf.random_normal([n_input, n_hidden_layer1])),\n",
    "    'encoder_w2':tf.Variable(tf.random_normal([n_hidden_layer1, n_hidden_layer2])),\n",
    "    'encoder_w3':tf.Variable(tf.random_normal([n_hidden_layer2, n_hidden_layer3])),\n",
    "    #'encoder_w4':tf.Variable(tf.random_normal([n_hidden_layer3, n_hidden_layer4])),#\n",
    "    #'encoder_w5':tf.Variable(tf.random_normal([n_hidden_layer4, n_hidden_layer5])),#\n",
    "    \n",
    "    #'decoder_w1':tf.Variable(tf.random_normal([n_hidden_layer5, n_hidden_layer4])),#\n",
    "    #'decoder_w2':tf.Variable(tf.random_normal([n_hidden_layer4, n_hidden_layer3])),#\n",
    "    #'decoder_w3':tf.Variable(tf.random_normal([n_hidden_layer3, n_hidden_layer2])),#\n",
    "    #'decoder_w4':tf.Variable(tf.random_normal([n_hidden_layer2, n_hidden_layer1])),#\n",
    "    #'decoder_w5':tf.Variable(tf.random_normal([n_hidden_layer1, n_input])),#\n",
    "    'decoder_w1':tf.Variable(tf.random_normal([n_hidden_layer3, n_hidden_layer2])),\n",
    "    'decoder_w2':tf.Variable(tf.random_normal([n_hidden_layer2, n_hidden_layer1])),\n",
    "    'decoder_w3':tf.Variable(tf.random_normal([n_hidden_layer1, n_input])),\n",
    "}\n",
    "\n",
    "biases = {\n",
    "    'encoder_b1':tf.Variable(tf.random_normal([n_hidden_layer1], seed=20)),\n",
    "    'encoder_b2':tf.Variable(tf.random_normal([n_hidden_layer2], seed=20)),\n",
    "    'encoder_b3':tf.Variable(tf.random_normal([n_hidden_layer3], seed=20)),\n",
    "    #'encoder_b4':tf.Variable(tf.random_normal([n_hidden_layer4])),#\n",
    "    #'encoder_b5':tf.Variable(tf.random_normal([n_hidden_layer5])),#\n",
    "    \n",
    "    #'decoder_b1':tf.Variable(tf.random_normal([n_hidden_layer4])),#\n",
    "    #'decoder_b2':tf.Variable(tf.random_normal([n_hidden_layer3])),#\n",
    "    #'decoder_b3':tf.Variable(tf.random_normal([n_hidden_layer2])),#\n",
    "    #'decoder_b4':tf.Variable(tf.random_normal([n_hidden_layer1])),#\n",
    "    #'decoder_b5':tf.Variable(tf.random_normal([n_input])),#\n",
    "    'decoder_b1':tf.Variable(tf.random_normal([n_hidden_layer2])),\n",
    "    'decoder_b2':tf.Variable(tf.random_normal([n_hidden_layer1])),\n",
    "    'decoder_b3':tf.Variable(tf.random_normal([n_input])),\n",
    "}"
   ]
  },
  {
   "cell_type": "code",
   "execution_count": null,
   "metadata": {},
   "outputs": [],
   "source": [
    "def encoder(x):\n",
    "    layer_1 = tf.nn.sigmoid(tf.add(tf.matmul(x, weights['encoder_w1']), biases['encoder_b1']))\n",
    "    layer_2 = tf.nn.sigmoid(tf.add(tf.matmul(layer_1, weights['encoder_w2']), biases['encoder_b2']))\n",
    "    layer_3 = tf.nn.sigmoid(tf.add(tf.matmul(layer_2, weights['encoder_w3']), biases['encoder_b3']))\n",
    "    #layer_4 = tf.nn.sigmoid(tf.add(tf.matmul(layer_3, weights['encoder_w4']), biases['encoder_b4']))#\n",
    "    #layer_5 = tf.nn.sigmoid(tf.add(tf.matmul(layer_4, weights['encoder_w5']), biases['encoder_b5']))#\n",
    "    #return layer_5#\n",
    "    return layer_3\n",
    "\n",
    "def decoder(x):\n",
    "    layer_1 = tf.nn.sigmoid(tf.add(tf.matmul(x, weights['decoder_w1']), biases['decoder_b1']))\n",
    "    layer_2 = tf.nn.sigmoid(tf.add(tf.matmul(layer_1, weights['decoder_w2']), biases['decoder_b2']))\n",
    "    layer_3 = tf.nn.sigmoid(tf.add(tf.matmul(layer_2, weights['decoder_w3']), biases['decoder_b3']))\n",
    "    #layer_4 = tf.nn.sigmoid(tf.add(tf.matmul(layer_3, weights['decoder_w4']), biases['decoder_b4']))#\n",
    "    #layer_5 = tf.nn.sigmoid(tf.add(tf.matmul(layer_4, weights['decoder_w5']), biases['decoder_b5']))#\n",
    "    #return layer_5\n",
    "    return layer_3"
   ]
  },
  {
   "cell_type": "code",
   "execution_count": null,
   "metadata": {},
   "outputs": [],
   "source": [
    "encoder_op = encoder(X)\n",
    "decoder_op = decoder(encoder_op)\n",
    "\n",
    "y_pred = decoder_op\n",
    "y_true = X\n",
    "\n",
    "cost = tf.reduce_mean(tf.pow(y_pred - y_true, 2))\n",
    "optimizer = tf.train.AdamOptimizer(learning_rate).minimize(cost)"
   ]
  },
  {
   "cell_type": "code",
   "execution_count": null,
   "metadata": {},
   "outputs": [],
   "source": [
    "%%time\n",
    "with tf.Session() as sess:\n",
    "    init = tf.global_variables_initializer()\n",
    "    sess.run(init)\n",
    "    n_batch = int(data.shape[0]/batch_size)\n",
    "    for epoch in tqdm(range(training_epochs)):\n",
    "        for batch_idx in range(n_batch):\n",
    "            start = batch_idx * batch_size\n",
    "            stop = start + batch_size\n",
    "            _, encoder_result = sess.run([optimizer, encoder_op], feed_dict={X: data[start:stop]})\n",
    "    #print(sess.run(cost, feed_dict={X:data[start:stop]}))\n",
    "    X_test = sess.run(encoder_op, feed_dict={X:data})"
   ]
  },
  {
   "cell_type": "code",
   "execution_count": null,
   "metadata": {},
   "outputs": [],
   "source": [
    "plt.scatter(X_test[:,0],X_test[:,1])\n",
    "plt.show()\n",
    "X_test.shape"
   ]
  },
  {
   "cell_type": "code",
   "execution_count": null,
   "metadata": {},
   "outputs": [],
   "source": [
    "type(X_test)"
   ]
  },
  {
   "cell_type": "code",
   "execution_count": null,
   "metadata": {
    "scrolled": true
   },
   "outputs": [],
   "source": [
    "#from sklearn.cluster import SpectralClustering\n",
    "#clustering = SpectralClustering(n_clusters=2,assign_labels=\"discretize\", random_state=0).fit(X_test)"
   ]
  },
  {
   "cell_type": "code",
   "execution_count": 4,
   "metadata": {},
   "outputs": [
    {
     "name": "stderr",
     "output_type": "stream",
     "text": [
      "D:\\Anaconda\\lib\\site-packages\\gensim\\utils.py:1197: UserWarning: detected Windows; aliasing chunkize to chunkize_serial\n",
      "  warnings.warn(\"detected Windows; aliasing chunkize to chunkize_serial\")\n"
     ]
    }
   ],
   "source": [
    "from gensim.models import word2vec\n",
    "model = word2vec.Word2Vec.load('../Utils/word2vec_model_allskills')"
   ]
  },
  {
   "cell_type": "code",
   "execution_count": 5,
   "metadata": {},
   "outputs": [
    {
     "name": "stderr",
     "output_type": "stream",
     "text": [
      "D:\\Anaconda\\lib\\site-packages\\ipykernel_launcher.py:10: DeprecationWarning: Call to deprecated `__getitem__` (Method will be removed in 4.0.0, use self.wv.__getitem__() instead).\n",
      "  # Remove the CWD from sys.path while we load stuff.\n"
     ]
    }
   ],
   "source": [
    "import dill as pickle\n",
    "f = open(\"../Data/all_top_skills_final_fre.txt\",\"rb\")\n",
    "key_list = pickle.load(f)\n",
    "f.close()\n",
    "\n",
    "\n",
    "skill_list = []\n",
    "for i in key_list.keys():\n",
    "    try: \n",
    "        model[i]\n",
    "        skill_list.append(i)\n",
    "    except:\n",
    "        pass"
   ]
  },
  {
   "cell_type": "code",
   "execution_count": 6,
   "metadata": {},
   "outputs": [
    {
     "ename": "NameError",
     "evalue": "name 'X_test' is not defined",
     "output_type": "error",
     "traceback": [
      "\u001b[1;31m---------------------------------------------------------------------------\u001b[0m",
      "\u001b[1;31mNameError\u001b[0m                                 Traceback (most recent call last)",
      "\u001b[1;32m<ipython-input-6-0c1cdefd54ea>\u001b[0m in \u001b[0;36m<module>\u001b[1;34m\u001b[0m\n\u001b[1;32m----> 1\u001b[1;33m \u001b[0mX_test\u001b[0m\u001b[1;33m\u001b[0m\u001b[1;33m\u001b[0m\u001b[0m\n\u001b[0m",
      "\u001b[1;31mNameError\u001b[0m: name 'X_test' is not defined"
     ]
    }
   ],
   "source": [
    "X_test"
   ]
  },
  {
   "cell_type": "code",
   "execution_count": null,
   "metadata": {},
   "outputs": [],
   "source": [
    "from sklearn.cluster import AgglomerativeClustering\n",
    "clustering_agg = AgglomerativeClustering(n_clusters=50,linkage='average')"
   ]
  },
  {
   "cell_type": "code",
   "execution_count": null,
   "metadata": {},
   "outputs": [],
   "source": [
    "result_agg = clustering_agg.fit_predict(X_test)\n",
    "for i in range(50):\n",
    "    list_x = []\n",
    "    list_y = []\n",
    "    for j in range(len(result_agg)):\n",
    "        if result_agg[j] == i:\n",
    "            list_x.append(X_test[j,0])\n",
    "            list_y.append(X_test[j,1])\n",
    "    plt.scatter(list_x,list_y)\n",
    "plt.show()"
   ]
  },
  {
   "cell_type": "code",
   "execution_count": null,
   "metadata": {},
   "outputs": [],
   "source": [
    "clustering_agg = AgglomerativeClustering(n_clusters=50,linkage='average')\n",
    "result_agg = clustering_agg.fit_predict(data)\n",
    "for i in range(50):\n",
    "    list_x = []\n",
    "    list_y = []\n",
    "    for j in range(len(result_agg)):\n",
    "        if result_agg[j] == i:\n",
    "            list_x.append(X_test[j,0])\n",
    "            list_y.append(X_test[j,1])\n",
    "    plt.scatter(list_x,list_y)\n",
    "plt.show()"
   ]
  },
  {
   "cell_type": "code",
   "execution_count": null,
   "metadata": {},
   "outputs": [],
   "source": [
    "from collections import Counter\n",
    "skill_counts = Counter(result_agg)\n",
    "top_three = skill_counts.most_common(3)\n",
    "top_three"
   ]
  },
  {
   "cell_type": "code",
   "execution_count": null,
   "metadata": {},
   "outputs": [],
   "source": [
    "for i in range(50):\n",
    "    if i != top_three[0][0]:\n",
    "        list_temp = []\n",
    "        for j in range(len(result_agg)):\n",
    "            if result_agg[j] == i:\n",
    "                list_temp.append(skill_list[j])\n",
    "        print(list_temp)\n",
    "        print(\"  \")"
   ]
  },
  {
   "cell_type": "code",
   "execution_count": null,
   "metadata": {},
   "outputs": [],
   "source": []
  },
  {
   "cell_type": "code",
   "execution_count": null,
   "metadata": {},
   "outputs": [],
   "source": []
  },
  {
   "cell_type": "code",
   "execution_count": null,
   "metadata": {},
   "outputs": [],
   "source": []
  },
  {
   "cell_type": "code",
   "execution_count": null,
   "metadata": {},
   "outputs": [],
   "source": []
  },
  {
   "cell_type": "code",
   "execution_count": null,
   "metadata": {},
   "outputs": [],
   "source": [
    "%%time\n",
    "from sklearn.mixture import GaussianMixture\n",
    "clustering = GaussianMixture(n_components=500,covariance_type='spherical',init_params='random').fit(X_test)"
   ]
  },
  {
   "cell_type": "code",
   "execution_count": null,
   "metadata": {},
   "outputs": [],
   "source": [
    "result = clustering.predict(X_test)\n",
    "for i in range(500):\n",
    "    if sum(result == i) > 0:\n",
    "        print(str(sum(result == i))+\"  \"+str(i))"
   ]
  },
  {
   "cell_type": "code",
   "execution_count": null,
   "metadata": {},
   "outputs": [],
   "source": [
    "import bson\n",
    "with open(\"../Data/linkedin_db/profile.bson\",'rb') as f: \n",
    "    data_profile = bson.decode_all(f.read()) \n",
    "    f.close()"
   ]
  },
  {
   "cell_type": "code",
   "execution_count": null,
   "metadata": {},
   "outputs": [],
   "source": [
    "def show_skill(index):\n",
    "    show = [[],[]]\n",
    "    show[0].append('Top Skills: ')\n",
    "    show[1].append('Other Skills: ')\n",
    "    for skills in data_profile[index]['skills']:\n",
    "        if skills['title'] == 'Top Skills':\n",
    "            for skill in skills['skills']:\n",
    "                show[0].append(skill['title'])\n",
    "        else:\n",
    "            for skill in skills['skills']:\n",
    "                show[1].append(skill['title'])\n",
    "    print(show[0])\n",
    "    #print(show[1])\n",
    "    return"
   ]
  },
  {
   "cell_type": "code",
   "execution_count": null,
   "metadata": {},
   "outputs": [],
   "source": [
    "import heapq\n",
    "cluster1_index = []\n",
    "for i in range(len(result)):\n",
    "    if result[i] == 109:\n",
    "        cluster1_index.append(i)\n",
    "\n",
    "temp = np.zeros([data.shape[1]])\n",
    "for i in cluster1_index:\n",
    "    temp += data.loc[i].values \n",
    "    show_skill(i)\n",
    "\n",
    "temp_list = temp.tolist()\n",
    "max_index = heapq.nlargest(3, range(len(temp_list)), temp_list.__getitem__)\n",
    "data.columns[max_index]"
   ]
  },
  {
   "cell_type": "code",
   "execution_count": null,
   "metadata": {},
   "outputs": [],
   "source": [
    "key_list.keys()"
   ]
  },
  {
   "cell_type": "code",
   "execution_count": null,
   "metadata": {},
   "outputs": [],
   "source": [
    "sorted(key_list.items(),key=lambda item:item[1],reverse=True)"
   ]
  },
  {
   "cell_type": "code",
   "execution_count": null,
   "metadata": {},
   "outputs": [],
   "source": [
    "import dill as pickle\n",
    "f = open(\"../Data/all_top_skills_final_fre.txt\",\"rb\")\n",
    "key_list = pickle.load(f)\n",
    "f.close()"
   ]
  },
  {
   "cell_type": "code",
   "execution_count": null,
   "metadata": {},
   "outputs": [],
   "source": [
    "temp_list.index"
   ]
  },
  {
   "cell_type": "code",
   "execution_count": null,
   "metadata": {},
   "outputs": [],
   "source": [
    "import heapq\n",
    "max_index = heapq.nlargest(3, range(len(temp_list)), temp_list.__getitem__)\n",
    "max_index"
   ]
  },
  {
   "cell_type": "code",
   "execution_count": null,
   "metadata": {},
   "outputs": [],
   "source": [
    "list(temp)"
   ]
  },
  {
   "cell_type": "code",
   "execution_count": null,
   "metadata": {},
   "outputs": [],
   "source": [
    "freq = (data>0).apply(sum).values\n",
    "data = data * (1/(1+np.log(freq)))"
   ]
  },
  {
   "cell_type": "code",
   "execution_count": null,
   "metadata": {},
   "outputs": [],
   "source": [
    "data.columns[freq.tolist().index(freq.max())]"
   ]
  },
  {
   "cell_type": "code",
   "execution_count": null,
   "metadata": {},
   "outputs": [],
   "source": [
    "(1/(1+np.log(freq))).max()"
   ]
  },
  {
   "cell_type": "code",
   "execution_count": null,
   "metadata": {},
   "outputs": [],
   "source": [
    "data = data * (1/(1+np.log(freq)))"
   ]
  },
  {
   "cell_type": "code",
   "execution_count": null,
   "metadata": {},
   "outputs": [],
   "source": [
    "data"
   ]
  },
  {
   "cell_type": "code",
   "execution_count": 3,
   "metadata": {},
   "outputs": [],
   "source": [
    "import sys\n",
    "sys.path.append('../Project_PRIM/')"
   ]
  },
  {
   "cell_type": "code",
   "execution_count": 4,
   "metadata": {},
   "outputs": [],
   "source": [
    "from my_functions import Autoencoder_test\n",
    "ae = Autoencoder_test(data)"
   ]
  },
  {
   "cell_type": "code",
   "execution_count": 12,
   "metadata": {},
   "outputs": [
    {
     "name": "stderr",
     "output_type": "stream",
     "text": [
      "100%|██████████████████████████████████████████████████████████████████████████████████| 10/10 [00:00<00:00, 12.76it/s]\n"
     ]
    }
   ],
   "source": [
    "X_test2,_ = ae.encode()"
   ]
  },
  {
   "cell_type": "code",
   "execution_count": 13,
   "metadata": {},
   "outputs": [
    {
     "data": {
      "image/png": "[encoded data removed]",
      "text/plain": [
       "<Figure size 432x288 with 1 Axes>"
      ]
     },
     "metadata": {
      "needs_background": "light"
     },
     "output_type": "display_data"
    },
    {
     "data": {
      "text/plain": [
       "(6804, 2)"
      ]
     },
     "execution_count": 13,
     "metadata": {},
     "output_type": "execute_result"
    }
   ],
   "source": [
    "plt.scatter(X_test2[:,0],X_test2[:,1])\n",
    "plt.show()\n",
    "X_test2.shape"
   ]
  },
  {
   "cell_type": "code",
   "execution_count": null,
   "metadata": {},
   "outputs": [],
   "source": []
  }
 ],
 "metadata": {
  "kernelspec": {
   "display_name": "Python 3",
   "language": "python",
   "name": "python3"
  },
  "language_info": {
   "codemirror_mode": {
    "name": "ipython",
    "version": 3
   },
   "file_extension": ".py",
   "mimetype": "text/x-python",
   "name": "python",
   "nbconvert_exporter": "python",
   "pygments_lexer": "ipython3",
   "version": "3.6.7"
  }
 },
 "nbformat": 4,
 "nbformat_minor": 2
}
