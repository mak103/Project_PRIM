{
 "cells": [
  {
   "cell_type": "code",
   "execution_count": null,
   "metadata": {
    "collapsed": true
   },
   "outputs": [],
   "source": [
    "import bson \n",
    "import json\n",
    "import numpy as np\n",
    "import pandas as pd\n",
    "import time\n",
    "import sys\n",
    "import scipy.sparse\n",
    "import pickle\n",
    "import sys\n",
    "import re\n",
    "from tqdm import tqdm_notebook as tqdm\n",
    "import time\n",
    "from mtranslate import translate\n",
    "from langdetect import detect\n",
    "from langdetect import detect_langs\n",
    "from gensim.models import word2vec"
   ]
  },
  {
   "cell_type": "code",
   "execution_count": null,
   "metadata": {
    "collapsed": true
   },
   "outputs": [],
   "source": [
    "f2 = open(\"all_top_skills_final_key.txt\",\"rb\")\n",
    "key_list = pickle.load(f2)\n",
    "f2.close()\n",
    "f2 = open(\"all_top_skills_final_fre.txt\",\"rb\")\n",
    "fre_save = pickle.load(f2)\n",
    "f2.close()\n",
    "f= file('word2vec_model_allskills', 'rb')\n",
    "word2vec=pickle.load(f)"
   ]
  },
  {
   "cell_type": "code",
   "execution_count": null,
   "metadata": {
    "collapsed": true
   },
   "outputs": [],
   "source": [
    "f2 = open(\"document_per_infor.txt\",\"rb\")\n",
    "document = pickle.load(f2)\n",
    "f2.close()"
   ]
  },
  {
   "cell_type": "code",
   "execution_count": null,
   "metadata": {
    "collapsed": true
   },
   "outputs": [],
   "source": [
    "skill_titlt = []\n",
    "for i in tqdm(range(len(data_profile))):\n",
    "#for i in tqdm(range(5000,10000)):\n",
    "    if 'skills' in (data_profile[i].keys()):\n",
    "        for skills_divided in (data_profile[i]['skills']): \n",
    "            ## data_profile[0]['skills']是个列表，所以skills_divided就代表了topskill等的字典\n",
    "             #for skills_detail in skills_divided['skills']:  ##skills_divided['skills']又是列表\n",
    "                if skills_divided['title'] not in skill_titlt:\n",
    "                    skill_titlt.append(skills_divided['title'])\n",
    "print skill_titlt\n",
    "\n",
    "cata_title = []\n",
    "for i in tqdm(range(len(data_profile))):\n",
    "    for x in data_profile[i].keys():\n",
    "        if x  not in cata_title:\n",
    "            cata_title.append(x)\n",
    "print cata_title"
   ]
  },
  {
   "cell_type": "code",
   "execution_count": null,
   "metadata": {
    "collapsed": true
   },
   "outputs": [],
   "source": [
    "title = []\n",
    "for i in tqdm(range(len(data_profile))):\n",
    "    if 'personalInformation' in data_profile[i].keys():\n",
    "        for term in data_profile[i]['personalInformation'].keys():\n",
    "            if term not in title:\n",
    "                title.append(term)\n",
    "print title\n",
    "\n",
    "title = []\n",
    "for i in tqdm(range(len(data_profile))):\n",
    "    if 'educations' in data_profile[i].keys():\n",
    "        for term in data_profile[i]['educations']:\n",
    "             for name in term.keys():\n",
    "                if name not in title:\n",
    "                    title.append(name)\n",
    "\n",
    "print title\n",
    "\n",
    "title = []\n",
    "for i in tqdm(range(len(data_profile))):\n",
    "    if 'experiences' in data_profile[i].keys():\n",
    "        for term in data_profile[i]['experiences']:\n",
    "             for name in term.keys():\n",
    "                if name not in title:\n",
    "                    title.append(name)\n",
    "\n",
    "print title"
   ]
  },
  {
   "cell_type": "code",
   "execution_count": null,
   "metadata": {
    "collapsed": true
   },
   "outputs": [],
   "source": [
    "information = []\n",
    "per_infor_chosen = [u'currentJob',u'headline',u'currentJobCompany']\n",
    "for i in tqdm(range(len(data_profile))):\n",
    "    if u'personalInformation' in data_profile[i].keys():\n",
    "        information.append('personalInformation')  \n",
    "        for term in data_profile[i]['personalInformation'].keys():\n",
    "            if term in per_infor_chosen:\n",
    "                try:\n",
    "                    lang = detect(data_profile[i]['personalInformation'][term])\n",
    "                except:\n",
    "                    lang = u'fr'\n",
    "                information[i] += ' '+ term\n",
    "                if lang != u'en':\n",
    "                    try:\n",
    "                        information[i] += ' '+ translate(data_profile[i]['personalInformation'][term].encode('utf-8'))\n",
    "                    except:\n",
    "                        information[i] += ' '+ data_profile[i]['personalInformation'][term]\n",
    "                else:\n",
    "                    information[i] += ' ' + data_profile[i]['personalInformation'][term]\n",
    "    else:\n",
    "        information.append('')  "
   ]
  },
  {
   "cell_type": "code",
   "execution_count": null,
   "metadata": {
    "collapsed": true
   },
   "outputs": [],
   "source": [
    "accomplishments=[]\n",
    "accompl_chosen_1 = [ u'projets', u'Projects', u'Project', u'projet']\n",
    "#accompl_chosen_2 = [u'publication', u'Publications',u'publications', u'Publication']\n",
    "for i in range(len(data_profile)):\n",
    "    if u'accomplishments' in data_profile[i].keys():\n",
    "        #########################################accomplishments is not a dictionnary!\n",
    "        for term in data_profile[i]['accomplishments']:\n",
    "            if term['title'] in accompl_chosen_1:\n",
    "                accomplishments.append('project')\n",
    "                ######################entry\n",
    "                for _term in term:\n",
    "                    if u'description' in _term.keys():\n",
    "                        accomplishments[i] += ' '+ 'description'\n",
    "                        try:\n",
    "                            lang = detect(_term['description'])\n",
    "                        except: \n",
    "                            lang = u'fr'\n",
    "                        if lang != u'en':\n",
    "                            try:\n",
    "                                accomplishments[i] += ' '+ translate(_term['description'].encode('utf-8'))\n",
    "                            except:\n",
    "                                accomplishments[i] += ' '+ _term['description']\n",
    "                        else:\n",
    "                            accomplishments[i] += ' ' +  _term['description']\n",
    "    else:\n",
    "        accomplishments.append('')   "
   ]
  },
  {
   "cell_type": "code",
   "execution_count": null,
   "metadata": {
    "collapsed": true
   },
   "outputs": [],
   "source": [
    "educations = []\n",
    "edu_chosen = [u'Description', u'fieldOfStudy', u'ActivitiesAndSocieties']\n",
    "for i in tqdm(range(len(data_profile))):\n",
    "    if u'educations' in data_profile[i].keys():\n",
    "        education.append('educations')\n",
    "        for term in data_profile[i]['education']:\n",
    "            for title in edu_chosen:\n",
    "                if title in term.keys():\n",
    "                        try:\n",
    "                            lang = detect(term[title])\n",
    "                        except: \n",
    "                            lang == u'fr'\n",
    "                        educations[i] += ' '+ title\n",
    "                        if lang != u'en':\n",
    "                            try:\n",
    "                                educations[i] += ' '+ translate(term[title].encode('utf-8'))\n",
    "                            except:\n",
    "                                educations[i] += ' '+ term[title]\n",
    "                        else:\n",
    "                            educations[i] += ' ' +  term[title]\n",
    "    else:\n",
    "        educations.append('')    "
   ]
  },
  {
   "cell_type": "code",
   "execution_count": null,
   "metadata": {
    "collapsed": true
   },
   "outputs": [],
   "source": [
    "experiences = []\n",
    "title_chosen = [ u'description',u'title',u'Company']\n",
    "#for i in tqdm(range(len(data_profile))):\n",
    "for i in tqdm(range(100)):\n",
    "    if u'experiences' in data_profile[i].keys():\n",
    "        experiences.append('experiences')\n",
    "        for term in data_profile[i]['experiences']:\n",
    "            for title in title_chosen:\n",
    "                if title in term.keys():\n",
    "                        try:\n",
    "                            lang = detect(term[title])\n",
    "                        except:\n",
    "                            lang = u'fr'\n",
    "                        experiences[i] += ' '+ title\n",
    "                        if lang != u'en':\n",
    "                            try:\n",
    "                                experiences[i] += ' '+ translate(term[title].encode('utf-8'))\n",
    "                            except:\n",
    "                                experiences[i] += ' '+ term[title]\n",
    "                        else:\n",
    "                            experiences[i] += ' ' +  term[title]\n",
    "    else:\n",
    "        experiences.append('')                         "
   ]
  },
  {
   "cell_type": "code",
   "execution_count": null,
   "metadata": {
    "collapsed": true
   },
   "outputs": [],
   "source": [
    "# config\n",
    "logging.basicConfig(format='%(asctime)s : %(levelname)s : %(message)s', level=logging.INFO)\n",
    "\n",
    "documents = []\n",
    "# use count as label of each row\n",
    "count = 0\n",
    "\n",
    "for line in document:\n",
    "    #title = unicode(line, 'utf-8')\n",
    "    #words = ko_title2words(title)\n",
    "    # 这里documents里的每个元素是二元组，具体可以查看函数文档\n",
    "    documents.append(gensim.models.doc2vec.TaggedDocument(words, [str(count)]))\n",
    "    count += 1\n",
    "    if count % 10000 == 0:\n",
    "        logging.info('{} has loaded...'.format(count))\n",
    "\n",
    "# train\n",
    "model = Doc2Vec(documents, dm=1, size=100, window=8, min_count=5, workers=4)\n",
    "# save model\n",
    "model.save('models/ko_d2v.model')"
   ]
  }
 ],
 "metadata": {
  "kernelspec": {
   "display_name": "Python 2",
   "language": "python",
   "name": "python2"
  },
  "language_info": {
   "codemirror_mode": {
    "name": "ipython",
    "version": 2
   },
   "file_extension": ".py",
   "mimetype": "text/x-python",
   "name": "python",
   "nbconvert_exporter": "python",
   "pygments_lexer": "ipython2",
   "version": "2.7.15"
  }
 },
 "nbformat": 4,
 "nbformat_minor": 2
}
