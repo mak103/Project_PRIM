{
 "cells": [
  {
   "cell_type": "code",
   "execution_count": 1,
   "metadata": {},
   "outputs": [
    {
     "name": "stderr",
     "output_type": "stream",
     "text": [
      "D:\\Anaconda\\lib\\site-packages\\gensim\\utils.py:1197: UserWarning: detected Windows; aliasing chunkize to chunkize_serial\n",
      "  warnings.warn(\"detected Windows; aliasing chunkize to chunkize_serial\")\n"
     ]
    }
   ],
   "source": [
    "#import sys\n",
    "#sys.path.append('...')\n",
    "from my_functions import *\n",
    "import bson "
   ]
  },
  {
   "cell_type": "code",
   "execution_count": 2,
   "metadata": {},
   "outputs": [],
   "source": [
    "with open(\"../Data/linkedin_db/skill.bson\",'rb') as f: \n",
    "    data_skill = bson.decode_all(f.read()) \n",
    "    f.close()"
   ]
  },
  {
   "cell_type": "code",
   "execution_count": 3,
   "metadata": {},
   "outputs": [],
   "source": [
    "with open(\"../Data/linkedin_db/profile.bson\",'rb') as f: \n",
    "    data_profile = bson.decode_all(f.read()) \n",
    "    f.close()"
   ]
  },
  {
   "cell_type": "code",
   "execution_count": 4,
   "metadata": {},
   "outputs": [],
   "source": [
    "pm = Profile_matching(data_profile, data_skill)\n",
    "pm.fit()"
   ]
  },
  {
   "cell_type": "code",
   "execution_count": 9,
   "metadata": {},
   "outputs": [
    {
     "name": "stdout",
     "output_type": "stream",
     "text": [
      "input profile:\n",
      "index: 15923\n",
      "['Top Skills: ', 'Consolidation', 'Management', 'Gestion de projet']\n",
      "['Other Skills: ', 'Audit', 'Analyse financière', 'Reporting financier', 'Finance d’entreprise']\n",
      "  \n",
      "matched profiles:\n",
      "index: 2418\n",
      "['Top Skills: ', 'Consolidation', 'Management', 'Audit']\n",
      "['Other Skills: ', 'Comptabilité', 'Analyse financière', \"Finance d'entreprise\", 'Reporting financier', 'Comptabilité financière']\n",
      "  \n",
      "index: 4271\n",
      "['Top Skills: ', 'Finance', 'Consolidation', \"Finance d'entreprise\"]\n",
      "['Other Skills: ', 'Gestion des risques', 'Reporting financier']\n",
      "  \n",
      "index: 7198\n",
      "['Top Skills: ', 'Comptabilité', 'Consolidation', 'Audit']\n",
      "['Other Skills: ', 'Auditing', 'Immobilier', 'Internal Controls', 'Financial Accounting', 'Accounting', 'IFRS', 'Assurance', 'Financial Audits', 'Financial Reporting', 'Corporate Tax', 'Tax', 'Internal Audit', 'External Audit', 'Financial Statements', 'Income Tax', 'US GAAP', 'Big 4', 'GAAP']\n",
      "  \n"
     ]
    }
   ],
   "source": [
    "pm.match(15923, nb_profile=3, show_other_skill=True)"
   ]
  },
  {
   "cell_type": "code",
   "execution_count": null,
   "metadata": {},
   "outputs": [],
   "source": []
  }
 ],
 "metadata": {
  "kernelspec": {
   "display_name": "Python 3",
   "language": "python",
   "name": "python3"
  },
  "language_info": {
   "codemirror_mode": {
    "name": "ipython",
    "version": 3
   },
   "file_extension": ".py",
   "mimetype": "text/x-python",
   "name": "python",
   "nbconvert_exporter": "python",
   "pygments_lexer": "ipython3",
   "version": "3.6.7"
  }
 },
 "nbformat": 4,
 "nbformat_minor": 2
}
