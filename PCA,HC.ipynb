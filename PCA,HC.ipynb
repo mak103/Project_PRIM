{
 "cells": [
  {
   "cell_type": "code",
   "execution_count": 65,
   "metadata": {},
   "outputs": [],
   "source": [
    "import bson \n",
    "import json\n",
    "import numpy as np\n",
    "import pandas as pd\n",
    "import time\n",
    "import sys\n",
    "import scipy.sparse\n",
    "import pickle\n",
    "import sys\n",
    "import re\n",
    "from tqdm import tqdm_notebook as tqdm\n",
    "import time\n",
    "from mtranslate import translate\n",
    "from langdetect import detect\n",
    "from langdetect import detect_langs\n",
    "from gensim.models import word2vec"
   ]
  },
  {
   "cell_type": "code",
   "execution_count": 66,
   "metadata": {
    "collapsed": true
   },
   "outputs": [],
   "source": [
    "from sklearn.decomposition import PCA\n",
    "from sklearn.cluster import KMeans"
   ]
  },
  {
   "cell_type": "code",
   "execution_count": 67,
   "metadata": {
    "collapsed": true
   },
   "outputs": [],
   "source": [
    "import my_functions"
   ]
  },
  {
   "cell_type": "code",
   "execution_count": null,
   "metadata": {
    "collapsed": true
   },
   "outputs": [],
   "source": [
    "f2 = open(\"all_top_skills_final_key.txt\",\"rb\")\n",
    "key_list = pickle.load(f2)\n",
    "f2.close()\n",
    "f2 = open(\"all_top_skills_final_fre.txt\",\"rb\")\n",
    "fre_save = pickle.load(f2)\n",
    "f2.close()\n",
    "f= file('word2vec_model_allskills', 'rb')\n",
    "word2vec=pickle.load(f)\n",
    "with open(\"linkedin_db/profile.bson\",'rb') as f: \n",
    "    data_profile = bson.decode_all(f.read()) \n",
    "    f.close()"
   ]
  },
  {
   "cell_type": "code",
   "execution_count": null,
   "metadata": {
    "collapsed": true
   },
   "outputs": [],
   "source": [
    "with open(\"linkedin_db/profile.bson\",'rb') as f: \n",
    "    data_profile = bson.decode_all(f.read()) \n",
    "    f.close()"
   ]
  },
  {
   "cell_type": "code",
   "execution_count": null,
   "metadata": {
    "collapsed": true
   },
   "outputs": [],
   "source": [
    "df = pd.read_csv('df_skill.csv',index_col=0)"
   ]
  },
  {
   "cell_type": "code",
   "execution_count": null,
   "metadata": {
    "collapsed": true
   },
   "outputs": [],
   "source": [
    "df.columns[df.loc[1]>0]\n",
    "df.loc[0,df.columns[df.loc[0]>0]]"
   ]
  },
  {
   "cell_type": "code",
   "execution_count": 15,
   "metadata": {},
   "outputs": [
    {
     "data": {
      "text/plain": [
       "32.52250000000001"
      ]
     },
     "execution_count": 15,
     "metadata": {},
     "output_type": "execute_result"
    }
   ],
   "source": [
    "df.loc[0].dot(df.loc[0].T)\n",
    "np.square(np.linalg.norm(df.loc[0]))"
   ]
  },
  {
   "cell_type": "code",
   "execution_count": 62,
   "metadata": {},
   "outputs": [
    {
     "name": "stdout",
     "output_type": "stream",
     "text": [
      "['Top Skills: ', u'Change Management', u'Management', u'Program Management']\n",
      "['Other Skills: ', u'Business Strategy', u'Strategy', u'Project Management', u'Defense', u'Systems Engineering', u'D\\xe9fense', u'Security', u'Aerospace', u'Strat\\xe9gie', u'Integration', u'Business Development', u'Arm\\xe9e', u'D\\xe9veloppement commercial', u'S\\xe9curit\\xe9', u'Risk Management', u'Military', u'Strat\\xe9gie commerciale', u'A\\xe9rospatiale', u'Gestion des risques', u'Ing\\xe9nierie des syst\\xe8mes', u'Gestion de projet', u'Int\\xe9gration', u'Team Leadership', u'Team Management', u\"Leadership d'\\xe9quipe\", u'French', u'Social Impact']\n"
     ]
    }
   ],
   "source": [
    "show_skill(0)"
   ]
  },
  {
   "cell_type": "code",
   "execution_count": 49,
   "metadata": {
    "collapsed": true
   },
   "outputs": [],
   "source": [
    "def Find_the_mostsimilar_profile(df,k):\n",
    "    min_value = 10000\n",
    "    for i in tqdm(range(0,k) + range(k+1,len(df))):\n",
    "        diff = df.loc[i] -  df.loc[k]\n",
    "        diff_norm = np.linalg.norm(diff)\n",
    "        if diff_norm < min_value:\n",
    "            min_value = diff_norm\n",
    "            record = i\n",
    "    return record,min_value"
   ]
  },
  {
   "cell_type": "code",
   "execution_count": 64,
   "metadata": {},
   "outputs": [
    {
     "data": {
      "application/vnd.jupyter.widget-view+json": {
       "model_id": "361c0380cefa48ae84a9e1f805dd5426",
       "version_major": 2,
       "version_minor": 0
      },
      "text/plain": [
       "A Jupyter Widget"
      ]
     },
     "metadata": {},
     "output_type": "display_data"
    },
    {
     "name": "stdout",
     "output_type": "stream",
     "text": [
      "\n"
     ]
    }
   ],
   "source": [
    "m,n=Find_the_mostsimilar_profile(df,0)"
   ]
  },
  {
   "cell_type": "code",
   "execution_count": 51,
   "metadata": {},
   "outputs": [
    {
     "data": {
      "text/plain": [
       "31830"
      ]
     },
     "execution_count": 51,
     "metadata": {},
     "output_type": "execute_result"
    }
   ],
   "source": [
    "m"
   ]
  },
  {
   "cell_type": "code",
   "execution_count": null,
   "metadata": {
    "collapsed": true
   },
   "outputs": [],
   "source": []
  }
 ],
 "metadata": {
  "kernelspec": {
   "display_name": "Python 2",
   "language": "python",
   "name": "python2"
  },
  "language_info": {
   "codemirror_mode": {
    "name": "ipython",
    "version": 2
   },
   "file_extension": ".py",
   "mimetype": "text/x-python",
   "name": "python",
   "nbconvert_exporter": "python",
   "pygments_lexer": "ipython2",
   "version": "2.7.15"
  }
 },
 "nbformat": 4,
 "nbformat_minor": 2
}
