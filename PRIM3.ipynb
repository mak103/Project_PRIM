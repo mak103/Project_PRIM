{
 "cells": [
  {
   "cell_type": "code",
   "execution_count": 1,
   "metadata": {
    "collapsed": true
   },
   "outputs": [],
   "source": [
    "import bson \n",
    "import numpy as np\n",
    "import pandas as pd\n",
    "import time\n",
    "import sys\n",
    "import scipy.sparse\n",
    "import heapq"
   ]
  },
  {
   "cell_type": "code",
   "execution_count": 2,
   "metadata": {
    "collapsed": true
   },
   "outputs": [],
   "source": [
    "with open(\"linkedin_db/profile.bson\",'rb') as f: \n",
    "    data_profile = bson.decode_all(f.read()) \n",
    "    f.close()"
   ]
  },
  {
   "cell_type": "code",
   "execution_count": 3,
   "metadata": {
    "collapsed": true
   },
   "outputs": [],
   "source": [
    "delete_word = ['de','-','et','&','des','en','du','and','/','of','la','au','in',\n",
    "                   'à','for','the',':','at','|','le','–','on','to','dans','entreprise',\n",
    "                   '»', 'En', 'as', 'un','les', 'et','pour','avec']"
   ]
  },
  {
   "cell_type": "code",
   "execution_count": 4,
   "metadata": {
    "collapsed": true
   },
   "outputs": [],
   "source": [
    "dict_tran_word = {\n",
    "    'gestion':'management',\n",
    "    'stratégie': 'strategy',\n",
    "    'd\\'équipe' : 'team',\n",
    "    'développement': 'development',\n",
    "    'commerciale' : 'commercial',\n",
    "    'réseaux': 'network',\n",
    "    'réseau':'network',\n",
    "    'networking':'network',\n",
    "    'networks'\n",
    "    'stratégique' : 'strategic',\n",
    "    'sociaux' : 'social',\n",
    "    'français':'french',\n",
    "    'négociations': 'negotiation',\n",
    "    'négociation':'negotiation',\n",
    "    'travail':'work',\n",
    "    'humaines': 'human',\n",
    "    'droit':'law',\n",
    "    'financière': 'finance',\n",
    "    'mobiles':'mobile',\n",
    "    'vente':'selling',\n",
    "    'ventes':'selling',\n",
    "    'publiques': 'public',\n",
    "    'ingénierie': 'engineering',\n",
    "    'systèmes':'system',\n",
    "    'systems':'system',\n",
    "    'sécurité':'security',\n",
    "    'd\\'énergie':'energy',\n",
    "    'énergie':'energy',\n",
    "    'énergétique':'energy',\n",
    "    'd\\'évènement': 'event',\n",
    "    'd\\'évènements':'event',\n",
    "    'média':'media',\n",
    "    'médias':'media',\n",
    "    'd\\'entreprise':'enterprise',\n",
    "    'juridique':'legal',\n",
    "    'rédaction':'writting',\n",
    "    'amélioration':'improvement',\n",
    "    'télécommunications':'telecommunications',\n",
    "    'logistique':'logistics',\n",
    "    'intégration':'integration',\n",
    "    'numérique':'digital',\n",
    "    'comptabilité':'accounting',\n",
    "    'financier':'financial',\n",
    "    'banque':'banking',\n",
    "    'agiles':'agile',\n",
    "    'espagnol':'spanish',\n",
    "    'politique':'policy',\n",
    "    'politiques':'policy',\n",
    "    'entrepreneuriat':'entrepreneurship',\n",
    "    'achats': 'purchasing',\n",
    "    'modélisation':'modeling',\n",
    "    'internationales':'internationale',\n",
    "    'contrôle':'control',\n",
    "    'controls':'control',\n",
    "    'technologies':'technology',\n",
    "    'technique':'technical',\n",
    "    'contentieux':'litigation',\n",
    "    'mécanique': 'mechanical',\n",
    "    'analyses':'analyse',\n",
    "    'qualité':'quality', \n",
    "    'utilisateur':'user',\n",
    "    'd\\'entreprise': 'entreprise',\n",
    "    'électronique': 'electronics',\n",
    "    'électrique': 'electrical',\n",
    "    'vidéo':'video',\n",
    "    'markets':'market',\n",
    "    'marché':'market',\n",
    "    'expérience':'experience',\n",
    "    'mathématiques':'mathematics',\n",
    "    'avant-vente': 'pre-sales',\n",
    "    'databases':'database',\n",
    "    'renouvelable':'renewable',\n",
    "    'projet':'project',\n",
    "    'recrutement':'recruitment',\n",
    "    'chaîne':'chain',\n",
    "    'pétrole':'oil',\n",
    "    'nucléaire':'nuclear',\n",
    "    'produits':'produit',\n",
    "    'apprentissage':'learning',\n",
    "    'embarqués':'embedded',\n",
    "    'crédit':'credit',\n",
    "    'compétences':'skills',\n",
    "    'd\\'investissement':'investment',\n",
    "    'aéronautique':'aviation',\n",
    "    'opérationnelle':'operational',\n",
    "    'opérations':'operation',\n",
    "    'globale': 'global',\n",
    "    'dérivés': 'derivatives',\n",
    "    'prévisions':'forecasting',\n",
    "    'journalisme':'journalism',\n",
    "    'histoire':'history',\n",
    "    'aménagement':'planning',\n",
    "    'aeronautics':'aerospace',\n",
    "    'création':'creation',\n",
    "    'étude':'study'\n",
    "}"
   ]
  },
  {
   "cell_type": "code",
   "execution_count": 5,
   "metadata": {},
   "outputs": [
    {
     "name": "stdout",
     "output_type": "stream",
     "text": [
      "1.29750818568548\n"
     ]
    }
   ],
   "source": [
    "skill_list = []\n",
    "start = time.clock()\n",
    "for i in range(len(data_profile)):\n",
    "    if 'skills' in data_profile[i].keys():\n",
    "        for skills in data_profile[i]['skills']:\n",
    "            if 'skills' in skills.keys():\n",
    "                for skill in skills['skills']:\n",
    "                    for item in skill['title'].split():\n",
    "                        if item.lower() in delete_word:\n",
    "                            break\n",
    "                        if item.lower() in dict_tran_word:\n",
    "                            skill_list.append(dict_tran_word.get(item.lower()))\n",
    "                        else:\n",
    "                            skill_list.append(item.lower())\n",
    "print(time.clock()-start)"
   ]
  },
  {
   "cell_type": "code",
   "execution_count": 6,
   "metadata": {},
   "outputs": [
    {
     "name": "stdout",
     "output_type": "stream",
     "text": [
      "[('management', 79853), ('microsoft', 25839), ('marketing', 24408), ('strategy', 23652), ('business', 12024), ('project', 11598), ('office', 11274), ('development', 11059), ('team', 10364), ('commercial', 8467), ('social', 7388), ('communication', 7358), ('excel', 7357), ('negotiation', 6630), ('engineering', 6379), ('change', 6262), ('french', 6059), ('anglais', 5722), ('network', 5674), ('relations', 5547), ('digital', 5247), ('service', 5189), ('finance', 5142), ('powerpoint', 5104), ('leadership', 5019), ('word', 4621), ('analysis', 4479), ('data', 4388), ('java', 4351), ('consulting', 4183), ('public', 4177), ('web', 3995), ('planification', 3971), ('sql', 3970), ('media', 3784), ('planning', 3730), ('client', 3672), ('law', 3607), ('financial', 3482), ('communications', 3334), ('it', 3334), ('analyse', 3294), ('human', 3292), ('design', 3222), ('sales', 3045), ('adobe', 3042), ('english', 3026), ('energy', 3015), ('selling', 2911), ('international', 2713), ('security', 2708), ('formation', 2574), ('mobile', 2574), ('system', 2505), ('photoshop', 2504), ('python', 2407), ('software', 2358), ('d’équipe', 2343), ('recruitment', 2333), ('banking', 2324), ('linux', 2310), ('c', 2242), ('stratégique', 2193), ('strategic', 2186), ('c++', 2095), ('corporate', 2049), ('javascript', 2037), ('market', 2036), ('recherche', 2029), ('product', 1994), ('ressources', 1990), ('telecommunications', 1982), ('event', 1960), ('matlab', 1955), ('improvement', 1934), ('integration', 1887), ('architecture', 1877), ('customer', 1835), ('work', 1835), ('research', 1824), ('risk', 1807), ('html', 1805), ('services', 1766), ('sap', 1758), ('transport', 1721), ('php', 1687), ('entreprise', 1665), ('mysql', 1640), ('process', 1599), ('learning', 1570), ('new', 1557), ('legal', 1554), ('modeling', 1511), ('logistics', 1488), ('intelligence', 1482), ('accounting', 1461), ('agile', 1455), ('enterprise', 1421), ('css', 1409), ('parler', 1369), ('oracle', 1317), ('windows', 1315), ('e-commerce', 1303), ('sourcing', 1297), ('big', 1279), ('science', 1278), ('policy', 1273), ('server', 1262), ('crm', 1244), ('chain', 1233), ('audit', 1218), ('r', 1216), ('informatique', 1180), ('entrepreneurship', 1171), ('online', 1169), ('computing', 1142), ('resources', 1136), ('cloud', 1125), ('supply', 1124), ('contract', 1118), ('control', 1110), ('advertising', 1108), ('lean', 1106), ('programmation', 1092), ('apache', 1079), ('uml', 1069), ('machine', 1066), ('analytics', 1055), ('recruiting', 1039), ('writting', 1014), ('training', 1004), ('quality', 1001), ('coaching', 978), ('spanish', 975), ('program', 973), ('html5', 956), ('publicité', 955), ('erp', 954), ('purchasing', 951), ('illustrator', 937), ('administration', 915), ('reporting', 911), ('génie', 909), ('manufacturing', 902), ('rail', 895), ('transformation', 888), ('conception', 882), ('itil', 881), ('scrum', 881), ('operations', 880), ('user', 876), ('hadoop', 863), ('c#', 839), ('xml', 830), ('technology', 829), ('spark', 825), ('manager', 817), ('internal', 816), ('google', 816), ('experience', 813), ('assurance', 808), ('indesign', 796), ('construction', 795), ('git', 793), ('innovation', 786), ('transportation', 775), ('hr', 768), ('pre-sales', 759), ('talent', 758), ('autocad', 750), ('jquery', 737), ('visual', 733), ('interne', 724), ('outsourcing', 712), ('information', 707), ('litigation', 694), ('vba', 693), ('teamwork', 690), ('unix', 689), ('technical', 686), ('méthodes', 685), ('testing', 682), ('edition', 682), ('devices', 681), ('building', 678), ('internationale', 674), ('programming', 660), ('performance', 659), ('mining', 653), ('latex', 648), ('electronics', 642), ('immobilier', 642), ('seo', 637), ('video', 637), ('embedded', 636), ('speaking', 631), ('décisionnelle', 628), ('mechanical', 623), ('wordpress', 622), ('catia', 621), ('skills', 618), ('mergers', 615), ('conseil', 608), ('android', 608), ('spring', 607), ('investment', 606), ('renewable', 601), ('community', 593), ('rh', 592), ('computer', 589), ('account', 585), ('budgets', 585), ('statistiques', 582), ('creative', 575), ('applications', 572), ('continue', 572), ('pack', 571), ('sas', 564), ('database', 546), ('produit', 546), ('framework', 534), ('acquisition', 526), ('civil', 519), ('methodologies', 516), ('credit', 516), ('employee', 515), ('mongodb', 511), ('iso', 507), ('processing', 506), ('suite', 506), ('nuclear', 505), ('angularjs', 505), ('derivatives', 503), ('production', 502), ('solidworks', 498), ('mathematics', 498), ('statistics', 495), ('étude', 495), ('retail', 493), ('organizational', 491), ('oil', 473), ('commerce', 472), ('internet', 466), ('d’évènements', 465), ('solution', 464), ('eclipse', 461), ('cisco', 461), ('access', 461), ('electrical', 456), ('coordination', 453), ('studio', 448), ('aerospace', 448), ('scala', 448), ('sciences', 444), ('r&d', 441), ('organisation', 441), ('2.0', 439), ('base', 439), ('writing', 439), ('industry', 437), ('sigma', 436), ('start-ups', 436), ('appareils', 432), ('forecasting', 431), ('shell', 430), ('power', 429), ('ip', 425), ('six', 421), ('maintenance', 419), ('enseignement', 419), ('basic', 419), ('logiciel', 416), ('pl/sql', 413), ('portfolio', 412), ('open', 411), ('infrastructure', 408), ('hibernate', 408), ('outlook', 404), ('b2b', 400), ('art', 396), ('node.js', 393), ('railway', 389), ('animation', 388), ('partnerships', 387), ('procurement', 387), ('center', 386), ('governance', 384), ('executive', 381), ('capital', 379), ('aviation', 379), ('insurance', 378), ('optimisation', 375), ('teaching', 372), ('continuous', 370), ('vmware', 363), ('direction', 361), ('secteur', 359), ('d’entreprise', 358), ('publique', 358), ('ms', 358), ('application', 355), ('optimization', 353), ('operational', 349), ('due', 347), ('.net', 346), ('entretiens', 345), ('diligence', 345), ('cross-functional', 337), ('système', 336), ('pro', 334), ('real', 333), ('global', 330), ('j2ee', 328), ('elasticsearch', 326), ('maven', 326), ('saas', 325), ('photographie', 322), ('equity', 320), ('btob', 315), ('analyste', 315), ('auditing', 314), ('brand', 313), ('simulations', 312), ('traitement', 311), ('search', 309), ('merchandising', 307), ('estate', 307), ('postgresql', 306), ('journalism', 306), ('hive', 305), ('private', 303), ('conduite', 302), ('responsable', 301), ('start-up', 300), ('algorithms', 297), ('content', 296), ('organisationnel', 295), ('voip', 293), ('economics', 293), ('sur', 291), ('physics', 291), ('bootstrap', 288), ('e-business', 286), ('approvisionnement', 286), ('docker', 282), ('twitter', 281), ('facebook', 279), ('symfony', 279), ('language', 278), ('tableau', 277), ('test', 276), ('5', 275), ('automation', 275), ('direct', 275), ('durable', 272), ('crisis', 272), ('relationship', 270), ('audits', 269), ('risque', 267), ('sharepoint', 265), ('valuation', 264), ('asp.net', 263), ('delivery', 262), ('key', 262), ('pmo', 261), ('warehouse', 260), ('environmental', 259), ('mvc', 258), ('tcp/ip', 258), ('gas', 257), ('ajax', 257), ('clients', 255), ('processus', 255), ('assessment', 254), ('satisfaction', 254), ('feuilles', 254), ('professionnel', 254), ('évaluation', 253), ('petroleum', 253), ('3d', 252), ('graphisme', 251), ('scripting', 249), ('amazon', 248), ('trading', 248), ('wireless', 248), ('nosql', 247), ('css3', 247), ('sustainable', 245), ('thinking', 245), ('asset', 243), ('travel', 243), ('chemin', 242), ('adwords', 241), ('simulation', 240), ('generation', 239), ('competitive', 239), ('gsm', 237), ('safety', 235), ('requirements', 235), ('objects', 235), ('physique', 233), ('smart', 232), ('european', 232), ('automatique', 232), ('pilotage', 232), ('statistical', 227), ('jenkins', 226), ('prospection', 226), ('branding', 226), ('virtualization', 225), ('hospitality', 224), ('budget', 224), ('sem', 224), ('tomcat', 223), ('mac', 223), ('talend', 223), ('cost', 218), ('signal', 218), ('soa', 217), ('materials', 215), ('kafka', 214), ('vhdl', 214), ('aérospatiale', 214), ('veille', 214), ('editing', 214), ('events', 214), ('hôtellerie', 213), ('os', 212), ('plan', 211), ('property', 211), ('artificial', 210), ('cash', 210), ('jira', 209), ('active', 209), ('automotive', 208), ('support', 208), ('salesforce.com', 207), ('gouvernance', 206), ('interface', 205), ('efficacité', 205), ('history', 203), ('virtualisation', 203), ('fusions', 203), ('exploration', 202), ('warehousing', 201), ('personnel', 200), ('industrial', 200), ('sens', 199), ('pricing', 199), ('ifrs', 198), ('supplier', 195), ('engagement', 195), ('manufacture', 194), ('deep', 194), ('simulink', 194), ('script', 194), ('consolidation', 193), ('sports', 192), ('assistance', 191), ('directory', 191), ('premiere', 190), ('restauration', 190), ('5s', 190), ('photography', 189), ('spss', 188), ('trade', 188), ('sociales', 188), ('mise', 187), ('union', 187), ('bloomberg', 186), ('storage', 186), ('etl', 184), ('ferroviaire', 183), ('image', 183), ('bi', 182), ('ios', 181), ('networks', 181), ('ruby', 179), ('channel', 178), ('création', 178), ('politics', 178), ('graphic', 177), ('food', 175), ('luxury', 175), ('édition', 175), ('structured', 174), ('esprit', 173), ('source', 173), ('hp', 172), ('press', 171), ('distribution', 171), ('allemand', 171), ('compensation', 170), ('relation', 170), ('firewalls', 169), ('protection', 169), ('par', 168), ('time', 168), ('télévision', 167), ('(crm)', 167)]\n"
     ]
    }
   ],
   "source": [
    "from collections import Counter\n",
    "num_feature = 500\n",
    "word_counts = Counter(skill_list)\n",
    "top_n = word_counts.most_common(num_feature)\n",
    "print(top_n)"
   ]
  },
  {
   "cell_type": "code",
   "execution_count": 7,
   "metadata": {
    "collapsed": true
   },
   "outputs": [],
   "source": [
    "feature = []\n",
    "proportion = []\n",
    "for i in top_n:\n",
    "    feature.append(i[0])\n",
    "    proportion.append(i[1])\n",
    "coff = 1./np.sqrt(proportion)"
   ]
  },
  {
   "cell_type": "code",
   "execution_count": 8,
   "metadata": {},
   "outputs": [
    {
     "name": "stdout",
     "output_type": "stream",
     "text": [
      "11.435852196228897\n"
     ]
    }
   ],
   "source": [
    "df = pd.DataFrame(data=[],index=[],columns=feature)\n",
    "start = time.clock()\n",
    "array = scipy.sparse.lil_matrix((len(data_profile), len(feature)))\n",
    "top_effect = 10\n",
    "for i in range(len(data_profile)):\n",
    "    rang = np.zeros(len(feature))\n",
    "    effect = 1\n",
    "    if 'skills' in data_profile[i].keys():\n",
    "        for skills in data_profile[i]['skills']:\n",
    "            if 'skills' in skills.keys():\n",
    "                if skills['title'] == 'Top Skills':\n",
    "                    effect = top_effect\n",
    "                else:\n",
    "                    effect = 1\n",
    "                for skill in skills['skills']:\n",
    "                    for item in skill['title'].split():\n",
    "                        if item.lower() in dict_tran_word:\n",
    "                            item = dict_tran_word.get(item.lower())\n",
    "                        if item.lower() in feature:\n",
    "                            index = feature.index(item.lower())\n",
    "                            array[i,index] = max(array[i,index],1 * effect)\n",
    "df = pd.DataFrame(data=array.A, columns=feature)\n",
    "print(time.clock()-start)"
   ]
  },
  {
   "cell_type": "code",
   "execution_count": 9,
   "metadata": {
    "collapsed": true
   },
   "outputs": [],
   "source": [
    "def match(df, index, n_output):\n",
    "    loss = 0.01\n",
    "    sample = coff * df.loc[index].values\n",
    "    if sum(sample) == 0:\n",
    "        print('This profile doesn\\'t have skill.')\n",
    "    sample = sample - loss*(sample==0)\n",
    "    score = df.values.dot(sample)\n",
    "    score = list(score)\n",
    "    max_index = heapq.nlargest(n_output, range(len(score)), score.__getitem__)\n",
    "    return max_index"
   ]
  },
  {
   "cell_type": "code",
   "execution_count": 10,
   "metadata": {
    "collapsed": true
   },
   "outputs": [],
   "source": [
    "def show_skill(index):\n",
    "    show = [[],[]]\n",
    "    show[0].append('Top Skills: ')\n",
    "    show[1].append('Other Skills: ')\n",
    "    for skills in data_profile[index]['skills']:\n",
    "        if skills['title'] == 'Top Skills':\n",
    "            for skill in skills['skills']:\n",
    "                show[0].append(skill['title'])\n",
    "        else:\n",
    "            for skill in skills['skills']:\n",
    "                show[1].append(skill['title'])\n",
    "    print(show[0])\n",
    "    print(show[1])\n",
    "    return"
   ]
  },
  {
   "cell_type": "code",
   "execution_count": 11,
   "metadata": {},
   "outputs": [
    {
     "data": {
      "text/plain": [
       "array([29101,  7012, 28872,  6728,  4626, 23714, 49146, 26374, 45840,\n",
       "       22683])"
      ]
     },
     "execution_count": 11,
     "metadata": {},
     "output_type": "execute_result"
    }
   ],
   "source": [
    "random_index = np.random.choice(len(data_profile), 10, replace=False)\n",
    "random_index"
   ]
  },
  {
   "cell_type": "markdown",
   "metadata": {},
   "source": [
    "# example on the no.31929 profile"
   ]
  },
  {
   "cell_type": "code",
   "execution_count": 12,
   "metadata": {},
   "outputs": [
    {
     "data": {
      "text/plain": [
       "[31929, 30380, 2979]"
      ]
     },
     "execution_count": 12,
     "metadata": {},
     "output_type": "execute_result"
    }
   ],
   "source": [
    "match(df, 31929, 3)"
   ]
  },
  {
   "cell_type": "code",
   "execution_count": 13,
   "metadata": {},
   "outputs": [
    {
     "name": "stdout",
     "output_type": "stream",
     "text": [
      "['Top Skills: ', 'Science actuarielle', 'Statistiques', 'R']\n",
      "['Other Skills: ', 'SAS', 'Visual Basic pour Applications (VBA)', 'Microsoft Access', 'Microsoft Office']\n"
     ]
    }
   ],
   "source": [
    "show_skill(31929)"
   ]
  },
  {
   "cell_type": "code",
   "execution_count": 14,
   "metadata": {},
   "outputs": [
    {
     "name": "stdout",
     "output_type": "stream",
     "text": [
      "['Top Skills: ', 'Statistiques', 'R', 'SAS']\n",
      "['Other Skills: ', 'VBA', 'Microsoft Excel', 'Microsoft Access']\n"
     ]
    }
   ],
   "source": [
    "show_skill(30380)"
   ]
  },
  {
   "cell_type": "code",
   "execution_count": 15,
   "metadata": {},
   "outputs": [
    {
     "name": "stdout",
     "output_type": "stream",
     "text": [
      "['Top Skills: ', 'SAS', 'Statistiques', 'R']\n",
      "['Other Skills: ', 'Finance', 'Gestion des risques', 'C++', 'Java']\n"
     ]
    }
   ],
   "source": [
    "show_skill(2979)"
   ]
  },
  {
   "cell_type": "markdown",
   "metadata": {},
   "source": [
    "# example on the no.11103 profile"
   ]
  },
  {
   "cell_type": "code",
   "execution_count": 16,
   "metadata": {},
   "outputs": [
    {
     "data": {
      "text/plain": [
       "[11103, 5067, 4865, 5022, 5035, 4632, 9972, 11133, 4581, 9776]"
      ]
     },
     "execution_count": 16,
     "metadata": {},
     "output_type": "execute_result"
    }
   ],
   "source": [
    "match(df, 11103, 10)"
   ]
  },
  {
   "cell_type": "code",
   "execution_count": 17,
   "metadata": {},
   "outputs": [
    {
     "name": "stdout",
     "output_type": "stream",
     "text": [
      "['Top Skills: ', 'Énergie', 'Microsoft Excel', 'Nuclear Engineering']\n",
      "['Other Skills: ', 'Java', 'Python', 'Nuclear Physics', 'MCNP', 'Open Office', 'DIF3D']\n"
     ]
    }
   ],
   "source": [
    "show_skill(11103)"
   ]
  },
  {
   "cell_type": "code",
   "execution_count": 18,
   "metadata": {},
   "outputs": [
    {
     "name": "stdout",
     "output_type": "stream",
     "text": [
      "['Top Skills: ', 'Ingénierie', 'Sûreté nucléaire', 'Énergie']\n",
      "['Other Skills: ', 'Management', 'démantèlement']\n"
     ]
    }
   ],
   "source": [
    "show_skill(5067)"
   ]
  },
  {
   "cell_type": "code",
   "execution_count": 19,
   "metadata": {},
   "outputs": [
    {
     "name": "stdout",
     "output_type": "stream",
     "text": [
      "['Top Skills: ', 'Ingénierie', 'Énergie', 'Nucléaire']\n",
      "['Other Skills: ', 'Satisfaction du client', 'Réactivité']\n"
     ]
    }
   ],
   "source": [
    "show_skill(4865)"
   ]
  },
  {
   "cell_type": "markdown",
   "metadata": {},
   "source": [
    "# example on the no.18436 profile"
   ]
  },
  {
   "cell_type": "code",
   "execution_count": 20,
   "metadata": {},
   "outputs": [
    {
     "data": {
      "text/plain": [
       "[7219, 18436, 38146]"
      ]
     },
     "execution_count": 20,
     "metadata": {},
     "output_type": "execute_result"
    }
   ],
   "source": [
    "match(df, 18436, 3)"
   ]
  },
  {
   "cell_type": "code",
   "execution_count": 21,
   "metadata": {},
   "outputs": [
    {
     "name": "stdout",
     "output_type": "stream",
     "text": [
      "['Top Skills: ', 'Microsoft Office', 'Management', 'Project Management']\n",
      "['Other Skills: ', 'Adobe Photoshop', 'Mac', 'Gestion de projet', \"Management d'équipe\"]\n"
     ]
    }
   ],
   "source": [
    "show_skill(18436)"
   ]
  },
  {
   "cell_type": "code",
   "execution_count": 22,
   "metadata": {},
   "outputs": [
    {
     "name": "stdout",
     "output_type": "stream",
     "text": [
      "['Top Skills: ', 'Adobe Photoshop', 'Gestion de projet', 'Microsoft Office']\n",
      "['Other Skills: ', 'Project Management', 'Marketing', 'Marketing Communications', 'Business Development', 'Photoshop', 'HTML', 'Microsoft Excel', 'Microsoft Word', 'Adobe Illustrator', 'CSS', 'Management', 'English', 'French', 'Français', 'Développement commercial', 'Stratégie commerciale', 'Communication marketing', \"Communication d'entreprise\", 'Communication visuelle', 'comunity management', 'Anglais', 'Réseaux sociaux']\n"
     ]
    }
   ],
   "source": [
    "show_skill(7219)"
   ]
  },
  {
   "cell_type": "code",
   "execution_count": 23,
   "metadata": {},
   "outputs": [
    {
     "name": "stdout",
     "output_type": "stream",
     "text": [
      "['Top Skills: ', 'Management', 'Team Management', 'Microsoft Office']\n",
      "['Other Skills: ', 'Microsoft Excel', 'Microsoft Word', 'Coaching', 'Ressources humaines', \"Gestion d'équipe\", 'Gestion des talents', 'Gestion des performances', 'Anglais']\n"
     ]
    }
   ],
   "source": [
    "show_skill(39146)"
   ]
  },
  {
   "cell_type": "markdown",
   "metadata": {},
   "source": [
    "# try to use clustering method"
   ]
  },
  {
   "cell_type": "code",
   "execution_count": 24,
   "metadata": {},
   "outputs": [
    {
     "name": "stdout",
     "output_type": "stream",
     "text": [
      "140.38147664709268\n"
     ]
    }
   ],
   "source": [
    "from sklearn.cluster import KMeans\n",
    "start = time.clock()\n",
    "kmeans = KMeans(n_clusters=100, random_state=0).fit(df)\n",
    "print(time.clock() - start)"
   ]
  },
  {
   "cell_type": "code",
   "execution_count": 25,
   "metadata": {
    "collapsed": true
   },
   "outputs": [],
   "source": [
    "index_cluster = kmeans.predict(df.values)"
   ]
  },
  {
   "cell_type": "code",
   "execution_count": 27,
   "metadata": {},
   "outputs": [],
   "source": [
    "index_each_cluster = []\n",
    "for i in range(100):\n",
    "    index_each_cluster.append([idx for idx in range(len(index_cluster)) if index_cluster[idx] == i])"
   ]
  },
  {
   "cell_type": "code",
   "execution_count": 28,
   "metadata": {},
   "outputs": [
    {
     "data": {
      "text/plain": [
       "[1040, 1086, 2529]"
      ]
     },
     "execution_count": 28,
     "metadata": {},
     "output_type": "execute_result"
    }
   ],
   "source": [
    "cluster0 = index_each_cluster[0]\n",
    "cluster0[:3]"
   ]
  },
  {
   "cell_type": "code",
   "execution_count": 29,
   "metadata": {},
   "outputs": [
    {
     "name": "stdout",
     "output_type": "stream",
     "text": [
      "['Top Skills: ', 'Finance', 'Banking', 'Retail Banking']\n",
      "['Other Skills: ', 'Risk Management', 'Credit', 'Business Strategy', 'Corporate Finance', 'Change Management', 'Sales Management', 'Financial Analysis', 'Investment Banking', 'Trade Finance', 'Structured Finance', 'Management', 'Team Management', 'Banque', \"Banque d'investissement\", 'Gestion des risques', 'Banque de détail', 'Analyse financière', \"Finance d'entreprise\", 'Gestion de projet', \"Gestion d'équipe\", 'Stratégie commerciale', 'Crédit', 'Risque de crédit', 'Gestion de portefeuille']\n"
     ]
    }
   ],
   "source": [
    "show_skill(1040)"
   ]
  },
  {
   "cell_type": "code",
   "execution_count": 30,
   "metadata": {},
   "outputs": [
    {
     "name": "stdout",
     "output_type": "stream",
     "text": [
      "['Top Skills: ', 'Retail', 'Apparel', 'Fashion']\n",
      "['Other Skills: ', 'Merchandise Planning', 'Merchandising', 'Inventory Management', 'Sports', 'Project Management', 'Operations Management', 'Event Planning', 'Project Planning', 'Excel', 'Management', 'Leadership', 'Trend']\n"
     ]
    }
   ],
   "source": [
    "show_skill(1086)"
   ]
  },
  {
   "cell_type": "code",
   "execution_count": 31,
   "metadata": {},
   "outputs": [
    {
     "name": "stdout",
     "output_type": "stream",
     "text": [
      "['Top Skills: ', 'Banking', 'Retail Banking', 'Commercial Management']\n",
      "['Other Skills: ', 'Financial Analysis', 'Credit Analysis', 'Credit', 'Investment Banking', 'Corporate Finance', 'Portfolio Management', 'Insurance', 'Financial Modeling', 'Chemistry', 'SAP', 'Team management', 'Management', 'Accountability', 'Strategic Thinking', 'English', 'Italian', 'Arabic', 'Prospection', 'Management control', 'Analyse de crédit', 'Développement commercial', 'Nego', 'Integrity', 'Outlook Vision', 'Business Accumen']\n"
     ]
    }
   ],
   "source": [
    "show_skill(2529)"
   ]
  },
  {
   "cell_type": "markdown",
   "metadata": {},
   "source": [
    "# compare with the match function I wrote"
   ]
  },
  {
   "cell_type": "code",
   "execution_count": 32,
   "metadata": {},
   "outputs": [
    {
     "data": {
      "text/plain": [
       "[1040, 6965, 6978, 7507, 30511, 2529, 3028, 34361, 24812, 3528]"
      ]
     },
     "execution_count": 32,
     "metadata": {},
     "output_type": "execute_result"
    }
   ],
   "source": [
    "match(df, 1040, 10)"
   ]
  },
  {
   "cell_type": "code",
   "execution_count": 33,
   "metadata": {},
   "outputs": [
    {
     "name": "stdout",
     "output_type": "stream",
     "text": [
      "['Top Skills: ', 'Finance', 'Banking', 'Retail Banking']\n",
      "['Other Skills: ', 'Risk Management', 'Credit', 'Business Strategy', 'Corporate Finance', 'Change Management', 'Sales Management', 'Financial Analysis', 'Investment Banking', 'Trade Finance', 'Structured Finance', 'Management', 'Team Management', 'Banque', \"Banque d'investissement\", 'Gestion des risques', 'Banque de détail', 'Analyse financière', \"Finance d'entreprise\", 'Gestion de projet', \"Gestion d'équipe\", 'Stratégie commerciale', 'Crédit', 'Risque de crédit', 'Gestion de portefeuille']\n"
     ]
    }
   ],
   "source": [
    "show_skill(1040)"
   ]
  },
  {
   "cell_type": "code",
   "execution_count": 34,
   "metadata": {},
   "outputs": [
    {
     "name": "stdout",
     "output_type": "stream",
     "text": [
      "['Top Skills: ', 'Retail Banking', 'Finance', 'HR strategy']\n",
      "['Other Skills: ', 'Corporate Banking', 'Change Management', 'Corporate Finance', 'CRM', 'Web design', 'Key Performance Indicators', 'Project Management', 'Event Planning', 'Recruiting', 'Workforce Planning', 'AML', 'Consulting', 'Learning management system', 'Microsoft PowerPoint', 'Microsoft Excel', 'Microsoft Word', 'WordPress', 'Leadership', 'Team Management', 'Public Speaking', 'Team Building', 'Teaching', 'Coaching', 'Mentoring', 'Management', 'Italian', 'Portuguese', 'Spanish', 'English', 'French', 'Business-to-Business (BtoB)', 'Audit Accounting', 'Social Networking', 'Transformation Lean', 'Digital Learning', 'Learning Engeener', 'Sourcing Engineering', 'Projet Microsoft', 'Financal Analisis', 'GPEC', 'Team Performance', 'Compliance', 'Gestion des risques', 'Ressources humaines', 'Développement organisationnel', 'Formation', 'Banque']\n"
     ]
    }
   ],
   "source": [
    "show_skill(6965)"
   ]
  },
  {
   "cell_type": "code",
   "execution_count": 35,
   "metadata": {},
   "outputs": [
    {
     "name": "stdout",
     "output_type": "stream",
     "text": [
      "['Top Skills: ', 'Retail Banking', 'Investment Banking', 'Management']\n",
      "['Other Skills: ', 'Financial Services', 'Credit Risk', 'Risk Management', 'Financial Risk', 'Management Consulting', 'Operational Risk', 'Internal Audit', 'Financial Markets', 'Marketing digital', 'Private Banking', 'Structured Finance']\n"
     ]
    }
   ],
   "source": [
    "show_skill(6978)"
   ]
  },
  {
   "cell_type": "code",
   "execution_count": 36,
   "metadata": {},
   "outputs": [
    {
     "data": {
      "text/plain": [
       "[245, 316, 561]"
      ]
     },
     "execution_count": 36,
     "metadata": {},
     "output_type": "execute_result"
    }
   ],
   "source": [
    "cluster2 = index_each_cluster[2]\n",
    "cluster2[:3]"
   ]
  },
  {
   "cell_type": "code",
   "execution_count": 37,
   "metadata": {},
   "outputs": [
    {
     "name": "stdout",
     "output_type": "stream",
     "text": [
      "['Top Skills: ', 'Management', 'Gestion de projet', 'Microsoft Excel']\n",
      "['Other Skills: ', 'Entrepreneuriat', 'Planification stratégique', 'Business Strategy', 'Marketing Strategy', 'Marketing', 'Microsoft Office', 'Microsoft Word', 'PowerPoint', 'Service client', 'Leadership', 'Formation']\n"
     ]
    }
   ],
   "source": [
    "show_skill(245)"
   ]
  },
  {
   "cell_type": "code",
   "execution_count": 38,
   "metadata": {},
   "outputs": [
    {
     "name": "stdout",
     "output_type": "stream",
     "text": [
      "['Top Skills: ', 'Microsoft Excel', 'Management', 'Leadership']\n",
      "['Other Skills: ', 'Microsoft Word', 'PowerPoint', 'Microsoft Office', 'Gestion de projet', 'Planification stratégique', 'Service client', 'Vente']\n"
     ]
    }
   ],
   "source": [
    "show_skill(316)"
   ]
  },
  {
   "cell_type": "code",
   "execution_count": 39,
   "metadata": {},
   "outputs": [
    {
     "name": "stdout",
     "output_type": "stream",
     "text": [
      "['Top Skills: ', 'Microsoft Excel', 'Microsoft PowerPoint', 'Management']\n",
      "['Other Skills: ', 'Marketing', 'Microsoft Office', 'Microsoft Word', 'Adobe Photoshop', 'Parler en public', 'Anglais', 'Travail d’équipe', 'Esprit d’équipe', 'Droit', 'Réseaux sociaux', 'Gestion de Projet', 'Analyse financière', 'Visual Basic pour Applications (VBA)', 'Espagnol']\n"
     ]
    }
   ],
   "source": [
    "show_skill(561)"
   ]
  },
  {
   "cell_type": "code",
   "execution_count": null,
   "metadata": {
    "collapsed": true
   },
   "outputs": [],
   "source": []
  }
 ],
 "metadata": {
  "kernelspec": {
   "display_name": "Python 3",
   "language": "python",
   "name": "python3"
  },
  "language_info": {
   "codemirror_mode": {
    "name": "ipython",
    "version": 3
   },
   "file_extension": ".py",
   "mimetype": "text/x-python",
   "name": "python",
   "nbconvert_exporter": "python",
   "pygments_lexer": "ipython3",
   "version": "3.5.6"
  }
 },
 "nbformat": 4,
 "nbformat_minor": 2
}
